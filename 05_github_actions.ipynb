{
  "cells": [
    {
      "cell_type": "markdown",
      "metadata": {
        "id": "view-in-github",
        "colab_type": "text"
      },
      "source": [
        "<a href=\"https://colab.research.google.com/github/annaphuongwit/ML-OPs/blob/main/05_github_actions.ipynb\" target=\"_parent\"><img src=\"https://colab.research.google.com/assets/colab-badge.svg\" alt=\"Open In Colab\"/></a>"
      ]
    },
    {
      "cell_type": "markdown",
      "metadata": {
        "id": "eI9VmxDWndnP"
      },
      "source": [
        "# Automating Your Workflow with GitHub Actions\n",
        "\n",
        "This notebook will guide you through setting up your first automated workflow using GitHub Actions. Automation is a key skill for any developer or data scientist, as it helps catch errors early and ensures your project is always in a working state.\n",
        "\n",
        "> This notebook shows how to setup a Workflow for the data formatter your instructor used in the last lesson.\n",
        "\n",
        "> If you want to follow the notebook in your own repository, make sure that the typo in the `requirements.txt` (`panda` instead of `pandas` is fixed)"
      ]
    },
    {
      "cell_type": "markdown",
      "metadata": {
        "id": "E5AT5MRRndnQ"
      },
      "source": [
        "### What are GitHub Actions?\n",
        "\n",
        "GitHub Actions is a powerful automation tool built directly into GitHub. It allows you to create custom workflows that automatically run in response to events in your repository, like when you push code or create a pull request. We'll use it for Continuous Integration (CI), which means automatically running our script to ensure it works correctly whenever we update our project.\n",
        "\n",
        "Workflows are defined in special files written in a format called YAML. Let's build ours."
      ]
    },
    {
      "cell_type": "markdown",
      "metadata": {
        "id": "-e9o8vi-ndnQ"
      },
      "source": [
        "---\n",
        "## 1.&nbsp; Create the Workflow File 📝\\\n",
        "\n",
        "GitHub needs to find your workflow files in a very specific location. You'll create this structure in your project using the VS Code file explorer.\n",
        "\n",
        "1.  In the root directory of your project, create a new folder named `.github`. (The dot at the beginning is important!)\n",
        "2.  Inside the `.github` folder, create another folder named `workflows`.\n",
        "3.  Inside the `workflows` folder, create a new file named `ci.yml`.\n",
        "\n",
        "Your project structure should now look like this:\n",
        "\n",
        "```\n",
        "project-folder/\n",
        "├── .github/\n",
        "│   └── workflows/\n",
        "│       └── ci.yml\n",
        "├── data/\n",
        "├── src/\n",
        "└── ... (other files)\n",
        "```\n",
        "4.  Open the empty `ci.yml` file. We'll add our code to it piece by piece."
      ]
    },
    {
      "cell_type": "markdown",
      "source": [
        "> **Pre-made Workflows**\n",
        ">\n",
        "> While we are building our workflow from scratch to understand each part, you should know that GitHub provides pre-made templates for common projects.\n",
        ">\n",
        "> These templates are a fantastic starting point for your own projects and can save you a lot of time. You can explore them and learn more in the [GitHub documentation on starter workflows](https://docs.github.com/en/actions/using-workflows/using-starter-workflows).\n",
        ">\n",
        "> For this lesson, however, we'll continue building ours manually to learn what each line does."
      ],
      "metadata": {
        "id": "kBS77NSQGMJR"
      }
    },
    {
      "cell_type": "markdown",
      "metadata": {
        "id": "V_Bm5ghkndnQ"
      },
      "source": [
        "---\n",
        "## 2.&nbsp; Name the Workflow and Define Triggers 🏷️\n",
        "\n",
        "Every workflow needs a name and a set of triggers that tell it when to run. Add the following code to your `ci.yml` file."
      ]
    },
    {
      "cell_type": "code",
      "execution_count": null,
      "metadata": {
        "id": "B14E3QQgndnR"
      },
      "outputs": [],
      "source": [
        "name: CI\n",
        "\n",
        "on:\n",
        "  push:\n",
        "    branches: [ main ]\n",
        "    paths:\n",
        "      - \"src/**\"\n",
        "      - \"data/**\"\n",
        "      - \"requirements.txt\"\n",
        "      - \".github/workflows/**\"\n",
        "  pull_request:\n",
        "    paths:\n",
        "      - \"src/**\"\n",
        "      - \"data/**\"\n",
        "      - \"requirements.txt\"\n",
        "      - \".github/workflows/**\""
      ]
    },
    {
      "cell_type": "markdown",
      "metadata": {
        "id": "A-I1sJ5endnR"
      },
      "source": [
        "* `name: CI`: This is simply the display name for your workflow. You'll see this name on the \"Actions\" tab of your GitHub repository.\n",
        "* `on:`: This keyword defines the trigger events.\n",
        "* `push:`: This makes the workflow run whenever someone pushes code to the repository. We've added two filters to it:\n",
        "    * `branches: [ main ]`: This specifies that the workflow should only run for pushes to the `main` branch.\n",
        "    * `paths:`: This is a crucial optimisation. The workflow will only run if the pushed commits include changes to files within these specific folders or files. The `**` is a wildcard that means \"any file or any sub-folder inside this directory.\" This prevents the workflow from running unnecessarily when you only change a file like `README.md`.\n",
        "* `pull_request:`: This trigger runs the workflow whenever a pull request is opened or updated. This is great for checking that changes work correctly before they are merged into your main branch."
      ]
    },
    {
      "cell_type": "markdown",
      "metadata": {
        "id": "AnH1u0k2ndnR"
      },
      "source": [
        "---\n",
        "## 3.&nbsp; Define the Job ⚙️\n",
        "\n",
        "A workflow is made up of one or more jobs. A job is a set of steps that execute on a virtual machine called a runner. Add the following below the `on:` section:"
      ]
    },
    {
      "cell_type": "code",
      "execution_count": null,
      "metadata": {
        "id": "l8smK2HDndnR"
      },
      "outputs": [],
      "source": [
        "jobs:\n",
        "  run-formatter:\n",
        "    runs-on: ubuntu-latest\n",
        "    timeout-minutes: 10"
      ]
    },
    {
      "cell_type": "markdown",
      "metadata": {
        "id": "gTeWmZdundnR"
      },
      "source": [
        "* `jobs:`: This keyword starts the section where we define our job(s).\n",
        "* `run-formatter:`: This is the unique name (or ID) we've given our job.\n",
        "* `runs-on: ubuntu-latest`: This tells GitHub to prepare a fresh virtual machine running the latest version of Ubuntu Linux to execute our job. This is a common and reliable choice for most projects.\n",
        "* `timeout-minutes: 10`: This is a safety feature. If the job takes longer than 10 minutes for any reason, GitHub will automatically cancel it. This prevents runaway processes from using up your free Actions minutes."
      ]
    },
    {
      "cell_type": "markdown",
      "metadata": {
        "id": "91oazitvndnR"
      },
      "source": [
        "---\n",
        "## 4.&nbsp; Add the Steps 🧱\n",
        "\n",
        "Now we'll define the individual tasks, or steps, that our job will perform. These go inside the job, indented under `steps:`."
      ]
    },
    {
      "cell_type": "markdown",
      "metadata": {
        "id": "CIHA6hP8ndnR"
      },
      "source": [
        "### 4.1. Check out repository\n",
        "The first step is always to get a copy of your code onto the runner."
      ]
    },
    {
      "cell_type": "code",
      "execution_count": null,
      "metadata": {
        "id": "lLhUKjLBndnR"
      },
      "outputs": [],
      "source": [
        "    steps:\n",
        "      - name: Check out repository\n",
        "        uses: actions/checkout@v4"
      ]
    },
    {
      "cell_type": "markdown",
      "metadata": {
        "id": "izBQLoqDndnR"
      },
      "source": [
        "* `steps:`: Starts the list of steps for the `run-formatter` job.\n",
        "* `- name: ...`: Each step starts with a hyphen (`-`) and can have a `name` that describes what it does. This name appears in the logs, making it easy to follow along.\n",
        "* `uses: actions/checkout@v4`: This is the most important part. `uses` tells the workflow to use a pre-built Action. An Action is a reusable piece of code that performs a common task.\n",
        "    * The [`actions/checkout@v4`](https://github.com/marketplace/actions/checkout) action is the official action for checking out (downloading) your repository's code onto the runner. You can find it and thousands of other actions on the [GitHub Marketplace](https://github.com/marketplace?type=actions). Visiting the action's page shows you its documentation, different versions (`@v4` is the version), and examples of how to use it."
      ]
    },
    {
      "cell_type": "markdown",
      "metadata": {
        "id": "3b40g1qDndnR"
      },
      "source": [
        "### 4.2. Set up Python\n",
        "Next, we need to install the correct version of Python on the runner."
      ]
    },
    {
      "cell_type": "code",
      "execution_count": null,
      "metadata": {
        "id": "dDUazGN7ndnR"
      },
      "outputs": [],
      "source": [
        "      - name: Set up Python\n",
        "        uses: actions/setup-python@v5\n",
        "        with:\n",
        "          python-version: \"3.11\""
      ]
    },
    {
      "cell_type": "markdown",
      "metadata": {
        "id": "I707Lso-ndnR"
      },
      "source": [
        "* `uses: actions/setup-python@v5`: We use another official action here. As its name implies, the [`setup-python`](https://github.com/marketplace/actions/setup-python) action installs a specific Python version and adds it to the system's path.\n",
        "* `with:`: This keyword allows you to provide input parameters to an action.\n",
        "* `python-version: \"3.11\"`: We're telling the `setup-python` action that we specifically need version 3.11 of Python for our script to run."
      ]
    },
    {
      "cell_type": "markdown",
      "metadata": {
        "id": "PiBgL-QIndnR"
      },
      "source": [
        "### 4.3. Install dependencies\n",
        "Just like on your local machine, you need to install the packages listed in `requirements.txt`."
      ]
    },
    {
      "cell_type": "code",
      "execution_count": null,
      "metadata": {
        "id": "tWQl_dKdndnR"
      },
      "outputs": [],
      "source": [
        "      - name: Install dependencies\n",
        "        run: |\n",
        "          python -m pip install --upgrade pip\n",
        "          pip install -r requirements.txt"
      ]
    },
    {
      "cell_type": "markdown",
      "metadata": {
        "id": "1M8Mcy-JndnR"
      },
      "source": [
        "* `run:`: This keyword is different from `uses`. It executes shell commands directly on the runner.\n",
        "* The Pipe Character (`|`): In YAML, the pipe character is called a \"Literal Block Scalar.\" It simply means that the following indented lines are treated as a single, multi-line string. This is the standard way to run a sequence of commands in a single `run` step, with each command on a new line.\n",
        "* The commands themselves should be familiar: `python -m pip install --upgrade pip` ensures you have the latest version of pip, and `pip install -r requirements.txt` installs all the project dependencies."
      ]
    },
    {
      "cell_type": "markdown",
      "metadata": {
        "id": "t1FXYsX2ndnR"
      },
      "source": [
        "### 4.4. Run the formatter script\n",
        "Finally, with the environment fully prepared, we can run our Python script."
      ]
    },
    {
      "cell_type": "code",
      "execution_count": null,
      "metadata": {
        "id": "fqa_eG_DndnS"
      },
      "outputs": [],
      "source": [
        "      - name: Run the formatter script\n",
        "        run: |\n",
        "          python src/formatter.py --input data/raw_sales_data.csv --output data/cleaned_sales_data.csv"
      ]
    },
    {
      "cell_type": "markdown",
      "metadata": {
        "id": "WP6kvZwrndnS"
      },
      "source": [
        "---\n",
        "## 5.&nbsp; The Complete Workflow File 📜\n",
        "\n",
        "When you're finished, your `ci.yml` file should look exactly like this:"
      ]
    },
    {
      "cell_type": "code",
      "execution_count": null,
      "metadata": {
        "id": "bGXiMAnBndnS"
      },
      "outputs": [],
      "source": [
        "name: CI\n",
        "\n",
        "on:\n",
        "  push:\n",
        "    branches: [ main ]\n",
        "    paths:\n",
        "      - \"src/**\"\n",
        "      - \"data/**\"\n",
        "      - \"requirements.txt\"\n",
        "      - \".github/workflows/**\"\n",
        "  pull_request:\n",
        "    paths:\n",
        "      - \"src/**\"\n",
        "      - \"data/**\"\n",
        "      - \"requirements.txt\"\n",
        "      - \".github/workflows/**\"\n",
        "\n",
        "jobs:\n",
        "  run-formatter:\n",
        "    runs-on: ubuntu-latest\n",
        "    timeout-minutes: 10\n",
        "    steps:\n",
        "      - name: Check out repository\n",
        "        uses: actions/checkout@v4\n",
        "\n",
        "      - name: Set up Python\n",
        "        uses: actions/setup-python@v5\n",
        "        with:\n",
        "          python-version: \"3.11\"\n",
        "\n",
        "      - name: Install dependencies\n",
        "        run: |\n",
        "          python -m pip install --upgrade pip\n",
        "          pip install -r requirements.txt\n",
        "\n",
        "      - name: Run the formatter script\n",
        "        run: |\n",
        "          python src/formatter.py --input data/raw_sales_data.csv --output data/cleaned_sales_data.csv"
      ]
    },
    {
      "cell_type": "markdown",
      "metadata": {
        "id": "wI1mgfqIndnS"
      },
      "source": [
        "---\n",
        "## 6.&nbsp; Pushing and Exploring the Logs ☁️\n",
        "\n",
        "Now that your file is complete, it's time to commit it and see it in action."
      ]
    },
    {
      "cell_type": "code",
      "execution_count": null,
      "metadata": {
        "id": "w91GVDyOndnS"
      },
      "outputs": [],
      "source": [
        "git add .github/workflows/ci.yml"
      ]
    },
    {
      "cell_type": "code",
      "source": [
        "git commit -m \"feat(ci): Implement data formatting pipeline\""
      ],
      "metadata": {
        "id": "2-w_OJB8yIfC"
      },
      "execution_count": null,
      "outputs": []
    },
    {
      "cell_type": "code",
      "source": [
        "git push"
      ],
      "metadata": {
        "id": "aviJJb9IyJ5a"
      },
      "execution_count": null,
      "outputs": []
    },
    {
      "cell_type": "markdown",
      "metadata": {
        "id": "2ThlxLSzndnS"
      },
      "source": [
        "Once you push, navigate to your repository on GitHub in your web browser and click on the Actions tab. You will see your new \"CI\" workflow running!\n",
        "\n",
        "Click on the workflow run that was just started by your commit. On the left, you'll see your job, `run-formatter`. Click it.\n",
        "\n",
        "You will see the list of steps you named in your YAML file. A green checkmark ✅ next to each one means it succeeded. You can click the arrow next to any step to expand it and see the detailed output, just as if you had run the commands in your own terminal. This is fantastic for checking that everything worked as expected."
      ]
    },
    {
      "cell_type": "markdown",
      "metadata": {
        "id": "G2EUSaHAndnS"
      },
      "source": [
        "---\n",
        "## 7.&nbsp; What Happens When Things Go Wrong? 💥\n",
        "\n",
        "A CI workflow isn't just to confirm success; its real power is in catching failures early. Let's intentionally break our code to see what the logs look like.\n",
        "\n",
        "1.  In VS Code, open the `src/formatter.py` script.\n",
        "2.  Find the `main` function and comment it out. Your code might look something like this:\n",
        "    ```python\n",
        "    # def main(input_path, output_path):\n",
        "         ... function logic ...\n",
        "    ```\n",
        "3.  Save the file. Now, commit and push this \"broken\" code:"
      ]
    },
    {
      "cell_type": "code",
      "execution_count": null,
      "metadata": {
        "id": "jmeVb79KndnS"
      },
      "outputs": [],
      "source": [
        "git add src/formatter.py"
      ]
    },
    {
      "cell_type": "code",
      "source": [
        "git commit -m \"break: Temporarily disable main function\""
      ],
      "metadata": {
        "id": "8gonSYjyyrS9"
      },
      "execution_count": null,
      "outputs": []
    },
    {
      "cell_type": "code",
      "source": [
        "git push"
      ],
      "metadata": {
        "id": "RApTpQyzys68"
      },
      "execution_count": null,
      "outputs": []
    },
    {
      "cell_type": "markdown",
      "metadata": {
        "id": "LPIY7xbEndnS"
      },
      "source": [
        "4.  Go back to the Actions tab on GitHub. A new workflow run will have started.\n",
        "5.  This time, you will see a ❌ next to the workflow run, instantly telling you something is wrong.\n",
        "6.  Click into the failed run and the `run-formatter` job. Find the step with the red 'X' (it will be \"Run the formatter script\") and expand it.\n",
        "7.  Instead of a success message, you will see a full Python error message and traceback. This tells you exactly what went wrong and where. This is the core value of CI: fast, automated feedback.\n",
        "8.  To fix it, simply uncomment the `main` function in your local file, commit, and push again. The workflow will re-run and go back to green."
      ]
    },
    {
      "cell_type": "markdown",
      "metadata": {
        "id": "IYbIfmfrndnS"
      },
      "source": [
        "---\n",
        "## 8.&nbsp; Challenge 😀\n",
        "\n",
        "Now it's time to apply everything you've learned to your own `sentiment-analysis-project`.\n",
        "\n",
        "Your challenge is to create a brand new GitHub Actions workflow from scratch. This workflow's job is to automatically run your `predict.py` script to ensure it can successfully load the trained model and make predictions on sample text.\n",
        "\n",
        "Use the `ci.yml` file we built together in this lesson as your guide. Think about what needs to stay the same and what needs to change.\n",
        "\n",
        "Commit your new workflow file to your repository and push it to GitHub. Can you get the green checkmark ✅ on your own project?\n",
        "\n",
        "If you can, then purposefully break your code and explore the failure ❌ logs. (Of course, when you're done, get your code in working order again 😉)."
      ]
    },
    {
      "cell_type": "code",
      "source": [],
      "metadata": {
        "id": "o37Wc76eEeU1"
      },
      "execution_count": null,
      "outputs": []
    }
  ],
  "metadata": {
    "kernelspec": {
      "display_name": "Python 3",
      "language": "python",
      "name": "python3"
    },
    "language_info": {
      "codemirror_mode": {
        "name": "ipython",
        "version": 3
      },
      "file_extension": ".py",
      "mimetype": "text/x-python",
      "name": "python",
      "nbconvert_exporter": "python",
      "pygments_lexer": "ipython3",
      "version": "3.11.5"
    },
    "colab": {
      "provenance": [],
      "include_colab_link": true
    }
  },
  "nbformat": 4,
  "nbformat_minor": 0
}