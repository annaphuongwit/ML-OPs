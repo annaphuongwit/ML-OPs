{
  "cells": [
    {
      "cell_type": "markdown",
      "metadata": {
        "id": "view-in-github",
        "colab_type": "text"
      },
      "source": [
        "<a href=\"https://colab.research.google.com/github/annaphuongwit/ML-OPs/blob/main/04a_first_fork_and_pull_requests.ipynb\" target=\"_parent\"><img src=\"https://colab.research.google.com/assets/colab-badge.svg\" alt=\"Open In Colab\"/></a>"
      ]
    },
    {
      "cell_type": "markdown",
      "id": "a4a6557c",
      "metadata": {
        "id": "a4a6557c"
      },
      "source": [
        "# How to Make Your Contribution (Your First Fork & PR!)\n",
        "\n",
        "This notebook walks you through the workflow of contributing to a GitHub project for the first time. You'll fork a repository, make changes locally, and submit a Pull Request (PR)."
      ]
    },
    {
      "cell_type": "markdown",
      "id": "cbf17480",
      "metadata": {
        "id": "cbf17480"
      },
      "source": [
        "## 1. Fork the Repository\n",
        "- Go to the repository link.\n",
        "- In the top-right corner of the page, click the **Fork** button.\n",
        "\n",
        "This creates your own personal copy of the project on your GitHub account."
      ]
    },
    {
      "cell_type": "markdown",
      "id": "6255b3dd",
      "metadata": {
        "id": "6255b3dd"
      },
      "source": [
        "## 2. Clone Your Fork Locally\n",
        "On the GitHub page of your new fork, click the green **<> Code** button and copy the SSH URL.\n",
        "\n",
        "Then, in your terminal, navigate to where you store your projects and run:"
      ]
    },
    {
      "cell_type": "code",
      "execution_count": null,
      "id": "6fb0e5bd",
      "metadata": {
        "id": "6fb0e5bd"
      },
      "outputs": [],
      "source": [
        "git clone <paste_your_fork_ssh_url_here>"
      ]
    },
    {
      "cell_type": "markdown",
      "id": "45b7985c",
      "metadata": {
        "id": "45b7985c"
      },
      "source": [
        "## 3. Create a New Branch\n",
        "Open your newly cloned project folder in VS Code (or your favorite editor).\n",
        "\n",
        "It's best practice to make your changes on a **new branch**, not on `main`."
      ]
    },
    {
      "cell_type": "code",
      "execution_count": null,
      "id": "7329418d",
      "metadata": {
        "id": "7329418d"
      },
      "outputs": [],
      "source": [
        "git switch -c fix/my-awesome-fix"
      ]
    },
    {
      "cell_type": "markdown",
      "id": "60c04c2c",
      "metadata": {
        "id": "60c04c2c"
      },
      "source": [
        "## 4. Make Your Change\n",
        "- Find something to fix or improve in the project! It could be a typo, a bug, or adding a missing file.  \n",
        "- You only need to send one or two small fixes.\n",
        "\n",
        "Save the file after making your change."
      ]
    },
    {
      "cell_type": "markdown",
      "id": "108c34b3",
      "metadata": {
        "id": "108c34b3"
      },
      "source": [
        "## 5. Commit and Push to Your Fork\n",
        "Stage and commit your change with a clear message. Then, push your new branch up to your forked repository on GitHub."
      ]
    },
    {
      "cell_type": "code",
      "execution_count": null,
      "id": "169e23b5",
      "metadata": {
        "id": "169e23b5"
      },
      "outputs": [],
      "source": [
        "git add <file-name(s)>"
      ]
    },
    {
      "cell_type": "code",
      "execution_count": null,
      "id": "dd9193ad",
      "metadata": {
        "id": "dd9193ad"
      },
      "outputs": [],
      "source": [
        "git commit -m \"feat: Describe your awesome change\""
      ]
    },
    {
      "cell_type": "code",
      "execution_count": null,
      "id": "360d8f90",
      "metadata": {
        "id": "360d8f90"
      },
      "outputs": [],
      "source": [
        "git push --set-upstream origin fix/my-awesome-fix"
      ]
    },
    {
      "cell_type": "markdown",
      "id": "7521c5d9",
      "metadata": {
        "id": "7521c5d9"
      },
      "source": [
        "## 6. Open a Pull Request (PR)\n",
        "- Go back to your forked repository page on GitHub.\n",
        "- You should see a yellow banner with a button that says **Compare & pull request**.\n",
        "- Click it, and you'll be taken to a page where you can propose merging your changes into the main class project."
      ]
    },
    {
      "cell_type": "markdown",
      "id": "7a4bdcf9",
      "metadata": {
        "id": "7a4bdcf9"
      },
      "source": [
        "# Writing a Professional PR Message\n",
        "\n",
        "A great PR message makes it easy for the project owner to understand your contribution.\n",
        "\n",
        "### Example PR\n",
        "\n",
        "**Title:**\n",
        "```\n",
        "docs(readme): Fix typo in project title\n",
        "```\n",
        "\n",
        "**Body:**\n",
        "```\n",
        "What does this PR do?\n",
        "This is a minor documentation fix that corrects a spelling error in the main H1 title of the README.md file.\n",
        "\n",
        "Changes\n",
        "- README.md: \"Formater\" → \"Formatter\"\n",
        "\n",
        "This improves the professionalism of the project's main landing page. No functional code is affected.\n",
        "```"
      ]
    }
  ],
  "metadata": {
    "kernelspec": {
      "display_name": "Python 3",
      "language": "python",
      "name": "python3"
    },
    "language_info": {
      "name": "python",
      "version": ""
    },
    "colab": {
      "provenance": [],
      "include_colab_link": true
    }
  },
  "nbformat": 4,
  "nbformat_minor": 5
}