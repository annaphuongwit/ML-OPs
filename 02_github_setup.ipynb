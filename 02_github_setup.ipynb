{
  "nbformat": 4,
  "nbformat_minor": 0,
  "metadata": {
    "colab": {
      "provenance": [],
      "include_colab_link": true
    },
    "kernelspec": {
      "name": "python3",
      "display_name": "Python 3"
    },
    "language_info": {
      "name": "python"
    }
  },
  "cells": [
    {
      "cell_type": "markdown",
      "metadata": {
        "id": "view-in-github",
        "colab_type": "text"
      },
      "source": [
        "<a href=\"https://colab.research.google.com/github/annaphuongwit/ML-OPs/blob/main/02_github_setup.ipynb\" target=\"_parent\"><img src=\"https://colab.research.google.com/assets/colab-badge.svg\" alt=\"Open In Colab\"/></a>"
      ]
    },
    {
      "cell_type": "markdown",
      "source": [
        "# Publishing and Cloning Your First Repository\n",
        "\n",
        "You've successfully mastered local version control with Git and have a `sentiment-analysis-project` with a rich commit history on your computer. You've also learned the theory behind remote repositories from the learning platform. This notebook will teach you the process to link your computer to your GitHub account.\n",
        "\n",
        "Two important things to remember:\n",
        "* The commands in this notebook should be **run in terminal**, not in this notebook.\n",
        "* You should **type out** all of the commands - **do not copy and paste**. It massively helps to build muscle memory, making the commands and their order of operations feel natural over time."
      ],
      "metadata": {
        "id": "Zcr1sxYWwZCh"
      }
    },
    {
      "cell_type": "markdown",
      "source": [
        "-----\n",
        "## 1.&nbsp; Prerequisite: Setting Up Your SSH Key 🔑\n",
        "\n",
        "Before you can communicate with GitHub, you need to prove your identity securely. An SSH key is a highly secure digital key pair that does this for you without needing a password. It's a standard tool used by professionals."
      ],
      "metadata": {
        "id": "_SMWJLmoxAY9"
      }
    },
    {
      "cell_type": "markdown",
      "source": [
        "### 1.1. Check for Existing SSH Keys\n",
        "\n",
        "First, let's check if you already have an SSH key.\n",
        "\n",
        "1.  Open your terminal - just the regular terminal, no need for VS Code - and type the following command:"
      ],
      "metadata": {
        "id": "2djZlMrTxEn4"
      }
    },
    {
      "cell_type": "code",
      "execution_count": null,
      "metadata": {
        "id": "3EouKsjXgnMe"
      },
      "outputs": [],
      "source": [
        "ls -al ~/.ssh"
      ]
    },
    {
      "cell_type": "markdown",
      "source": [
        "2.  Look for files named `id_ed25519.pub` or `id_rsa.pub`. If you see one of these, you already have a key and can skip to step 1.3."
      ],
      "metadata": {
        "id": "FWSKrSB7xXCq"
      }
    },
    {
      "cell_type": "markdown",
      "source": [
        "### 1.2. Add a SSH Key\n",
        "\n",
        "If you don't have a key, you'll need to add one. As the instructions can change often, please follow the [Github Docs instructions](https://docs.github.com/en/authentication/connecting-to-github-with-ssh/adding-a-new-ssh-key-to-your-github-account) for the latest way to add a key"
      ],
      "metadata": {
        "id": "hzB-EvXmxr0I"
      }
    },
    {
      "cell_type": "markdown",
      "source": [
        "### 1.3. Test Your SSH Connection\n",
        "\n",
        "Finally, let's verify that the connection is working.\n",
        "\n",
        "1.  Run the following command in your terminal:"
      ],
      "metadata": {
        "id": "bXoZpYPmyR6m"
      }
    },
    {
      "cell_type": "code",
      "source": [
        "ssh -T git@github.com"
      ],
      "metadata": {
        "id": "z-gIcaBNyQBg"
      },
      "execution_count": null,
      "outputs": []
    },
    {
      "cell_type": "markdown",
      "source": [
        "2.  You should see a successful authentication message that includes your GitHub username. This confirms your setup is complete.\n",
        "> If your setup is not complete, follow the GitHub Docs from step 1.2."
      ],
      "metadata": {
        "id": "pi2pjyrWyWdR"
      }
    },
    {
      "cell_type": "markdown",
      "source": [
        "---\n",
        "## 2.&nbsp; Workflow A: Publishing an Existing Local Project 🚀\n",
        "\n",
        "This workflow is for the specific situation where you've already started a project locally and want to publish it to GitHub for the first time while preserving its history."
      ],
      "metadata": {
        "id": "VYG6IqEoykde"
      }
    },
    {
      "cell_type": "markdown",
      "source": [
        "### 2.1. Create an Empty Repository on GitHub\n",
        "\n",
        "1.  On GitHub, create a New repository.\n",
        "2.  Name it `sentiment-analysis-project`.\n",
        "3.  Crucially, do not initialise it with a `README`, `.gitignore`, or `LICENSE` file. It needs to be completely empty."
      ],
      "metadata": {
        "id": "4GxmIWO6ypyJ"
      }
    },
    {
      "cell_type": "markdown",
      "source": [
        "### 2.2. Connect Your Local Repository\n",
        "\n",
        "1.  On your new GitHub repository page, find and copy the SSH URL. It will start with `git@github.com:...`.\n",
        "2.  In your terminal, navigate into your existing local `sentiment-analysis-project` folder.\n",
        "3.  Run the following command to link your local repository to the remote one:"
      ],
      "metadata": {
        "id": "VGPwIBN4yzd2"
      }
    },
    {
      "cell_type": "code",
      "source": [
        "git remote add origin <PASTE_SSH_URL_HERE>"
      ],
      "metadata": {
        "id": "oUaGN8jcyW31"
      },
      "execution_count": null,
      "outputs": []
    },
    {
      "cell_type": "markdown",
      "source": [
        "> * `git` The command-line tool for Git.\n",
        "> * `remote` A keyword telling Git you want to work with remotes. A remote is a connection to a repository stored somewhere else (e.g. on GitHub, GitLab, Bitbucket).\n",
        "> * `add` The action you want to do. In this case, you are adding a new remote connection.\n",
        "> * `origin` This is the name you give to the remote. By convention, the first (or main) remote is usually called origin, but you could call it something else (e.g. github or upstream).\n",
        "> * `<PASTE_SSH_URL_HERE>` This is a placeholder for the actual SSH URL of your remote repository.\n",
        ">\n",
        "> “Add a new remote connection called origin, and point it to this repository's SSH URL.”\n",
        "\n",
        "4.  Verify the connection was made by running:"
      ],
      "metadata": {
        "id": "Erq5vi5Gy6tv"
      }
    },
    {
      "cell_type": "code",
      "source": [
        "git remote -v"
      ],
      "metadata": {
        "id": "zRxi6HhXy7J5"
      },
      "execution_count": null,
      "outputs": []
    },
    {
      "cell_type": "markdown",
      "source": [
        "You should see your SSH URL listed for `origin`.\n",
        "\n",
        "> -v flag means verbose. It simply means you see more detail."
      ],
      "metadata": {
        "id": "GyPYlARfy-p8"
      }
    },
    {
      "cell_type": "markdown",
      "source": [
        "### 2.3. The First Push\n",
        "\n",
        "1.  Run the following command to publish your entire commit history to GitHub. Because your SSH key is configured, it should authenticate automatically."
      ],
      "metadata": {
        "id": "RQWJ1dQszBQK"
      }
    },
    {
      "cell_type": "code",
      "source": [
        "git push -u origin main"
      ],
      "metadata": {
        "id": "JHf7RXE5y-5D"
      },
      "execution_count": null,
      "outputs": []
    },
    {
      "cell_type": "markdown",
      "source": [
        "> * `git` The Git command-line tool.\n",
        "> * `push` This tells Git: “Send my local commits to a remote repository.”\n",
        "> * `-u` (short for `--set-upstream`) This links your local branch with the remote branch. After using -u once, you can later just type git push or git pull without having to write origin main each time.\n",
        "> * `origin` The name of the remote repository (the one you added earlier with git remote add origin …).\n",
        "> * `main` The name of the branch you want to push to on the remote.\n",
        ">\n",
        "> “Push my local main branch to the remote repository called origin, and set up a link so future pushes and pulls can be done with just git push or git pull.”\n",
        "\n",
        "2.  Refresh your GitHub repository page. You'll see that all your files and your complete commit history are now successfully published online."
      ],
      "metadata": {
        "id": "cBhHsCQ8zGnS"
      }
    },
    {
      "cell_type": "markdown",
      "source": [
        "-----\n",
        "## 3. Workflow B: Joining an Existing Project 📥\n",
        "\n",
        "This is the most common workflow you'll use. When you want to work on any project that already exists on GitHub, you start with `git clone`."
      ],
      "metadata": {
        "id": "JOC3DH5BzJLy"
      }
    },
    {
      "cell_type": "markdown",
      "source": [
        "### 3.1. Clone the Repository\n",
        "\n",
        "1. In your terminal, navigate to a different location (e.g., run `cd ..` to move up one level).\n",
        "2. Create a new directory `mkdir sentiment-clone-test`.\n",
        "3. Change to this directory.\n",
        "4. Using the SSH URL of the `sentiment-analysis-project` repository you just published, run the following command to download a complete, ready-to-use copy of the project:"
      ],
      "metadata": {
        "id": "gCEKv0hezM6W"
      }
    },
    {
      "cell_type": "code",
      "source": [
        "git clone <PASTE_SSH_URL_HERE>"
      ],
      "metadata": {
        "id": "KDfpQpv4zHAX"
      },
      "execution_count": null,
      "outputs": []
    },
    {
      "cell_type": "markdown",
      "source": [
        "### 3.2. Explore the Result\n",
        "\n",
        "1.  A new folder has been created. `cd` into this new directory."
      ],
      "metadata": {
        "id": "mZ_Wrruhzgzg"
      }
    },
    {
      "cell_type": "code",
      "source": [
        "cd sentiment-analysis-project"
      ],
      "metadata": {
        "id": "0YlaBiJzzhwi"
      },
      "execution_count": null,
      "outputs": []
    },
    {
      "cell_type": "markdown",
      "source": [
        "2.  Run `git log --oneline` and `git remote -v`. You'll see that the entire project history and the remote connection were set up automatically in one simple step."
      ],
      "metadata": {
        "id": "PNcVWAmAzoup"
      }
    },
    {
      "cell_type": "markdown",
      "source": [
        "---\n",
        "## 4. When to Use Each Workflow 📖\n",
        "\n",
        "It's important to know when to use each of these methods. The choice is simple and depends on one question: \"Does the code already exist on GitHub?\"\n",
        "\n",
        "### For All New Projects: Start on GitHub First (Workflow B)\n",
        "For any new project you start from scratch, the best practice is to create the repository on GitHub first.\n",
        "\n",
        "This allows you to immediately add essential files like a `.gitignore` and a `LICENSE`. Once the repository is created on the website, you then use `git clone` to create a local copy on your computer where you'll start your work.\n",
        "\n",
        "### For Joining Existing Projects: Use `git clone` (Workflow B)\n",
        "This is the workflow you'll use most of the time. If you're joining a team, contributing to an open-source project, or getting a copy of your own work on a new machine, the project code already exists on GitHub. In all these cases, you always start with `git clone`.\n",
        "\n",
        "### For Publishing an Existing Local Project: Use `git remote add` (Workflow A)\n",
        "This workflow is for one specific, less common situation: when you have already started a project locally and have an existing commit history that you now want to publish. This is what you did in this exercise to preserve the work from the previous tutorial.\n",
        "\n",
        "You've now successfully set up a professional SSH connection and learned both the standard professional workflow for starting and joining projects (`git clone`) and the specific tool for publishing an existing local one (`git remote add`)."
      ],
      "metadata": {
        "id": "w_KmmU1fzrrN"
      }
    },
    {
      "cell_type": "code",
      "source": [],
      "metadata": {
        "id": "h4K3c_lnzpTk"
      },
      "execution_count": null,
      "outputs": []
    }
  ]
}