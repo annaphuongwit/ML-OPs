{
  "nbformat": 4,
  "nbformat_minor": 0,
  "metadata": {
    "colab": {
      "provenance": [],
      "include_colab_link": true
    },
    "kernelspec": {
      "name": "python3",
      "display_name": "Python 3"
    },
    "language_info": {
      "name": "python"
    }
  },
  "cells": [
    {
      "cell_type": "markdown",
      "metadata": {
        "id": "view-in-github",
        "colab_type": "text"
      },
      "source": [
        "<a href=\"https://colab.research.google.com/github/annaphuongwit/ML-OPs/blob/main/01_git_fundamentals.ipynb\" target=\"_parent\"><img src=\"https://colab.research.google.com/assets/colab-badge.svg\" alt=\"Open In Colab\"/></a>"
      ]
    },
    {
      "cell_type": "markdown",
      "source": [
        "# Git Fundamentals\n",
        "\n",
        "Getting comfortable with version control is a significant step up in any coding journey. It helps turn messy folders into a clean, manageable project history, which is essential whether you're working alone or as part of a team. To get the most out of this tutorial, we encourage you to type out each command yourself, rather than copy-pasting. It might seem a bit slower at first, but it massively helps to build muscle memory, making the commands and their order of operations feel natural over time."
      ],
      "metadata": {
        "id": "N-j4ZvMqsbYF"
      }
    },
    {
      "cell_type": "markdown",
      "source": [
        "---\n",
        "## 1.&nbsp; Set-up 🛠️\n",
        "\n",
        "Before we can start tracking our project's progress, we first need to make sure our tools are ready and our workspace is prepared. This section covers the essential first steps, from checking that Git is properly installed to configuring it with your details and creating a brand-new repository for our project. Getting these foundational pieces in place is a quick, one-time process that ensures everything else will run smoothly."
      ],
      "metadata": {
        "id": "Vs8EY59Ls2Ri"
      }
    },
    {
      "cell_type": "markdown",
      "source": [
        "### 1.1. Check Your Tools\n",
        "\n",
        "The first step is to confirm that Git is installed and ready to go on your system.\n",
        "\n",
        "1.  Open your command line terminal.\n",
        "2.  Type the following command and press Enter. This command asks Git to report its version number."
      ],
      "metadata": {
        "id": "Enc6lCyztALw"
      }
    },
    {
      "cell_type": "code",
      "execution_count": null,
      "metadata": {
        "id": "bvksdCwZsJ1G"
      },
      "outputs": [],
      "source": [
        "git --version"
      ]
    },
    {
      "cell_type": "markdown",
      "source": [
        "3.  You should see an output like `git version 2.45.1`. The exact number doesn't matter, as long as you don't get an error like \"command not found.\""
      ],
      "metadata": {
        "id": "bIADOosotFt3"
      }
    },
    {
      "cell_type": "markdown",
      "source": [
        "### 1.2. Introduce Yourself to Git\n",
        "\n",
        "Every commit you make is stamped with your name and email, so Git needs to know who you are. This is a one-time setup on any new machine.\n",
        "\n",
        "1.  Set your username by running the following command. Replace `\"Your Name\"` with your actual name."
      ],
      "metadata": {
        "id": "a7hurM3ptLKN"
      }
    },
    {
      "cell_type": "code",
      "source": [
        "git config --global user.name \"Your Name\""
      ],
      "metadata": {
        "id": "iRhaYx_PtGGz"
      },
      "execution_count": null,
      "outputs": []
    },
    {
      "cell_type": "markdown",
      "source": [
        "2.  Next, set your email address. Replace `\"youremail@example.com\"` with your email."
      ],
      "metadata": {
        "id": "FiJ7ApxutPBP"
      }
    },
    {
      "cell_type": "code",
      "source": [
        "git config --global user.email \"youremail@example.com\""
      ],
      "metadata": {
        "id": "2y7YkIJutPeh"
      },
      "execution_count": null,
      "outputs": []
    },
    {
      "cell_type": "markdown",
      "source": [
        "3.  To verify that your information was saved correctly, you can list your configuration settings."
      ],
      "metadata": {
        "id": "lkc3Nsd6tToG"
      }
    },
    {
      "cell_type": "code",
      "source": [
        "git config --list"
      ],
      "metadata": {
        "id": "qyHyipZ1tUBo"
      },
      "execution_count": null,
      "outputs": []
    },
    {
      "cell_type": "markdown",
      "source": [
        "4.  Review the output and make sure your `user.name` and `user.email` are correct."
      ],
      "metadata": {
        "id": "YO_a0pZ9tXLN"
      }
    },
    {
      "cell_type": "markdown",
      "source": [
        "### 1.3. Create Your Project's Home\n",
        "\n",
        "Every project needs a folder. Let's create one for the sentiment analysis project we'll be building.\n",
        "\n",
        "1.  Create a new directory (folder) for your project. Let's call it `sentiment-analysis-project`."
      ],
      "metadata": {
        "id": "7yqjp_batdy7"
      }
    },
    {
      "cell_type": "code",
      "source": [
        "mkdir Documents/sentiment-analysis-project"
      ],
      "metadata": {
        "id": "hyoctbEBtXnH"
      },
      "execution_count": null,
      "outputs": []
    },
    {
      "cell_type": "markdown",
      "source": [
        "> You can change this file path to place the folder wherever works for you on your computer.\n",
        "\n",
        "2.  Navigate into your newly created directory. From now on, all commands will be run from inside this folder."
      ],
      "metadata": {
        "id": "OL8KhhALuFrG"
      }
    },
    {
      "cell_type": "code",
      "source": [
        "cd Documents/sentiment-analysis-project"
      ],
      "metadata": {
        "id": "25duA4xguMbT"
      },
      "execution_count": null,
      "outputs": []
    },
    {
      "cell_type": "markdown",
      "source": [
        "### 1.4. Bring Git into Your Project\n",
        "\n",
        "Now it's time to turn this regular folder into a Git repository, ready to track your project's history.\n",
        "\n",
        "1.  While inside the `sentiment-analysis-project` folder, type the following command:"
      ],
      "metadata": {
        "id": "yAyfja4PuUgw"
      }
    },
    {
      "cell_type": "code",
      "source": [
        "git init"
      ],
      "metadata": {
        "id": "m9xdCr_-uX-_"
      },
      "execution_count": null,
      "outputs": []
    },
    {
      "cell_type": "markdown",
      "source": [
        "2.  You will see a message like `Initialized empty Git repository in /path/to/your/sentiment-analysis-project/.git/`. This confirms that Git has successfully created its \"database\" for this project."
      ],
      "metadata": {
        "id": "6TFd1_fXud3t"
      }
    },
    {
      "cell_type": "markdown",
      "source": [
        "### 1.5. See the \"Brain\" of the Repository\n",
        "\n",
        "The `git init` command created a hidden directory called `.git`. This is where Git stores everything. Let's take a look.\n",
        "\n",
        "1.  To see this hidden directory, use the `ls -a` command, which lists all items."
      ],
      "metadata": {
        "id": "CmcSmDwqujcV"
      }
    },
    {
      "cell_type": "code",
      "source": [
        "ls -a"
      ],
      "metadata": {
        "id": "wqlO5vp6uee2"
      },
      "execution_count": null,
      "outputs": []
    },
    {
      "cell_type": "markdown",
      "source": [
        "2.  You should see `.git` in the output, alongside `.` and `..`. This `.git` folder is the repository itself. It contains all the snapshots and history. If you delete this folder, you delete your project's history. For now, we won't touch anything inside it, but it's crucial to know it's there."
      ],
      "metadata": {
        "id": "Zqq57CwDupR3"
      }
    },
    {
      "cell_type": "markdown",
      "source": [
        "---\n",
        "## 2.&nbsp; Making and Saving Changes 📝\n",
        "\n",
        "With our project now initialised, we can get to the core of version control: making and saving changes. This section will guide you through the fundamental, day-to-day cycle of creating files, reviewing modifications, and committing them to your project's history.\n",
        "\n",
        "1. Close the terminal window you've been working in.\n",
        "\n",
        "1. Open VS Code and select `File > Open Folder...` to open your `sentiment-analysis-project` directory.\n",
        "\n",
        "2. Make sure that you have the terminal in VS Code open."
      ],
      "metadata": {
        "id": "A-by_ijIuzV1"
      }
    },
    {
      "cell_type": "markdown",
      "source": [
        "### 2.1. Check Your Status\n",
        "\n",
        "The `git status` command is your main point of reference. It tells you exactly what's going on in your project. Let's see what it says about our brand-new repository.\n",
        "\n",
        "1.  In your VS Code terminal, run:"
      ],
      "metadata": {
        "id": "WKifcfE6vnEx"
      }
    },
    {
      "cell_type": "code",
      "source": [
        "git status"
      ],
      "metadata": {
        "id": "zyanE00Uusrf"
      },
      "execution_count": null,
      "outputs": []
    },
    {
      "cell_type": "markdown",
      "source": [
        "2.  The output will show:\n",
        "    ```\n",
        "    On branch main\n",
        "\n",
        "    No commits yet\n",
        "\n",
        "    nothing to commit (create/copy files and use \"git add\" to track)\n",
        "    ```\n",
        "    This is Git's way of telling you that the repository is clean and you haven't made or saved any changes yet."
      ],
      "metadata": {
        "id": "oz5Q3R-SwJHM"
      }
    },
    {
      "cell_type": "markdown",
      "source": [
        "### 2.2. Create Your First Project File\n",
        "\n",
        "A great first step in any Python project is to define its dependencies. This is done in a `requirements.txt` file.\n",
        "\n",
        "1.  In the VS Code Explorer on the left-hand side, click the \"New File\" icon.\n",
        "2.  Name the new file `requirements.txt` and press Enter.\n",
        "3.  The file will open in the editor. Copy and paste the following dependencies into it, then save the file.\n",
        "    ```\n",
        "    scikit-learn==1.7.1\n",
        "    pandas==2.2.2\n",
        "    joblib==1.2.0\n",
        "    ```\n",
        "4.  Now, switch back to your terminal and ask Git for a status update."
      ],
      "metadata": {
        "id": "-ddRyvnOwP1v"
      }
    },
    {
      "cell_type": "code",
      "source": [
        "git status"
      ],
      "metadata": {
        "id": "st0Ew9eHxPzR"
      },
      "execution_count": null,
      "outputs": []
    },
    {
      "cell_type": "markdown",
      "source": [
        "5.  The output has changed. Git now sees a new file, but it's listed as \"untracked\".\n",
        "    ```\n",
        "    On branch main\n",
        "\n",
        "    No commits yet\n",
        "\n",
        "    Untracked files:\n",
        "      (use \"git add <file>...\" to include in what will be committed)\n",
        "            requirements.txt\n",
        "\n",
        "    nothing added to commit but untracked files present (use \"git add\" to track)\n",
        "    ```"
      ],
      "metadata": {
        "id": "WRROaRAexPaw"
      }
    },
    {
      "cell_type": "markdown",
      "source": [
        "### 2.3. Review Your Changes\n",
        "\n",
        "Before you stage a file, it's a professional habit to review exactly what you've changed. The `git diff` command shows the line-by-line differences between your working directory and Git's tracking history.\n",
        "\n",
        "1.  In your terminal, run `git diff`."
      ],
      "metadata": {
        "id": "0mWEzyBMxyLT"
      }
    },
    {
      "cell_type": "code",
      "source": [
        "git diff"
      ],
      "metadata": {
        "id": "vTzgL8hiwKxI"
      },
      "execution_count": null,
      "outputs": []
    },
    {
      "cell_type": "markdown",
      "source": [
        "2.  You'll notice that this command produces no output. This is because `requirements.txt` is a new, untracked file. The `git diff` command only shows differences for files that Git is already tracking. Once we have made our first commit and then modify a file later, this command will show us the exact lines that have been added or removed.\n",
        "\n",
        "  This command will become essential later, once we start modifying files that Git is already tracking. It's your opportunity to catch typos and check your work before you prepare it for a commit."
      ],
      "metadata": {
        "id": "M53hcWr6x1EQ"
      }
    },
    {
      "cell_type": "markdown",
      "source": [
        "### 2.4. Stage Your First File\n",
        "\n",
        "Now we need to tell Git, \"I want to include this file in my next save.\" This process is called staging and you do it with the `git add` command."
      ],
      "metadata": {
        "id": "J1MysZzs1dCD"
      }
    },
    {
      "cell_type": "markdown",
      "source": [
        "![Screenshot 2025-08-22 at 14.48.53.png](data:image/png;base64,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)"
      ],
      "metadata": {
        "id": "iMAER_ahx55X"
      }
    },
    {
      "cell_type": "markdown",
      "source": [
        "1.  Stage the `requirements.txt` file."
      ],
      "metadata": {
        "id": "o_NuARoC1V1p"
      }
    },
    {
      "cell_type": "code",
      "source": [
        "git add requirements.txt"
      ],
      "metadata": {
        "id": "MLsfQMi2x5Uf"
      },
      "execution_count": null,
      "outputs": []
    },
    {
      "cell_type": "markdown",
      "source": [
        "2.  Check your status again. The file is now in the staging area, ready to be committed."
      ],
      "metadata": {
        "id": "Ycw-pdESyA9e"
      }
    },
    {
      "cell_type": "code",
      "source": [
        "git status"
      ],
      "metadata": {
        "id": "fM2Xg-8QyELX"
      },
      "execution_count": null,
      "outputs": []
    },
    {
      "cell_type": "markdown",
      "source": [
        "```\n",
        "On branch main\n",
        "\n",
        "No commits yet\n",
        "\n",
        "Changes to be committed:\n",
        "  (use \"git rm --cached <file>...\" to unstage)\n",
        "        new file:   requirements.txt\n",
        "```"
      ],
      "metadata": {
        "id": "ts3Mwy4-yKjG"
      }
    },
    {
      "cell_type": "markdown",
      "source": [
        "### 2.5. Make Your First Commit\n",
        "\n",
        "A commit is a permanent snapshot of your staged changes. It's the \"save point\" in your project's history."
      ],
      "metadata": {
        "id": "CiAX0wt4yN3O"
      }
    },
    {
      "cell_type": "markdown",
      "source": [
        "![Screenshot 2025-08-22 at 14.49.51.png](data:image/png;base64,iVBORw0KGgoAAAANSUhEUgAABNcAAAHQCAYAAACC1ow7AAABXmlDQ1BJQ0MgUHJvZmlsZQAAKJF1kL1LQmEUxn+WYR9SDRINDYJDBBZi1tBmH0TgIFZYbderaaF2ud6IaIn+gyDamqLoPxAiMBqao6DAKWhqaApcSm7nTUwtOnB4fjw873kPB9rcmmFknUAub5mx+Wnvyuqa1/VKJwP00oVP0wtGOBqNSIS6tlblEYfSh1E166B8eHLaU3rz3Lv2nM+3+t98S3UnUwWV+ZQO6YZpgSMgHN2xDMX7wh5TlhI+Upyu8YXiRI2vvjNLsRnhO+F+PaMlhZ+F/YkmP93Euex2fTe1vTuVX14UHZQeIsI8XpZFl4gRJs4Cs8z98yb0/WaGLQx2MdkgTQZLJoTFMciSEl4gj84YfuEgAekJdevfN2x4mUuYPJOvthve5hSUhqFvtuH5XuSM43BjGZqp/VzWUXEW1seDNe4pQsexbb/HwTUC1Sfb/ijadvUc2stwXfkCJvVkUoKjrrAAAABWZVhJZk1NACoAAAAIAAGHaQAEAAAAAQAAABoAAAAAAAOShgAHAAAAEgAAAESgAgAEAAAAAQAABNegAwAEAAAAAQAAAdAAAAAAQVNDSUkAAABTY3JlZW5zaG90dbIUTAAAAddpVFh0WE1MOmNvbS5hZG9iZS54bXAAAAAAADx4OnhtcG1ldGEgeG1sbnM6eD0iYWRvYmU6bnM6bWV0YS8iIHg6eG1wdGs9IlhNUCBDb3JlIDYuMC4wIj4KICAgPHJkZjpSREYgeG1sbnM6cmRmPSJodHRwOi8vd3d3LnczLm9yZy8xOTk5LzAyLzIyLXJkZi1zeW50YXgtbnMjIj4KICAgICAgPHJkZjpEZXNjcmlwdGlvbiByZGY6YWJvdXQ9IiIKICAgICAgICAgICAgeG1sbnM6ZXhpZj0iaHR0cDovL25zLmFkb2JlLmNvbS9leGlmLzEuMC8iPgogICAgICAgICA8ZXhpZjpQaXhlbFlEaW1lbnNpb24+NDY0PC9leGlmOlBpeGVsWURpbWVuc2lvbj4KICAgICAgICAgPGV4aWY6UGl4ZWxYRGltZW5zaW9uPjEyMzk8L2V4aWY6UGl4ZWxYRGltZW5zaW9uPgogICAgICAgICA8ZXhpZjpVc2VyQ29tbWVudD5TY3JlZW5zaG90PC9leGlmOlVzZXJDb21tZW50PgogICAgICA8L3JkZjpEZXNjcmlwdGlvbj4KICAgPC9yZGY6UkRGPgo8L3g6eG1wbWV0YT4KI7tQogAAQABJREFUeAHsnQecZEW1/6tnZnc2z87mQNhdNrAEyYoEAQlKUsCAKPowhyeY3l9FfT5zQsGHT8H0DJgRFRVWHggqCpIlsyxhFzbn2TAbZqf7f363p7qre/r29Mz0zHT4nv303lRVt+p773T3/fU5dRIpM4dBAAIQgAAEIAABCEAAAhCAAAQgAAEIQAACvSbQ0OsaVIAABCAAAQhAAAIQgAAEIAABCEAAAhCAAAQiAohr3AgQgAAEIAABCEAAAhCAAAQgAAEIQAACEOgjAcS1PoKjGgQgAAEIQAACEIAABCAAAQhAAAIQgAAEENe4ByAAAQhAAAIQgAAEIAABCEAAAhCAAAQg0EcCiGt9BEc1CEAAAhCAAAQgAAEIQAACEIAABCAAAQggrnEPQAACEIBAXRJIJuty2AwaAhCAAAQgAAEIQAACECgzgUTKrGCb9z/qXEdHwUPshAAEIACBPhI49ADnmof3sTLVykngEx9f6ZY/z+dcOZnSFgQgAIFPf2a623cWn3NDfidsWe72XPvqIe8GHYAABCBQSwQSY6e7xtf+tuCQmgru9Tv3dPo1lhCAAAQgAIGaI9DejvtazV1UBgQBCEAAAmkCu7dCAgIQgAAEykpgemxrhIXGouEABCAAAQhAAAIQgAAEIAABCEAAAhCAAASKE0BcK86HoxCAAAQgAAEIQAACEIAABCAAAQhAAAIQiCWAuBaLhgMQgAAEIAABCEAAAhCAAAQgAAEIQAACEChOAHGtOB+OQgACEIAABCAAAQhAAAIQgAAEIAABCEAglgDiWiwaDkAAAhCAAAQgAAEIQAACEIAABCAAAQhAoDgBxLXifDgKAQhAAAIQgAAEIAABCEAAAhCAAAQgAIFYAohrsWg4AAEIQAACEIAABCAAAQhAAAIQgAAEIACB4gQQ14rz4SgEIAABCEAAAhCAAAQgAAEIQAACEIAABGIJIK7FouEABCAAAQhAAAIQgAAEIAABCEAAAhCAAASKE0BcK86HoxCAAAQgAAEIQAACEIAABCAAAQhAAAIQiCWAuBaLhgMQgAAEIAABCEAAAhCAAAQgAAEIQAACEChOAHGtOB+OQgACEIAABCAAAQhAAAIQgAAEIAABCEAglgDiWiwaDkAAAhCAAAQgAAEIQAACEIAABCAAAQhAoDgBxLXifDgKAQhAAAIQgAAEIAABCEAAAhCAAAQgAIFYAohrsWg4AAEIQAACEIAABCAAAQhAAAIQgAAEIACB4gQQ14rz4SgEIAABCEAAAhCAAAQgAAEIQAACEIAABGIJIK7FouEABCAAAQhAAAIQgAAEIAABCEAAAhCAAASKE0BcK86HoxCAAAQgAAEIQAACEIAABCAAAQhAAAIQiCWAuBaLhgMQgAAEIAABCEAAAhCAAAQgAAEIQAACEChOAHGtOB+OQgACEIAABCAAAQhAAAIQgAAEIAABCEAglgDiWiwaDkAAAhCAAAQgAAEIQAACEIAABCAAAQhAoDgBxLXifDgKAQhAAAIQgAAEIAABCEAAAhCAAAQgAIFYAohrsWg4AAEIQAACEIAABCAAAQhAAAIQgAAEIACB4gQQ14rz4SgEIAABCEAAAhCAAAQgAAEIQAACEIAABGIJIK7FouEABCAAAQhAAAIQgAAEIAABCEAAAhCAAASKE0BcK86HoxCAAAQgAAEIQAACEIAABCAAAQhAAAIQiCWAuBaLhgMQgAAEIAABCEAAAhCAAAQgAAEIQAACEChOAHGtOB+OQgACEIAABCAAAQhAAAIQgAAEIAABCEAglgDiWiwaDkAAAhCAAAQgAAEIQAACEIAABCAAAQhAoDgBxLXifDgKAQhAAAIQgAAEIAABCEAAAhCAAAQgAIFYAohrsWg4AAEIQAACEIAABCAAAQhAAAIQgAAEIACB4gQQ14rz4SgEIAABCEAAAhCAAAQgAAEIQAACEIAABGIJIK7FouEABCAAAQhAAAIQgAAEIAABCEAAAhCAAASKE0BcK86HoxCAAAQgAAEIQAACEIAABCAAAQhAAAIQiCWAuBaLhgMQgAAEIAABCEAAAhCAAAQgAAEIQAACEChOoKn44Qo62tTo3PDhziWTzu3cVZ6ONVt7jdbu7t3O7eksT5vlaGXcGOfGj3Ou08a6em162Zt2Ewnn5s1yTuOTPb/Kuc1b0uu19P/IZucSRfThTrume/b0jp+Yzd3XuQZrV/faU8uc22X3R63a1Il2nxjHHfY3tW5DrY6ScUEAAmUmMHlKk5u7X7Mb19LoRoxIuLVr97iVKzvc6lUdbteuVElna25OuJefPs4+2hvcQw/tcIuf2FlSvUoqpI/b91482U0xHvrI+PWvN7uHbSz1Yq2tjW7MGPseZbZ2benXvl74ME4IQKCOCAwf4xJjphUdcGpnm3Pt661MaZ+TRRvjYIZAwyEXucScU6Lt1DM3u+SDP8ocC1ca9j/XubEzXKrtOZd68g/hIdYhUBYC1SOuLZiTFpz0XrT4Gec2bOofgEmtzs23Nu2LsWvb6twjT/avvXLW3nemcxLYZDvsS/pGeyPujUkwnDwhW2NCS+2JaxPGO7dwv+wYi63piWfrduO42bn1dt/s7ogvPWZU+j7zJcaMrl1xTffJ3Fnpkervav1G+6znw95fepYQgEB3AsceO9qdc+54t++srh9v8oroLeTuu7a7n1yz0a1ZYz9uFLGDDhrp3nBh+rPqoINGuP/6pP0QVGU2alSDO/4lXZ/X1vejjhpVN+LaIYeOdB//RPZBcvPmTnfJe5e7nTvtMxeDAAQgUGcEGl/xA5eYfEDPo+7c5VJbVrjUmgdd6v7vREJPz5UoUYxAYsErXGLignQREzldIXFt2CjXcNLn0mVSSbdnyY323FNBzjXFBsixqiFQxO2nwsbgBRGJYa3m1dVfazXBSW3JfNvprQr733eyN92qA4FEnoylmrzQWsY6N3tv5w4/0Lkp5q0VZ3WALjP08NYK1zMFWIEABCCQJtDUlHAf/shU974PTIkV1lRSnlwvOnq0u/zre7lzz7MfQYqY3pq9het+XzUs83+PyN+uhjH0tY9nnJH7XWz8+Eb34mPsBykMAhCAQD0SaM59T4xF0NjsEq1znLyoGl/3R9dw4mcskqrwD1axbXAgl4CJZRmL+yBOBM+Oinzi2SeDjJXyEagez7Xt7TbqLlFE3kX9tbCNbWq7hkwhrktXWLjfsPSg1qyvocEVGIo80zaYV1q+Dbfxj7CQRy31xCeTt9a8Wc4Ns30rVke7cv7bss32r7GwUCuvduXViEEAAhCocwLvfs8kd6R5ZXnbuLHT/ePv29zq1R1u+/aka21tcnPmDI/EFQlxw4Yl3AWvb3UbNuxxf/urva/WqLW3JyMvvUmTmiLH31tuqY/PjNYJje6QQ7P3g7+8L33pGHfbrfXBwI+ZJQQgAIF8AqmV95pH2rL83S4xwiKnLCwxMWGePWvYM4m9Gha+yqaw2e2St3d5VXWrxY6eCCTvvcol9jo6KpZafmdPxTkOgQEjUD3iWiiAjRzZJX700c1IP5GPHJGFGgl32c2aWCskHNXEwAoMosNCj558tsCBrl2Ndr1nWujKzKl239i6bN8ZJpzZPHThfaX9mqNt6XKtYRCAAAQgYARmWQhoGPr4p0Vb3A9/sCH6/SEf0E9/stF95NJpbvbs9K/w73jnJPfYozvd+vXFQ0Tz26mm7d9f38upG6ppcDF9PfHEsZmP08ce2+nmzm22ufMSbsH+I9z0GcPcKpt/D4MABCBQrwSST/zGpRZfHzv8xLi9XcOxH3WJWSdGZRoOusCllv/TpZ69JbYOB+IJpJ79s7H7c3wBjkBgkAh0KQ2DdLb+nEYCmHfzlFfRKBPY4kzH9Yqz0VbXezJJn8sXWOLqsb86CSgxxHMr0/PqeT1W13+GiW0YBCAAAQgUJXD0i7OhfvJU+8H/FhbW1Ig82j73mdWZpAYSXA4/oruHU9ETcrDiCZx4UnaeuUU3bHF32Tx73k4Kjvl9LCEAAQhAIEsgteV51/l/H3SpjU9ldjbMOyOzzgoEIFCdBKrHc00CyY6dWVFttH1ZLySKyUNJXkmyZSaoFPLgUl1vO61NZZUsZhLqNGeXQgwVTqi+aJ62rRbqUkrmUgmB8p5qzzuX9nkPuu2WuMCLh8X6Eh4bZpdPfZK1W331y1uTHVM2TYU2qu1888dVR3W9aS4zTeKvsFkJUbssi6QyjfY2m6r6pnbEusOybSqhgDJS+jHqPBq72IvLYJj6sM5CZKdMSp9NiR7kySZGoSljqEJJdY0LZQr1x3UsnK9Pgp3GVOhah+1H95PNyxCFrBqnDmOgtuRJ11vOOt9Y4+xDX8VSfye6r5NeSQxOrj56cdl78fnDasdfH+3TvS2vwDjTPaS/C/EYZtczMw4LCZIHYDErdv2jvzNr2/MN+5x/nxc7h+5/9dG3U6wsxyAAgVgCU6fa+2GXPf3U7py3Cb8/XG7d2un++pet7rSXpeefkeebN4lte+8zPJrqRB5O3kaMbIi8n/y23r2eW7bbdXQUeB+zYwo9nbnXMLfXzGGRp5RCU1eu6IgylspLLnwr823GLceNa3Rz9htu3nbNbvOmTvfkkp1RW74NJS2YYX3dsSPpVtg58m306AY3ffowe6tJueefs/fyPPPHNdH/8uXZ+mp3P/P42s+yrqbsZMq4+q8HdkTnyWui6GZ/+1+08QIHFy407zQbr2zLlk53773tTuGxxx+fFtxOOGGs+8XPN3X7aM1vqrEx4XRvJG3sy5ZaSFTwUTx2bKObMrXJ7bB2lYU2zuQxp+QaEyc22deVpHlI2vV7cqdbZyxLNX3ETJs2LLqfZtr9JNM509lv99jXlML3YKntUw4CEIBAQQJKbPDEdS5xzEfShyfOL1gs3JkYt5e9YR2ezkqqecO2r3apDUtcat2jYbGC64nW/ez7+iiX2rzUnl98+H4imv8tMe1Qe4aZ4FLrn0i3tWNjwTZidzaPdYmZR1u/ptvzjc23unOzS21b5VIr/mnfw/25YmtnD9i8aIkJ+7nElIPteWWKJX5Ybs+hS02EXGLPFkWeFxuaMgkNUhsW2zOQ/wyw8U1aYM979t5uYw8tMdnOESQ0SG1dYc9QRcbdnzEONz7jZxn3bcb/2bAbLrqmFi6c2rbanonXWV+NwcT9I0egSHwtNu6gpUTLPvZM1uJS29fYfbE2OMLqYBKwJ88qMolp3mNN4o/dO91sxuSsV9p0Wy8krvVmvjWFEkqwk1hUyDQn11PL4kU2Zf082P6oZZssdOTxp53b29qbaBnS9PCvb3Wyp59zbrX9QZVqmpR/P/sj8gLJ86vS3lm+/v5z0sKHtpUJNX/usPD4Q0+kRZT5s9NCjW/DLyXAiaPO0ZNJ5Nnf3rwl1OSbhCO1sdIunM/+qjI6v4SvwbBVxtiLa5p/TUJTeG4JX0p64EW3ux7MFd/C4xIGdXyifYjIC05t+euhrKTKahuarvWMKfH3k54s1m5Iz5fXk+ArUW3erMKcdU6JYsvsA2mtfUj4J0Ttj7Lk2nUuZP4+9cck1D1Q4MNaY9xvb2vL7mE/Xl9HS41DmUeffj6XXVhG94iEOZmuv+6x2faFQX+bEsRkHfZAdfdD6QQUc/dN71PGV/0N9WS6/15gH0wyCXIPPJZe538IQKDXBOSt5m1WV7in345b/u/3N7g//mGL03f/9ev8l1zn/u3NE92pp3b97QeV9913uPvCl2YEe5y76U9b3Pe/Z++Jgelt9Ljjxrg3vHGCm2DzfhWyJ57Y6b591fqCQlhYXvOGffBDU92CBfZZnGcS63597WZ3wx/b3If+Y4o7+AX2/m526UdXuqefsh8eAtPxgw5OH//0f61yj1oYbGjh8Y9futIpq+b7LTHE3Hk2qbWNJzQJcL/7bZv7zXX2XteDlav/PZym2+GTXpq9frf/bXskPj3yyA63zq7z5MlNzs/H9sD99p2tiJ1zbos7/3WtUQlll735/7a6t75tojvgwBFOc9h5e/8ly7sJbIcdPspd+MZWt/feWeHWl9dH3v127h//cKNbtSp77/rj4XKeXYOL3jLRaVnIJNR+9zsbXE9jKVSXfRCAAAR6IpDalBVaEi32XVeJDWz+tXyTMNNw/MdtXrEX26G8Dw7bk1r/uEve9XWXeu7v+VWj7cSUg1zjq34ZratM5w3vdA2Hvc01HP42+4E++57uK6dWPxB51vUo0lh/G17yn65h3pnW9wLvoyYgJpfc4JJ/+2zBcfnzORPHGo7/hGuY/wp7DijQTvt6l7zvapd87NpAOMvUTo/lhRdHO5L3fssl7/lmtJ6Ye7prPPWybMFgrfG8nwZbxtC8CDt/+cqcfdFGGcbY+LKvZ+aE67zu/EgobDj2I5Zd9sBIEIvOY2Pc86MTXMOCc1yU5MJ2KtS180+XRIeL/ZeYeohLjycRCZGdvzynWHGODSAB+9pbRRZ6qskrKt/0YD48+KIljxoJHvkWeq6FbeaX29vU91n2wB8nrKm8BIID56W9d/LrazvMaimvN4kEe9sDxCgTR8Jv1RJ6SjHVUZ/mzcoKGxIcNAl/aGF74bovE+4bPy4tRBQSxFRenlj7WJ+nmzBUzFT/kIXxgo9YSECRKCgW3kJGft9ALeU9F1rYD+3Xk6AXjLSUmBZaeFwMp5mAO39Oesy+nsqHfLWtdiRo5t9PoYim+mpPIpdEyjiTsHbQ/HjOqqd7du6s9L0Z9itcj2vf788fu/b7cUigjGtL+3Vc4y3UhtoJ+ej+O9jGo6UX1sIyEobtYSmy1vFZb82uXQUXYcjvJvMIxCAAgT4TCMUiefYcckiBz9W81qWxS5TT3Fuh91mzea6VavJyy7d3v2eyu/h9k3OENQlh4Tn2t3m/vvLVmUXDUeXx9KUvzyworOmc8jb7t4smuLe/Y5KTZ5i3MWPs/S3PRllZb/JGy7fw+CGHjnRf+OIMN29+d2FN9UaMaHCvu6DVvfx0ez8sYuXsf5HTdDs0cmRDTkbQv9yW9kiQoPWX28ybv8uU2KAnC1npvvrUZ6a7l5wwJkdYUxthOW2fc+5499FLp+YIaxIl/e9I+pp0hIUif944616Is5NOGus+9wW7FoGwttu8D+WF500i36Ufm5oRAf1+lhCAAATKQkBeXt7kbZXxuPI77dHEBDUJY4m9jrGdXZ+LKrcn+0yTmLTQNZ5xlWs46PXZiuFaKKCNbHUNJ33WNRz9gYLCmqolph3mml59rUtMfUHYSu66eYM1vvy/LevpeYWFNZU2wU3HVS7yHsttIb01fIxrPNP6fsBrssKavLV2mqOCt1GTIvFNIlWUCMLv90vzKsuYtect0RT/GeDLZJaFypZrjEH/Evsc7xrP+XH6epqnWca6rpHm3nNd2U8Ts05yibEzM0XiVhoOeZMdSt8bcQJrXF32l5eAPYFXkYWJB7w45b9NaRgTgjcoPyztC8Mi9bCvut62b/drucu9pqUFJb9XGTflVSQvGAkXEvdm2c0uMU9hbBI75CGmELQ4k/jnveYUuifPoKR5P0k42LQ5rlZ2vwSJBbOdaw3+EJevTnushRyyNUpbk3Am09hWrk0v9e1UwqS89iRSymabt5LGJzEv31Renm9eFNKTlUQNhZTquo21N7pWe1iQGCkBaahMYpY8oryo5jOq9rU/c4yJTOGhGqcPh1yfx0iM/f0pNpoDTnzEXPeP2Eh01b0l7vNmOffokqjpnP+8sOY577br8dyq9LnVrviOt/tDIa8ybUvQe+a59PaGTWnBKxIJ7Zrta/ewNyVy8CKW9oV/b9rW3448Dv39F43Dzr25zT4ArR8j7D7RMYnSEti0rvLy4CsUoqo2Zf7+07XROXcZS3Vku/19yBSeqr8P8bMuRPdPsaQTul/lTSjT30VvPELTtfgfAhAICDy5eGckXikDqOxjn5jmbryhLQr927UrfNMIKsWsyhvs6ad3Rb8t7WPhoS892d6jzBQSqTa96U/3gfvt/TGwU8zjzc/1peO//MUmd+897e755+39x0yhiheaR5uymqqvb3nrRPfwQztyhDeVUzji+8xzrLU1LZpJUFE45r/+1e6efXZ3JMgcdtjIyBvt1NPS/VO9cthrz2+NmnnOwkdvtLnKFPqqEFd57r3inJbI80sF3mzeVBvMa+oeG1++DWX/X3zMaNfcnL4Pnnlml1tm/femUOBXv2Z8dG2POHKUU2inQoRLMe8Nt2dPOkR09RoLx7R1heKKlTddF2Wh1VcOmZJr3PGP7W7Jkl0mwiUiD8Ozz26Jwm0lhH7QvAo/8L7lUUbbdI30/7r33v7OiZl2bv/bNnfLzVujdtQH9f2ss8dFQp7OJUFP2XHDsN6wPdYhAAEI9IWAPI68RWGJXaKK3+dGTzXPq6/a81VaMEo9f4dLPvIzC7e8K3qGTMw4IhKv5KElB4GG4z9mYZ2PudSaf2WayF+Rt1TkMWXPoArbTC37W1Q+Mfkgl9j7GHsdlxa5JGid/GXX+Yuz0s+rYUPmadb4sitcYp+XpPea0Je895vmOXd7FMqpUEeJSA1H/XsksKmcynfe9H5ry4TBwBqOfE+XcGhf2+WB95f/yoa5mijVsN/LTAj8kD2PjnMSmxoOe3vkxRY0EbuafOb/7Pz2XNBoTgsS+iQodlnyjq/YCe3ZqcsUEptjZRxj2G7DUe9Nb1pobnROhYPac4/Ce2W6D1LL/uo0Vl3TxIHnu9Q/L4+OFfzP7pHE7FPTh2w8qUd+XrAYOweHgD3JV5HpwVvfqPVNRw/vChENBQAvKOihX0/hEgP0QB6GM0aZRq2uTM8E23K/vEf7JYCFooPCPiWueVN4ozygJI68YEF6ni0JJBJaegpZU90lz5pAlX2I8M0WXar9hfulx6yCGqNCSSX4lcPWbbTw1qXWrqB02Rb7FVr7D5iX9pIynJGgWEhcmzwhLRL5ukuWWiyQCTneFHqpcFB5FMl7bShNIZNeXIvzvupN/5atSHsO6t4sZBLEJFJ6y2cj8UjhqvKilEirPsmLa6I9hEkMC033mBfWJMw9vNgEPbunvEmwVVu6fyUQyxQevcpEUwm6KqvjMnkMhve5hNW4Maj8tCm5AqHCOUPhWut6Kfz5BQuzf3+qp2tfzHSv6H724mR+WfXZi5NTLSRa4mT0d55f0Lanmdecf/LS31kp8yIWaIZdEIBAmoDEp+9cvd79+8XpH0b053XmWS2RMPbPf253/7yz3T3ycHcRqxA/ebMtulECunNHmQjmxbVNGyWu2WdqETvBvJq8/eynG931v8v9HNUcWV/76lp32ddmur1sPrYpU5rcMSYG/fWvWY8q1T/+JaPdVJvPy9s3/2edu/MO+4zqMoV9Khz0jDPHuYssjLXc9vfbt7lvfdPCP0zE8aZQ1tttv4TL+V1ebQp9LSSuDWX//fVSv2+7NZerBFJlhj3woBGRYCgvNHEs1TTv2te/vtatCOalC+vqvnubeRL6t/dFN26Jkmv4Mlu3piKhTYKqvAOn2jxq48c3OgmaSsIR2jHHjo76qH333dfu/ucb63I+/iQK/vxnmyKvxZNPGRs5W5/9yhZ3lV03DAIQgEA5CCRmHOkaTDjxllr6F7+aWTZKDOrybkutfdhCBC+278r2fb7LJLZ1Pn+nvUcNM4HlFNubcA0nfNJ1/uo8XyR2mfzHF02oywoxqbWP2A/7v3CJuWdkQik1j5fCFJOPX5fTjrKbRuKP9lrop0Ido3nRukqlNjxpYpG9TGxrfPWv7JnA+idhzOolH7qmq1R6kZj90sx2Ukke2ux5wJvN15Z87Ncmtj3uGl/xfXsGsrnLLMS1ZLM5zpI2psisbo649vBP7FkieIbKa7ScY8xr2qWeWuQ6//YZcygo/L0n+fBPXaPENbOGheelw1yNcyGL7iGbp02WevbWSJwrVI59g0OgYXBOU6azaF4mCQTexpi45i0KATVRTCZvKU0OL5NQ5j2vou2gTlwyA81n5k0CUyis+f1aSgh49vnsHnnqeOEjuzd3TR43vRXWNG+b5o/y881JHJJXU7mENY3jGRtHKKz5XkuMCcc4woSiMKTPlwvD8Nbal89QWPNltJTIEncsLDeQ67qPMibFsB8m8VHeg8VEKYlB3nQvxY1fAqREI28SLEPTfSzRzZu80UJhze/X8nlrR16G3saP9Wt9X4bjUBhyKKyFrWp/KKaF9cJyfl3ilwTHOGFN5RQa6v/2FTqqueMKmYTJqWkBIDosURGDAAT6TUAC1Rc/v9pt2GCfF12mEEGF1ils7vs/2MfmL5tiwtUYp/0DYZqHTN5qV1y+tpuw5s+nyefvvScrlO1jHmH5duaZ9lndZbfdujVHWPP7tZTYd+ed2bbCY31dl2ijeeRCYc23pXDEUASSJ14hlkPVf4VuSviTKQxXImG+3Wo8vXkvQ79dbKnrVkxYU12F1GpON5kSS/zoh7mCWXTA/tu6NWn3SNePSLZ97HGju81i8I+/b4/uJfG+3ATZuI9wicfe5O2GQQACECiFQEKC2Jhp3V4K30zMPtk1vvQLJhb9wLSwrs/Lju0u+YCJR6HJU2u/07r2pMzr6305wlq2qB275SP2PdmeScwSExfYa372cIE1iTuhsBYWST11o0st/n1mV+LgN2TW/Upi4av8qkv+6wc5wlrmgK1IYEs++KPMrrBetNMm8k+M2zt9XJ50MRPxK2HDnh8c5/Z8/0UlzUGWOWE/VsK+9muMeX2QeNh568djhTUVV2hoJvGBGM19eV4rXZuaD07htF2WfDhXuPT7WQ4egYH5BjyQ/Q/nSBs9Onsm77WmPRs25woY4bGc+dayX5qyDdnauECI0MTsxUzea17g0M+pcfOW+TZ6as+X80sJLAfaG6TCBWXy1HvwcUvR1f1LbbpAH/4Xr2LChkQf7/0jLcqHtvpTyUMwDLVdU/gLry/u1mS/9Gb2DdWKxtMfk7jWk/kwSpXLTyyRXzc8rlBRsfUW3lsKQ20rcg9IKJXHpa6tvN/ihDDfdk9LCVpe3FXZOIHQtxPe56oXzqXmy/il+hjnhebL6MnHe9xpn7zxCplEt/BvJeRZqDz7IACBkgk8YKGTl7x3ubvqW+uj0M6wouYKO/rFo93Fl0x23/nePu6d75oUeQ6FZfq7rvNf9+vNsWKYb18ZI70pC2RoCqncK5gEP9/7Kiyr9Vtskv1y2j13t3cLUQzbl9fcGguJlOkrRX4CiaHsvw/dVN/ixnH3Xdsz2U4V6jpnTlqMU51ipnDcOI81X++ww7p+QLUd8vQr9rHx7LO7Mv3QnHnz5tkPg4EplFj3krzfwvn6giLRqhIaeMu/l/x+lhCAAATyCTQc82HX9MY/d3s1vubXNv/YlS6x4JVZYc28szpveLc9a9n39cASM18UhTJqV6rNnCC22Q/bcWbebKk1D2WOJvY9MbNeaCVOWPNlk4t/61ejbKI585xZqGZigkU1dVlqyY1+teAyZQkNvEX1gvnHojF7Qc28rxoOfXOWi6/klwonNU+0MJTTHyr7spxjzOtc6pmbI2+/vN15mxYmat5r3uRFV8iicGDL8iqLMr2uvLdQMfYNIoHqFtdCkceHjOkhXJ5hCk3zP0X6YwIbJkIoFBKqMsri6U1hdj2ZwvO8ybMrziSI5HhNxRUM9kss8AKLRAiFAYYeSUHRPq/mT/JfqCEvrulYKFBqW2P2cRra7knI2WoCoV2mIbNAr8rcI33tTMilUBviopBeb2EYs98XLnUv+ScGeWH58FWVCT0wvRdXWDd/XR6cTzxtr2f6L8aGfxP6u5LXZzFT//zfn8qF9fPr9dSWLy9PTZ8AQn/H4d+/L6NsrN7wWvMkWEKgbAQkRMjb69KPrHTvfc/z7pofb3SPP54rdGhOLoXSXX7FzCh8tGwnL9CQJrvX5P7HHT8mmu/rvRa6eqaFc3rLd7SePt3miWlMH9VbVDhnmK8TLp8ysSt8KwuP9WW9p+yVanONhc56yxenhqr/EvXCsNzbuhIZ+H76pebg0xxo3k4qIbGByq7uIaunyshzztszNm9fMdM1C7O6TpvW9QNlkUqap0/eaS980Sj3CgsBfcc7J7l3vTv7Q47mxsMgAAEIlI2APLUUHvibC1xq1X3dmk2Mn53dZ55bPZnCRjNm4ZyxZiJVFAIaWyAt1GQOK6RTmUy7LFxXWGWqbZk/VHAZZUQNwi9z6luN5LN/ztTTfGSN5/3MvLFebd/zp2b2D/ZKTh/LMMac/m95LmczbiMp70HzaJQlphycnicvr3DDwRdm9qQU5ooNOYGev20MeRfzOrAt+6Utmvhd4oVECO9tJk8V74WldYXR6Zjml5KwFWYPDdvyp1FmTLXnTRPG92Sh2OW9ZgrV6c83dIkumhi+P20U6pP2aYL/nsx756lc/hg1kb03sfACiN+Xv9RxnbOnENr8euXaDq+vfQHvl/V0PcQqPN/CuT2fLhQqxcjfX6HQ5vf13Fp5SoTXXNeuUAhxeCYdV/iyv8Zh/bCc1ntqy5fXfSOBzWet1XLJUn/U/s4tfNoLvzr3utxfALMFWYMABMpBQHNs/eH3bdFLE8Af/eJR7rSXjYsm51f7EiuUcXP3rqS72SaLL5fNnj3cnXDiWHfAgSOic4VvmT2dY+rUrECz0UJcNWF+MdPxTZs6c7KTFivf07G2Nnsf68G2bsv2ady44PuI1Ruq/h92+EjXYvOXyRQa/NCDwY+K0d7sfwoNlbgqk+j54x9tLOodpnI9fW1QmUldIaFaf81rW00AG6/VWGtpybLzfc8vrKQWSpRxwIEjo5BXn7QjvxzbEIAABHpDIDtRfW6txLRDM3OoJR/7pUve/vncAuHW2OmZrcQ+x7nGN9yU2S60khiW9e5NjJpYqEi0L7XFvOBi5u/KVNJcYO02lY0lNYhs7F7muGLPobIRaU+paF1l8hIURPvD/5L23LDDytnE+5GF9W2H5n5LjLQEM10hsJGQZGKS3sEVQqnkDanld7rU0tus3yU8l6fP0r//wz6WYYw5nemJly+sUOHF12cywCoTbOdtH/dHo4yuickHpLctJDgZeAhmCrEy6ASqT1yTyCRBw4tqCkfUhPEZ767ggVqeXhLXdExL1fVCh0SVQl5E+d/SVa4nCwWW/Po91S31uELr5u5joX7PDYzAVmo/CpYzvt5CFn5foWWp5QrV7e++MESxlG/0/Tlf/v0QerGV0q6/r1U2p61SbsxSTlBqmfAal1gn5xoH9UusXrCYMn96cU1enZrDUEKazO/XukKPvQegtjEIQGBACWgusZsthPLPt2x1p546zr3OMjqOHp0WN86/oNX95S/behRYeupg64RGd9FFE6Pw05y3Q6so0UreTyvt1WJhgIcfkX3ICNv1XwG0L/zNKCyTv66slZViQ9X/MCT0/vt2mNgY//Vx44ZOt27dnmh+NN0DL3zhKPePwJutryxDzzElKuiN5Ytm8sQ7/3Xj3elntDif/dS3J0F19ao9Tl6G220evFNNfMMgAAEI9IZA8qEf27xl13er0rD/Oa7hpLSgprmyUja5f84E/mEN8xjLmCbyt1fJZpkxY63TxK5SLPA2i7Jt+jpdk+dHm6mu7+D+WNwyFJTC+ipv5+m8+T9cw/JXOc3vlpiQdURQQgW9nOYV27HBdZoYmXq6uMgY14Ve7Q/7WI4x9urk2cKph39mye4usB0Jl5h3unN3XmbRQ6ZvmDUEc+ElH/vV4AmP0dn5L45A/LejuBpDvd8nNfDzP8lTRcKZTA/zEtS8KavlHPuD1HO9QkP9pJE6rrC1QiGa+V40+d/gfdvhMvy2G6T0DYv0eV0CoPfGmWK/HmgMS5ZWlsAWvvnKQ7AUk4fgUFnoRaVQ3YG0fIFn6YrSRR8Jf5rvzltOW2USq3zbPS1DoSwU/IrVC8uF9YvV6emYwrQV7hqJ5nYP6W9ixep0yOxE+xuX6Vzh/GzpvfwPAQgMAgG9Td1005Zowv53vjv9i7fmvNpvv+Zonqy+dkET+3/cMmn6SeUlgGi+tAfNg+qpJbtsEvusR9hZZ7fEims7d2aFMi/+9dSnkRZ6Wik2FP2X19fhh2fFylNPG+v0KtUkzJVDXNu5026uLpOIu9Syi5ZiSfted7fNdRfau+zePOFE83Y20z17l80Vd7clL1hi95I8Mr3NnjMccc3DYAkBCPSbQPKJ613CPJASkw80dWSY09xsnYveW7jdjuz7VmrlPb0SlVKr7i/cpvZaZtGSbJg5r3jbE3gryxPNWzERz5fRMiwX1vdlUp2WFdQEInslxu3lEnsd4xIzjrDli82JpssLz5aNp37VJU1kTD7+a19zYJZhH8O+FztbWC6sX6xOD8eU1EBee+Ihhg37W+bQf/1v5AWYmHNaurYJl8lHftFDSxweLALVJ66JjJIaeHFNcy9p4nfZ1m1ZLxZtSzjZaqEoCgvVpPI+XFTHCoWEar++ZWkeLe9hpGVP81v5sqrf03xjKtMbe25VOknCXtPStZTgQILfk89WjsAWztkmrzDNDVYsbFG8Qu+x3vDob1kJlaFgWkrYb3/OKa8q3Yc+PFL3aF+TUYRCoLw1B9Pk9elN4akSRwuJ076MJjUKw1gLeYn6sr1dSjjzgvo0e3hXZlIt/XVVsoWQVW/bpzwEIJAhIAHq9DPGRSGeErHuuSf7ZT9TqMDKHXdsd29528Song5PnFjiDy8F2tKu17+hNSOsLXlyl/uCZS7dvj0rtoTVFDYaZytWZAWZMWMa3MRJTW5DMGl9fr3JU5qcylWKDUX/X2IZYP08dX3hcPALRrpJxjlMDtCXdjQ/nhdX5Rl305/sh5Y+2Ist8YYX1uTx+LnPrnbLYoS62bOLeH/04dxUgQAE6p1AysIgv+Qaz7kmApGYdVIknKSW39EdjGXazFgkoPw8s9mflSg7Z5M9R1gShFhTCGezPTt727zMr1kG0CWZdafw02EWXdURPCdkj6bXFK4ahKkqg2gxS21Z7lJdQpt9uXeJfY51DUd/KJ0B1ZxMGk78lEs+e0vGg6tYW309NtBj7E2/kua91ihxzSxx4PmW2PCHrkHLLu+6yJOv3Z6NsIogUDnfGHuDIxTGppjY5IWa9YHXmm/P75NH1ZQg/rzYw36YYTDMgunbDJd6oA/LhHXDcv1ZX2beTstWZltQONz+c+yPapC9l7I9yF3Ln2ctTBqRWzK9FWa9LHR8IPdJnPQm4auUhBW+fF+X4f2qecH6aqFgWYq4psn9X3SIcy+0Vzhuf34JyaFHWTh3ni/jlzp3KDL3dP7wb0L1yil2KVmJZyGhVl6pUyf7nprX2trsOmsQgEC/CMyb3+xee36rO/e88e4DH5rippjYVKqFYXzbgnnEfP12C7nzFs6n5feFy4MOsi/vXfad76yPFdZURAkO4mzjxs6cedb22y9eiFMb+y8Y5B8y4jretX8o+v9S8zzzpiybDz+8o6TXli1pb0J9TfJilm+nL8tnnrbPoS5buLDv1+XAg7J1f/ubzbHCmk5V7F7yfWEJAQhAoDcE5FWWevpPmSoNx300I5RkdtpKat0jmc3EVPsuH4YqZo70YaWhySWmvqBoxcSk/bPHzYMutTV4Dt2+xqU2L+06buLXeHsmLWLpzKLpZ9aons8OWqRO9pBlzXzu767zuteZgOejeeyc0w7LFil1Td53QbRVYsyM+JqDOsb4buhIatlfzVnItACzyKtv9smW8MHCZLssaaHFWOUQKP1bcuX0Oe255vsT/pyqMNB8i0JD907vDcvK+y3OJJBNNU8Y2TR7aNfDen64aPpoupwPCy23iODPoeXyVWmvutl7pfdKUNh/v3QmSIkkQ22bjZkPy9vX3qw2mwBSyLNJIZn7zhya3mpOrplTs+fWvRGKS9kj5V1TaKeul0wil+6nQmx0XGLRdLvn9DQiDzd5YXnTtq617jeJxWpr3UZ/NHcpzvvYdfD3vL9Hw1K6p+V16IUwiaKhF2JYVuttdn4vqonlkqX5JbLbYdZO1Sun+bDPWV330dx90zx0DrEOQ2nLeV7agkAdEpCgkXnbsWyJb7hwgvv6FWt7fOs87vjRGWdSYVuxwjx48+z557P7Jk5scppTbZOJX4VsapDtsdgcaHtbtsdp04uHvDz00A73ohfZ+53ZBa+f4B781w6nLJf5NnZsQzR3XP7+od4ezP7PN3F15l5pnnrr/dIX1kTzqZXC4AzL2nrRm9M/ap540lj3m+s293jfFGt3yZP2Q02X7W/i2owZw9zKldl7yB/TcvjwhDvn3PHRvH+bN3c6iWjepk3L3h+d9htbnCkUWV53GAQgAIFyE0jeeblrNK81hfolWvczT6QLXDIv22Nq41NpjzB5hpn3V2LumS715O9juxIJLpqvzCb9Tz7w/aKeXQ2Hv8N1KkNpIDZlGk40uobD357ZTGcWzf2MTK2820S1WVEZZazsvPXSTPn8lZyMllYvxywjaMM+x0fPY8mnboz3gLMEDEoSkZh+RFQ9YYkWcnuU02rhDfP+S7UtjXhHBSQwKrlDjJVtjDHtl7zbppxS2GfDiz8UVWk88TPmVZiO2kutedAyvz5cclMUHHgC9pRehabQy3xRRA/U3pslHJL25T9sq25PnmtesJLYMcsELR9yFratEEMJSd42bfFrA7NU+NtTy2zsXc0r1HWhCWxDOX+ZH6nEP28SYPbbxz4I8rRbhYvOn50OG/VlB2OpayihaU6XyKpz6vquMJ6DYZqE32dkjRJTzCp8VvXzoPnOzTABUOKVrm9oCmsO5xTUfenDo8Ny8miU4OSFNY1V85QVsjDcc7I9BBXzhpTHmDd5gRbyhtNxtTPJhD9vYT2/r7/LtevT11DthPP8SbjEIACBshGQ99Ftlv3R24uPGe3+85PTYrNnyltNmSLf8lZ7H+iyey2UtFBIoNoOs2eeZAJMnK0KRJSXnz6u4EfyzJnD3Cetb4U+rsN2r7s2K7SoztvfMalb6OcEE/ouef+UaFL+sG4lrA9m/086OXtNHjZRUuGYpdrtf9sWzb2n8lOnNrkDDsh6jJXaRljuSQsHfuAB+/5npiQEH/7oVDeqwHx4I0Y0uA/9xxT36tcoYcE4d4rdj+E9EQpyJ508JmorPI/W1cbHbI4/9RuDAAQgUG4CKfNESj74o0yzDUf9u73xdP0Q7/cqFPS+q/yWazzhUy4xaWFmO7uScKrfYMclZDUc+uYekx9oLrOGYyWI2TNDnjUc9Z4cz7Dk/d/NK2GPosv+ltmXWHC2S8w7I7MdriTm5x4L66lcw/6vsn5/2jWYYNR41vfszT37mRO248bOCMZuobXPZc+fU66njY1LMiUarG/OvPjiLOxrf8YY135v9icfv87CeM0hQtYlrGk1+dBPtMAqiED8HVVBnezWFYkFCucbbUq+t1B08Pv8coN5/4ShiPIwi/McUh2FsC1+xrkFJlxJbJDQoXC+teYlJDFCopHak1eb/8Ym8ULhmwNta7pEhXmz0ufW3FML5zr3+FPFxzTQ/ZInoLysFLIq8wKL9kvIFD8vBHlh1LNL1+j7/5rb69ADuteX6KiQ4VB88aWeXZ4b5uj3D8RSKemesV9GFsxJty5GwxekhTJ5STZb/8caH3l7eQ8zCWnLV3fvzTPPpb3bdP9pHrdD7UN27Ya0N6f+LlrsQ2m8vYYHoU4SEQsJz2o9vGaau/DIg9PzBkrAVUIFibk+o6o8/SSi7jU93S8JpRNtLPJS9PMUjjdB0HswqpTKq165TSG98trzHqZqX3+3oadfuc9JexCoUwI//cnGKDxu31np95WDDh7pvnnVPlE2RYUJKkunvHzkeaYwSk2A700C2k+usb/VGPvH37c7eTjJXmdZRU84YYxbs8Z+Xbbtpc/ucj//mX2umN1wwxanSehlp71snJs5c7i79c9bI8+lKSaA7L//CHfMsaNdS0tj9Jblf1uIKuT9p4nw77Q54SQUyl5i5zzu+DHu6ad2uWftnAusrX33TY81/faXst8quj+A5DU7aJuD1X8JWMd0MdLgbg1E1lIGu3Vr0t1jiQQ8ZyU2ePTRrPdZKW3kl/ned9e7y6/YKxLE5Ln2xS/PiK7lffe121ezhJs9p9mddda4aC491dXXDd1//muH9mmutlNPGxf9/jTHyn/N2rv+d5vdc8s63IiRieheUoZTeUHq+he7l9QeBgEIQKAvBCRaaYJ6Z15YEkwaXnixS/7tszlNJR/8oQlXZ6XnG2tqdo2v+L5LWrbM1LO32nPMRtu/wCUWnpcrhj3yc5cq4pHllHxPc5dZFsqG/V7mUs//3aXWPGRJFg5yib2Psedrex7pstTKe21C/Tv8ZmaZWnqbCX/fdg1HvNP2JVzjKZe51By1dbude3k6fNE80hKzT8nUUXnVCy35xG/TWS9NWExMO9Q1XXCjE5fU2ofsmdueeScfYPsPj/op7z2Z+uq22bNNHyy5ZJFr3O/lUc2E9a/pjX92KQluJmS63dtc518+aQ4R9txqVq4xRo31979dbS655I+uYeGrsi0pdPWZm7LbrFUEAVMeqtQ0j1Uorm1MfwEvOBoJb/Ly8VYsJNSX2WiCwZPPpAURiUDyUpud/qP2RTJLhes98XTWkyZzYIBWJCpISJlvYo3EPwkqB8yzDCv25lBMNByg7mSaXfJsWojxgoe4SQQKhU2JRk8YVwkzfpL/TAN9XBGD8F4o1oxEmaeWmuBj13cwTaLPiBXO7W0edOqvxEa9CpmSLDxm91M4x5kvJ6FO11nXW1zFWLzN2a2gydvxeRO44kzCs47v3SWYSagcby9vqh96fmruPwmA8q6TSUgLxbT03vT/qhvOFRgeK8e6PAL9vab2lOggfIIqxzloAwIQcJov7TOfXuXe897J7ogj0p+DEhz2snBBveJMHkJfu2xtbOie6l3z440mYgxzB5tgJ5tugolesgMPHJER1ySkKbnChW+cEL3tad6scO6sqIL9p0yPEk/e+KYJflfB5TeuXOc055u87GR6W9P8cnp5kzh0xeVr3cWXTHatrVnB0B8fyuVg9P9om/hfoqnMC2W9HbOumxfXXnT0aPf9723ImfOut+2ts+t7+dfWune/Z5IbbyLudAsBPu9V46NXflsK9f2uzc935532fTEwhSh/4XOrozkElaxC8wjKezHfOjpS7upvrXcXv89+SMUgAAEIlJuAiTjJu77uGk76XNRywwGvdalHf2kJA57MnsnCNpP/9wHXcMpX0hlGLcmAyjm9upl5dNnk98m/f7HbkXBHqm2ZS/3rh67hJf9p073YZ+r8V0SvsIzWUxY22vl/H8zfndlO3n2lOTBYBstDLor2Jeac4vQqZBIJo/L5B7etcp1/fIdrPPPqqC/qT8OxH8kvldmW0Nd584cz271dSVkihOS933INR74nXdWETYWYekuYN2EYZlmWMfrG+7lMPfIzc6jJimtRhtBCYb39PA/V+0egesW1yOPGvjzLO0liU7G5ouRVozIKY5Motd7WSzGJcvIIk5DQMk7CfK5JqJHXkMSJOFFLHkM6p765hyF4uS3lbklUkfCienEeR75v82alRSoJLarjQ1N37HBujD0ExbXR0/HcHnX13byU5E5QSPRRec3hJU8nzbE1scXOb31SKKj6oFBeiTQK29P1CE1t9tZ2WRuea1xdHdc1kqCn80tQi5sLzrfheanfYp9/XcPjCvVU+6WaPNHUB4Wn6np5LzVfX+dbaXwkGuk8cSaB7VET2PaZkb6n88NvVU/3wQo7XykJNnT/6ppKpNU95OdV00/2hRIRyOtvp/VVGTq9N2LYV93nq9enr3W4P1wP77/8+yEsV2w99HwUrzXGDYMABAaEgMSVL39xjTv0sJFOE9wfcujIjPDiT6i3jNWrO9xy82b7l81j9pfb7FfgzuJv8Dp++VfXRt5jmkdLHmheyFq+3N5nAvvD79ucPOVe89pWN9sygoYJE3bsSLpFN25xv7++zbzahlkkfirKVLp8ub1PF7A9e1Lu21evd489ttMdddQot99+zU6ZQXfvTpn32m6nzKh/WtQWedGF1Qu9NS+3uePkASUxZ22BsEl/XH2SV15PJn72i1H0W0EYwhjWK2f/w3bD9XHj0oKifrO48Ya2iGl4vJR1zQ/3lHkEKjGAPvIUbrtiRfrzTWPzv4foupZqD9zf7j74/uXu3y6a6I60ayfRNTRlkdW99zvzRmuz+dYKmZIyXPrRle4tb5kQeSqG4aW6xvJs/OUvNrkNG/a4C02o1T2Zvi6FWmMfBCAAASOw+Vn7Hr2XPTvYM4p5b5ViySd+Z9lCj3aJuWdEP5gnphycK65ZI0oC0HmdeZkd9pbI28wpk2domo/MJv1P3vNNq7s4PBK7nnz819H8Yw1HvMvpnG64ff/vMnm9pZ652YS//7bnkeKfWck7LovGqiyW6cQFvpX0Ul5hEgyT5k0XZ6l1j7o9P32Za3jBm9JZMAPPuaiOZTVNbXra+mTC2APfMyAFnpHE3u/fZOtFLHnPt4zpMpeYcZS9jrC542anS+/e6lLt9hyWZ+UYo7P+u8kHRvdGqu25vDOUuBmGsNo1Tz52bYkVKTaYBBIps4InvP/ReBGlYIUa3ykBQ4KLvK0kuEh0kCgQg6/GaZQ+PIVl6okr5CTPrRcdZuJSl1p578PxImLpZ6qukhKGNMeaXhLpJA6LU29N7Yy0NnRfmou3Pd0VFgV7226p5fU3oZeus0RMCYR6DYbNm5XNALzGxDwJu9VgCr0VM2zICXzi4yvdk4vtbwbrNQEJW/L4URjmKBM35FEksUSiz2DYsGEJN8sEtubmhigsVSJI+DHTlz5IpNm5M5UjCCoc9Jqf7psR8t79rufdhvXFHzb6cu5y1Kn2/veVgcKR99preCSMam4+n6W01Pb0MSpBVhlr15r4Ke/HwbqPS+1jtZW77KsznQ8jr7a+11R/TeCRaIHVGAGblyzROte+e48wgcy++26zH9O9sBQzVM2x1ni2CVNmKROiOn9+VrakPT8oqYK8xlLrH7fv8fYDfV9szHSXkPA30qJadloCG4Vummdar22YJUQav6+1M9GcBMzLTkJlD+Pr9Tn6WqFcY+zD+Rtf+gWXWPDKqKbmYEsqhBUbEgKJifNd42t/W/Dc9kSMlURAHkq98VIqqdEaKqT555R1Ul5V8oTyTzkSXPJtpIX/eGHNCzL5ZWp9W3zkLRbnBVjq+NWO5h/UayhsMMW0cHwSu/38ftpPIoOQDusQGHACEh8kpsV5Vg10B+QFtsQmuO+LnXLqWLePzaclD6drf7Up4yis7Xzba+9hGWFN3nuVIKxVe//zGfd3WxlmN23c0edm9DEqD8c4L8c+N0xFCEAAAgNBYJd5WK1+oHwtm3AVzTvW3xZNSEv1RUzLP2/Hdpda91j+3srYLtcYezuaEa3m3Xh6plYqL7Ns5gArQ04AcW3IL0GNdGCvaVlvHHn1KbQxzhSu6k3hmhgEektAc635sFqFvnIf9ZYg5SFQtwReZXN0TZyU/vojj7dbbrb3kBhTuKi3pUv7Jub5+uVaVnv/y8WBdiAAAQhAAAL1QCBKZNCYjnpJrbi7W+hwPTColjHmTlRRLb2mn5VHIMwIue+M9HxvhXqpOb3C5BJKBoFBoDcEFMMjT0lvmqcOgwAEIFAigXvuac+UvOD1rdF8a5kdwYqyhoaJERY/URniWrX3P0DMKgQgAAEIQAACxQgkGtNz0XWVST58TbHSHBtiAniuDfEFqJnTP2ehoMoaObxr/q2DF1jiiE0Wa28PMcp+OcJCRhU2qlA+73Gk/SssHh+DQG8ItLZkvSQ17+EmSxKBQQACECiRgCaqP+qFo9zEiU1u7NhG96nPTHd33LHNLbVEButtPhYzx/UAAEAASURBVDVloNQcXsccO9o+0kzMN5OHmxIqVIJVe/8rgSF9gAAEIAABCFQDgcSsEywRnjmumGn+udTSv0Tr/FeZBBDXKvO6VF+vNHfa45YJZd6sdAZJCWhTbCJKvQqZ5up6wsr3ZRL/Qu2xr34ISMT1tsrCj/38fn4fSwhAAAJFCGhuta98aY1778WT3d4291pzc8KddJJlSz6pcKV1lgH0si+vccpIWglW7f2vBIb0AQIQgEBdEegIpuEJ1+sKQnUOtmH2KZmOR3OtVUpyh0yvWAkJIK6FNFjvHwF5qT34uKXdsvnXNCdWoYyIEtXWbkhPQE+CiP7xrtfay1aYG4l5RSprL2HF9XoXMG4I9IvAs+al9uH/t9K98pwWd/LJY91ky3yab8qA+te/bnOLbmxzSmZQSVbt/a8klvQFAhCAQK0TSK150HX+7k3OWSZOt/mZWh9uTY2v859XuMRTf7KkgTtcatX9NTW2WhxM92+TtThKxjR4BJKWdkvZQvWSuDZ8WDoMVFlEOyzRgQQ1PI0G73rU4pmUMGNjZYRn1SJexgSBeiHQ2Zlyv7luc/RSgoPx4xvdyJENJqR1us2bO92Wts6K/riq9v7Xy33GOCEAAQgMPYGUCTP3DX036EHvCbSvc6nniiQK7H2L1BhAAohrAwi37puWl5peGAQgAAEIQKCCCWywudb0qlar9v5XK3f6DQEIQAACEIAABDwBsoV6EiwhAAEIQAACEIAABCAAAQhAAAIQgAAEINBLAohrvQRGcQhAAAIQgAAEIAABCEAAAhCAAAQgAAEIeAKIa54ESwhAAAIQgAAEIAABCEAAAhCAAAQgAAEI9JIA4lovgVEcAhCAAAQgAAEIQAACEIAABCAAAQhAAAKeAOKaJ8ESAhCAAAQgAAEIQAACEIAABCAAAQhAAAK9JIC41ktgFIcABCAAAQhAAAIQgAAEIAABCEAAAhCAgCeAuOZJsIQABCAAAQhAAAIQgAAEIAABCEAAAhCAQC8JIK71EhjFIQABCEAAAhCAAAQgAAEIQAACEIAABCDgCSCueRIsIQABCEAAAhCAAAQgAAEIQAACEIAABCDQSwKIa70ERnEIQAACEIAABCAAAQhAAAIQgAAEIAABCHgCiGueBEsIQAACEIAABCAAAQhAAAIQgAAEIAABCPSSAOJaL4FRHAIQgAAEIAABCEAAAhCAAAQgAAEIQAACngDimifBEgIQgAAEIAABCEAAAhCAAAQgAAEIQAACvSSAuNZLYBSHAAQgAAEIQAACEIAABCAAAQhAAAIQgIAngLjmSbCEAAQgAAEIQAACEIAABCAAAQhAAAIQgEAvCSCu9RIYxSEAAQhAAAIQgAAEIAABCEAAAhCAAAQg4AkgrnkSLCEAAQhAAAIQgAAEIAABCEAAAhCAAAQg0EsCiGu9BEZxCEAAAhCAAAQgAAEIQAACEIAABCAAAQh4AohrngRLCEAAAhCAAAQgAAEIQAACEIAABCAAAQj0kgDiWi+BURwCEIAABCAAAQhAAAIQgAAEIAABCEAAAp4A4ponwRICEIAABCAAAQhAAAIQgAAEIAABCEAAAr0kgLjWS2AUhwAEIAABCEAAAhCAAAQgAAEIQAACEICAJ4C45kmwhAAEIAABCEAAAhCAAAQgAAEIQAACEIBALwkgrvUSGMUhAAEIQAACEIAABCAAAQhAAAIQgAAEIOAJIK55EiwhAAEIQAACEIAABCAAAQhAAAIQgAAEINBLAohrvQRGcQhAAAIQgAAEIAABCEAAAhCAAAQgAAEIeAKIa54ESwhAAAIQgAAEIAABCEAAAhCAAAQgAAEI9JIA4lovgVEcAhCAAAQgAAEIQAACEIAABCAAAQhAAAKeAOKaJ8ESAhCAAAQgAAEIQAACEIAABCAAAQhAAAK9JIC41ktgFIcABCAAAQhAAAIQgAAEIAABCEAAAhCAgCfQ5Fe6LceOdk4vDAIQgAAEIFCDBCZObHInnDisBkfGkCAAAQhAoO4J7NjoGha8su4xAAACEIBAWQl0tMc2l0iZxR7lAAQgAAEIQAACEIAABCAAAQhAAAIQgAAEIBBLgLDQWDQcgAAEIAABCEAAAhCAAAQgAAEIQAACEIBAcQKIa8X5cBQCEIAABCAAAQhAAAIQgAAEIAABCEAAArEEENdi0XAAAhCAAAQgAAEIQAACEIAABCAAAQhAAALFCcQnNNi5q3hNjkIAAhCAQO8JNNnbblNj7+tRo+wEnn9+txs2LFH2dmkQAhCAQD0TaG5ucK2tfM5Vwj2QanuuErpBHyAAAQjUFIFEyz4FxxMvrj32lHM7dhasxE4IQAACEOgjgYVznZvQ0sfKVCsngW9fvd49uZgfksrJlLYgAAEI/Pt7J1sm5jGAGGoCW5a7zp+dPtS94PwQgAAEao5A07sedi7RPQi0+56aGzoDggAEIAABCEAAAhCAAAQgAAEIQAACEIDAwBBAXBsYrrQKAQhAAAIQgAAEIAABCEAAAhCAAAQgUFMEUgVHg7hWEAs7IQABCEAAAhCAAAQgAAEIQAACEIAABCDQMwHEtZ4ZUQICEIAABCAAAQhAAAIQgAAEIAABCEAAAgUJIK4VxMJOCEAAAhCAwNASOPZYJgQf2ivA2SEAAQhAAAIQgAAEIFAaAcS10jhRCgIQgAAEIDCoBM4/v9WdfjqZZQcVOieDAAQgAAEIQAACEIBAHwggrvUBGlUgAAEIQAACg0Hg9NPHIbANBmjOAQEIQAACEIAABCAAgX4QQFzrBzyqQgACEIAABAaagAS2Sy6ZMtCnoX0IQAACEIAABCAAAQhAoI8EENf6CI5qEIAABCAAgcEiMHducySwzZvXPFin5DwQgAAEIAABCEAAAhCAQIkEENdKBEUxCEAAAhCAwFASkMB28cVTHALbUF4Fzg0BCEAAAhCAAAQgAIHuBBDXujNhDwQgAAEIQKBiCUhgI9FBxV4eOgYBCEAAAhCAAAQgUIcEENfq8KIzZAhAAAIQqG4CJDqo7utH7yEAAQhAAAIQgAAEaosA4lptXU9GAwEIQAACdUIAga1OLjTDhAAEIAABCEAAAhCoeAKIaxV/ieggBCAAAQhAoDABBLbCXNgLAQhAAAIQgAAEIACBwSSAuDaYtDkXBCAAAQhAoMwEJLBdcsmUMrdKcxCAAAQgAAEIQAACEIBAqQQQ10olRTkIQAACEIBAhRJQJtErr9ybTKIVen3oFgQgAAEIQAACEIBAbRNAXKvt68voIAABCECgjgiQSbSOLjZDhQAEIAABCEAAAhCoGAKIaxVzKegIBCAAAQhAoP8EmIet/wxpAQIQgAAEIAABCEAAAr0hgLjWG1qUhQAEIAABCFQBAQS2KrhIdBECEIAABCAAAQhAoGYIIK7VzKVkIBCAAAQgAIEsAQS2LAvWIAABCEAAAhCAAAQgMJAEENcGki5tQwACEIAABIaQAJlEhxA+p4YABCAAAQhAAAIQqBsCiGt1c6kZKAQgAAEI1CMBMonW41VnzBCAAAQgAAEIQAACg0kAcW0waXMuCEAAAhCAwBARIJPoEIHntBCAAAQgAAEIQAACNU8Aca3mLzEDhAAEIAABCKQJMA8bdwIEIAABCEAAAhCAAATKTwBxrfxMaRECEIAABCBQsQQQ2Cr20tAxCEAAAhCAAAQgAIEqJYC4VqUXjm5DAAIQgAAE+koAga2v5KgHAQhAAAIQgAAEIACB7gQQ17ozYQ8EIAABCECg5gmQSbTmLzEDhAAEIAABCEAAAhAYJAKIa4MEmtNAAAIQgAAEKo0AmUQr7YrQHwhAAAIQgAAEIACBaiSAuFaNV40+QwACEIAABMpIgEyiZYRJUxCAAAQgAAEIQAACdUcAca3uLjkDhgAEIAABCHQnwDxs3ZmwBwIQgAAEIAABCEAAAqUQQFwrhRJlIAABCEAAAnVAAIGtDi4yQ4QABCAAAQhAAAIQKDsBxLWyI6VBCEAAAhCAQPUSQGCr3mtHzyEAAQh4Aim/whICEIAABAaFAOLaoGDmJBCAAAQgAIHqIUAm0eq5VvQUAhCAAAQgAAEIQGDoCTQNfRfoAQQgUGkEOppHuVQC7X1Arkuy0bnd/J48IGx72ejMmcNdKtnLSnVUXJlEL7lkilu0qM0tWbKrjkbOUCEAAQhAAAIQgAAEINA7AohrveNFaQjUBYHtLZPdztHj62Ksgz7I3XbG9Z2DflpO2J3Auedwj3enkrtHApsyiX7jG2sR2HLRsAUBCEAAAhCAAAQgAIEMAVxTMihYgQAEIAABCECgEAEJbKef3lLoEPsgAAEIQAACEIAABCBQ9wQQ1+r+FgAABCAAAQhAoGcCJDromRElIAABCEAAAhCAAATqkwDiWn1ed0YNAQhAAAIQ6DUBBLZeI6MCBCAAAQhAAAIQgEAdEEBcq4OLzBAhAAEIQAAC5SKAwFYukrQDAQhAAAIQgAAEIFArBBDXauVKMg4IQAACEIDAIBGQwKZMohgEIAABCEAAAhCAAAQg4BziGncBBCAAAQhAAAK9JqBMoldeubebN6+513WpAAEIQAACEIAABCAAgVoigLhWS1eTsUAAAnVNYPfu3W7r1i1OSwwCg0WATKKDRZrzQAACEIAABCAAAQhUKoGmSu0Y/YIABCAAgdIJ7Ny5w7W1bY4qtLdvd+PHt7rm5hGlN1ClJXfsaDcxcVem9y0trZn1vq50dOx2Yuht9OixrqmJj0vPo9BSYaKyRYvaCh1mHwQgAAEIQAACEIAABGqaAE8LNX15GRwEIFAvBHbu3JkzVG3Xg7jW0dHhwrG3tORg6NNGZ2dnTpsjR47uUzv1VgmBrd6uOOOFAAQgAAEIQAACEPAEENc8CZYQgAAEqpjAiBEj3K5dWYGt2bYL2dZtW9zOHTsyhyZPnppZZwUC/SWAwNZfgtSHAAQgAAEIQAACEKhGAohr1XjV6DMEIACBPAIjRox0DQ0NJrDtijzWhg8fnlcivZlKpVwymSx4jJ0QKAcBCWxKcnDllWvL0RxtQAACEIAABCAAAQhAoOIJkNCg4i8RHYQABCBQGoHhw5vd2LHjXJywVlorlIJA/wmQSbT/DGkBAhCAAAQgAAEIQKB6CCCuVc+1oqcQgAAEIACBqiJAJtGqulx0FgIQgAAEIAABCECgjwQIC+0jOKpBAAIQKBcBhWrusGyfnXs6XGdn0jU2Nrphw4aZB1pzFOqp8+ywedKSyc7olAr/HDlyVM7p9+zZkzPnmsJE1Y6ss3NPZoL+He3tOfW2bdvqEolEtK9QuzmFS9hQMgBl21R/dF4bWtQPZdtUn/y5SmgqKrLT5pHr2L3b2uqMWIjLsGHD+5W9U/1T+KzalKnNJvG2drHyE2AetvIzpUUIQAACEIAABCAAgcoigLhWWdeD3kAAAnVGYPv2bU4vCWz5lmhIuJZxrTaHWrOJb+2RyKQyEpcKiWsSyrxJMPLi2p49nS485stoqXN7k8CU364/1tNS/Vdb7e3bC45F9bdu3RK1r9DVnmz37l1uy5a2jADmy/tcDGPGjHWjR4/xu0taSkxra9sciX9hhZ0mbMqUFGLcuPHhIdbLRACBrUwgaQYCEIAABCAAAQhAoCIJIK5V5GWhUxCAQD0Q2LJlc+SRFjfWVDLlNm/e6MaPnxBXpCL2K0HCho3rXbLLEyyuUxLgJL4lU0kTDeNFLHnpiU0xk1iYsn+lWod5BW7etLFoMoedO3fa8Y19FhhL7Uu9lkNgq9crz7ghAAEIQAACEIBA7RNAXKv9a8wIIQCBCiTQvqO9m7CmRATNzSOi8Ed5WaVDRfdEQlNvwynDISskc9y4lmiXvMFC8/u1T2GhfbGtW9tyhDWdb9So0eY5l/6I2WPC1naJal3i204Tz4Y1DYvK5J9P4aRbtuYKa2pn5Mh0mKuEPIV0yrNt+7ZtJYWHStRr27wpR1iTV+DIEaMy9RUqKt67LQQ1WcCLML+fbPeNAJlE+8aNWhCAAAQgAAEIQAAClU0Aca2yrw+9gwAEapCABKJtFiIZmkIlJUiFprDHzSYK7bJ5x/pjCg/14Z7y4ArnXfP7+9q++iaPL28SCFtbJ/rNaKl9mm9t/Ya1Tt54Molj+ePV/i0m1IUOaRIbx49v1aGMqZ7EOjGUGNeTKVzVz6+msuIxYcKkHDFRHPTauHGD29PR0VOTHO8HAZ9J9BvfWOuWLNnVj5aoCgEIQAACEIAABCAAgcog0Dc3hcroO72AAAQgUJUEJEaFc6xpTrVCQpMGJ88yP3daJQ5WSRckpmkONAloLS25Qpjvs7ziRjSP9Js271l3AUsJEJS8wJvqhJ51fr+Wo01g07lLsR3mJRia5lUr5KWnuew0DmxwCJBJdHA4cxYIQAACEIAABCAAgYEngLg28Iw5AwQgAIEcArt2pSfQ9zuLTaIvEaiSBR+Fq8ozTV52LS2FRSs/zobG7EeOvPdCbzKVCT3gtC1vvkIimI7JWlrSoa7prcL/K9xT5/Im7zT1N840jkYLa8UGh4DCRE8/vefrODi94SwQgAAEIAABCEAAAhDoG4Hsk07f6lMLAhCAAAR6SUChmd7klVZMQFI5Zf6sZkvPk2bhoz7VZ9dgQu897cr3ZpMnWTFraOiZXW/b1Pk0Hxw2eATmzSvNA3HwesSZIAABCECgXAT2tB7k9MIgAAEI1DoBfp6v9SvM+CAAgYoiIEHJzzumjjWVIORoQn95iOWLURU1MOuM+qe51CRoaS40hXnKO63UfoceZhpvKeGwSp6gJARxFrapMirfk5VSpqc2OF4agUWLtrhFi3KTbJRWk1IQgAAEIFANBFKNI1zbsd93oxZf7UY9cVU1dJk+QgACEOgTgZ6fMvrULJUgAAEIQKAQgXyxp7GpsVCxbvskNJUyeX+3ioOwQ2Patn1r5JlWqpBWqFvJZGdmd6mhmQMhrvksp5nOsDIgBBDWBgQrjUIAAhCoSALtC94V9QuBrSIvD52CAATKQABxrQwQaQICEIBAqQTyQ0CTndn5wIq10RnMG1as3GAfk7C2adNGE/6yoa6+DxIE9ZIA1tQ03OY+63Tbtm31h7st5a3mLVXieJNd2Ud9vfxl2KaOqb89ecSlUqVdk/xzsV06AYS10llREgIQgECtEEBgq5UryTggAIFCBBDXClFhHwQgAIEBIiCxRy/v4VVIlMo/tUSpUsWm/LoDvb1165YcYU1CmhIwaL60fCGxvX170e5oDjXn9kRlfDhpvjiW30BP/PL7IO+/nsS1SvUQzB97tW5/4xtr3ZIlu6q1+/QbAhCAAAT6QQCBrR/wqAoBCFQ0ARIaVPTloXMQgEAtEgjFnT02L5kX2uLGWslij+ZY86bECxMnTnbNzSO6CWsq09M4G4NsoipfyrjzM46qXmhpwS67R7x7slLO21MbHO9O4KmndjmEte5c2AMBCECg3ghIYNM8bBgEIACBWiKAuFZLV5OxQAACVUFA4lPGUq5oqKQEqWKhlJl2+rjSk+BVrFkJW+EcciNGjCxWPEp2UKzA8OG5WSN37GgvVtzt3LmzR8GuuTm3zZ3WZrExa0wdHfEJEop2iIOxBCSsXXklHmuxgDgAAQhAoM4IdEw60q1/5YNOSwwCEIBALRBAXKuFq8gYIACBqiKQL0IpXHLnzh0Fx7Bt25Yo+2bBg33Y2ZDIfdsvxZMr7jTBFGlRkWKilcI3d/cgWkl0DMNAJa7t2pX1jAv7IRFsy9aes0wqLFQhqt7klabkC3HW1ra5qPgWV4/98QQ0v5qENQwCEIAABCCQT0AebO37vzt/N9sQgAAEqo5A7lNW1XWfDkMAAhCoPgKal2zU6NE5HZeos2Hj+shLTR5Zmsts/YZ1rr293SVMINKrHDZ8eFZoUnvbLcGA9z4rJo4VOrdCLsM5zSQSFgqplCfYxk0bLC60UCvZfRLWRo3K5bJly+ZuHm+dFtrZ1rap5HnoRo8Zkz2JrbVv325cc+d/E4MtW9rwWssh1f8NEhf0nyEtQAACEKh1AgoTRWCr9avM+CBQ+wRIaFD715gRQgACFUhgzOixbk+HeXPtzoYgaluvfBs3tsVtN2+rPSVm0MyvH27LiytMqCDPsHXr1kRFRo4c6caNGx8W73F95MhR1rdtUTkJVBtMEJR4qBBPbUtY8/OiaX8h8S08yejRYyIvPl9HbSgbqeap00vbvg1t6zw9hY82Wxl5C4begRIv1e/GRn0MpqI2I3HREpbq2gxkKG443lpeR1ir5avL2CAAAQiUlwCJDsrLk9YgAIHBJ1AeV4jB7zdnhAAEIFDVBCRwtbZOjDy1wlDIcFDa39LSasJQMEdbWKAP62pz3LiWnPBL38zuAsKePxa3VGbQkaNG5RyW+OVDXb1IprnPJJz1ZJ6LhLjQ1I6ESC+syZOvpWV8judcWD5/XWPO5+jFvw4bt/faGzumJSeMNL8dtksjoMQFixb1HLZbWmuUggAEIACBeiCAB1s9XGXGCIHaJZD79FK742RkEIAABCqSwNix4yLRSV5Vmv8s2ZmMPLSUeVMhnPnZLssxCHlxyetL3lsSq7ywpHBLrceJfXHnlmddk3mASVDzYpovq7YkwCncU+GupZj6NmHCpMizTF5pEsFCk/edhDWVi5uTLSyvdfVDQuXw4e1uu/pp4w5NbUmAkydc6E0YlmG9ZwJKXCBRbcmSwnPl9dwCJSAAAQhAoJ4JSGDrmHika/nHW+sZA2OHAASqkADiWhVeNLoMAQjUFgHNW5Y/11j+CL0Apv2mE3UzeWWNGDG92/64HRKoJGDJvDeYBKbeCmu+ffVfr7Q3WNoTTN5noQdab/roRTl5u0mwk/AnTk1Nw3L6KOFOr1JNYax6qT0vBKrNcO44iZpTp5bOstRz13o5nxG01sfJ+CAAAQhAYGAJ+EyiEtiGrb93YE9G6xCAAATKRABxrUwgaQYCEIBAXwiU4immMl4I0jkaTAQrp4UCWH/blUilENBymUS2fJGuHG1rrrX0fGvlaI02mF+NewACEIAABMpNQJlERy2+2o164qpyN017EIAABMpOAHGt7EhpEAIQgEDPBBR6uGPH9iisccKEiZFHVlyt/An7FYKJQaBSCCCsVcqVoB8QgAAEao8AiQ5q75oyIgjUKgESGtTqlWVcEIBAxRJQGOamzRuiOcjklbZxk9Z3dOuvjrW3t0dzo/mD8uRSWCMGgUoggLBWCVeBPkAAAhCobQIkOqjt68voIFArBHB/qJUryTggAIGqIaAwxzFjxrltllBAlkqmXFvb5khE0zHNfdZpiQ327OnInczf5lpTAoRwfrCqGTQdrTkCyghK4oKau6wMCAIQgEBFEsCDrSIvC52CAAQCAohrAQxWIQABCAwWgdE2+b+l5owyYspDTaZkAHGZKiW4KUOmEhFgEBhKAmQEHUr6nBsCEIBA/RIgk2j9XntGDoFqIEBYaDVcJfoIAQjUJAFlwpw4cbIbMXJk5K2WP0iFgA4bNsyycI6KMnsirOUTYnuwCfiMoHisDTZ5zgcBCEAAAiLgM4lqiUEAAhCoJAJ4rlXS1aAvEIBA3RGIPNLGjY/G7bOCJpOdUSZLHcMgUCkEmF+tUq4E/YAABCAAATKJcg9AAAKVRgBxrdKuCP2BAATqloA81TTnmnO8NdftTVChA0dYq9ALQ7cgAAEI1DEB5mGr44vP0CFQgQR4gqvAi0KXIDDUBIbvandNHbuGuhu1ef7JE5wb0VybY6uyUd1661a3YX1nxfb69NPHVUTfENYq4jLQCQhAAAIQKEAAga0AFHZBAAJDQgBxbUiwc1IIVDaBUW3rKruD1dy76WMs5efIah5BzfT97ru3uycXV66IXAniGhlBa+Z2ZyAQgAAEapYAAlvNXloGBoGqIkBCg6q6XHQWAhCAAAQgMDgEENYGhzNngQAEIACB/hOQwKZ52DAIQAACQ0UAcW2oyHNeCEAAAhCAQAUSUEbQSy553pERtAIvDl2CAAQgAIFYAsogKoGNTKKxiDgAAQgMIAHEtQGES9MQgAAEIACBaiIgYe3KK9dWU5fpKwQgAAEIQCBDAIEtg4IVCEBgkAkgrg0ycE4HAQhAAAIQqEQCSlyAsFaJV4Y+QQACEIBAbwnIg619/3f3thrlIQABCPSZAOJan9FREQIQgAAEIFAbBMgIWhvXkVFAAAIQgECWgOZhQ2DL8mANAhAYWAJkCx1YvrQOAQhAAAIQqGgCJC6o6MtD5yAAAQhAoB8EyCTaD3hUhQAEekUAca1XuCgMAQhAAAIQqB0CCGu1cy0ZSWEC8+Y1Fz7A3gEjMGpUg9u9OzVg7dNwiQQ6h7tOm+B/qK1j0lFD3QWHwDbkl4AOQKAuCCCu1cVlZpAQgAAEIACBLAElLli0qI2MoFkkrNUogYsvnlKjI6vsYW1c31nZHayL3k1wzuYdw9IEJLB1TDzStfzjrSCBAAQgMCAEmHNtQLDSKAQgAAEIQKAyCfiMoEuW7KrMDtIrCEAAAhCAwAAQUCbR9a980GmJQQACECg3AcS1chOlPQhAAAIQgECFEiAjaIVeGLoFAQhAAAKDRoBMooOGmhNBoK4IIK7V1eVmsBCAAAQgUK8EyAhar1eecUMAAhCAQD4BMonmE2EbAhDoLwHEtf4SpD4EIAABCECgwgkgrFX4BaJ7EIAABCAw6AQQ2AYdOSeEQE0TIKFBTV9eBgcBCFQcARKoVdwlqfUOkRG01q8w44MABCAAgb4SIJNoX8lRDwIQyCeAuJZPhG0IQAACEIBADRAgI2gNXESGAAEIQAACA06ATKIDjpgTQKAuCBAWWheXmUFCAAIQgEA9ESAjaD1dbcYKgYEjsGTJE+6LX/qE+931v3S7d5NheOBIV27Lu3btdL/5zc/cl778n+7pp5+s3I72s2dkEu0nQKpDAAIOzzVuAghAAAIQgEANEWB+tRq6mAwFAkNIYNWq5e6lpxzm9uzZE/XirW/5d/e5z359CHvEqYeCwH9+8oPump98Nzr1t6663N1799NuypRpQ9GVQTmnMomOWny1G/XEVYNyPk4CAQjUDgE812rnWjISCEAAAhCocwIIa3V+AzB8CJSRwI2Lrs8Ia2r2D3+8royt01S1EPjjDb/JdLWjY7e76f/+kNmu1RUSHdTqlWVcEBhYAohrA8uX1iEAAQhAAAKDQgBhbVAwcxII1A2B01/+CtfUlA1yOevM8wqO/U9/ut4dcNC0zOuuu/5esBw7q5PAmWeem+n4sGHD3WmnnZXZDlfOfsXxmXvgjW96ZXioKtcR2KrystFpCAwpgewn5pB2g5NDAAIQgAAEINBXAmQE7Ss56kEAAnEEZszY2/355vvdtb++xi1ceLCLE9d2mzfTpk0bMs107OnIrLNS/QQ+95kr3NEvPM49ueRx95pXv9FNnTK94KDatmzO3Adbt20pWKbadpJJtNquGP2FwNASQFwbWv6cHQIQgAAEINBnAmQE7TM6KkIAAiUQmD9/ofv4x75QQkmK1CqB5uYR7lWvekOtDq/HcZFJtEdEFIAABLoIEBbKrQABCEAAAhCoQgJkBK3Ci0aXIQABCECg6giQSbTqLhkdhsCQEMBzbUiwc1IIQAACEIBA3wkwv1rf2VETAvVC4N77/uluueVGt2zZM9GQDznkCHfoIUe6F73oOJdIJNzzzy+LQj49j1e/6kK3zz6z/KbbsaPdXXX15Zlt1Tv2mBOjbU1s/43/+Uq0fv3vf5Upo5WvXf5Zd/fd/8jsu/i9H3aaq6s/pr7+8YbrorGsWrXC7bvv7Ggshx56lJs9e240nlLb37Ztq7v+99e6J598zC1f8ZxrSDS4vffe10JfD3Jnn/VqN2LEyKJNLVnyhCV3+HWmzNvedrEbN7bFbd++zf3q2mvcgw/e6zZu3OCmTZvhXvKSk90Zp5/rGhpy/Rkeeuh+9/s/XBtdg1Qq5fbf/0B33LEnuRe+8NhMu/krQ3XeW2/9k/uXjcnb+9/3scx4/vq3W9x9dp/J1D9vmnfv8is+5zfdEYe/yJ1wwqmZ7WpdIZNotV45+g2BwSGQsDf0VMFT3f+oczt2FjzETghAAAIQ6COBhXOdm9DSx8pUKyeBT3x8pXty8a5yNlnWtq68cu+C7SGsFcTCTggUJBD3d1SwcI3sXGpi2iWXXOTuuffOgiM644xz3ZVf/1/3wL/uca957WmZMr/8xZ/cS44/ObO9ceN6d+DB2fm13nfJR91HP/LZ6LiEpLnzWzNli60sWbzRjRkztliR2GNr1652H/vE+5ySJnR2dhYsN3fuAvejH/zWzZkzr+Bxv1NzwX3pS//pfnzNd5wEtkI2fvwE93YTy0IBKb+cRL63v+N1md13//OpaP2Ms45x69evzez3K0cffbz71S9vcsOahjk9dr3v/W/NETV9OS3Pf+2b3GdtjrOxY8eFu6P1oTrvxz5+ifvBD6/K9Oe5Ze3RWLTj05/5sLv621dkjsWtvPMd73ef+q/L4g5X3f5Ri692o57IMqm6AdBhCECgXwSa3vWQc4nGbm3k/ozS7TA7IAABCEAAAhCoFAIIa5VyJegHBCqTwIMP3ufOOvu4WGFNvb7xxt+61194VqxYVSkje+zxh93pZx7jbrjhN0X7+tRTi6Nyt912U2zXlXDhtee/zH3rqq/FCmuqvHnzRnfZVz/tLnrzeZEnWmyDwYGdO3e4t7zt1QWFNRX75z9vd58xEUr2uc9fGius6fgvf/Vj91+f+pBWe7ShOm+PHauDAmQSrYOLzBAh0AcChIX2ARpVIAABCEAAAoNNgIygg02c80GguggojPMd73qd27BhXabjLS2t7oLXXeQWLDjQ7d69y91//13uN7/5eRS2edlln8qU6+2KJrn/6leujqopLPT2v9+aaeKcV54fhTj6Hc0jRvjVkpdbtra5N1x4tlu9ekWmjry5TnjJqe6lL32527VrZ3ROCYWyLZap8sI3vcJdd+0tTp5i+XbxJW+ORC6/X1z+7U3viLKgJpNJ98gj/3LX/OS7GeHt5ltucJd+7BJ35X//r68Su/zgh94e1V+4/0Hu5JNPd5MmTYnO9aebfp+p873v/49baeGs6u/IkaPcqy1BwP5Wvq1tk/vjH69zEhK9/eKXP3IXXvh2d/hhL/S7Ci6H6rxhZ84++9Vu7n4Lol3/8eF3hYcy94d2Ljzg4JxjtbBBJtFauIqMAQLlJYC4Vl6etAYBCEAAAhAoKwEygpYVJ41BoGYJXPH1z7vnnluaGZ/mEbtp0V2utXViZt+b3vgO90Z7nXvuSe4+E9r6ak1NTe4Nb3hrVH3suHE54pr2a/6w/tinP/3/coQ1zUV2rYVWDh/enGn2on97l/vpz/7X/cf/e2e0TyLZ57/wMfeH39+eKaMVeYP9+dZFmX0zZ+7jbr7p7hwu5517QRQOesppR9l8aeujstf++hp39tmvcqeecmambqEVzW2ncM4rLv9eZu43hUH+7Oc/cB/6j3dkqkhYmzhxsvv97/6aE8L6vksudR/44NttvrYfR2UVOqq58noS14bqvJkB2Yr66Pv57e9+PTPvmubn8/dHWL7W1skkWmtXlPFAoH8ECAvtHz9qQwACEIAABAaMABlBBwwtDUOgpghIWJLHk7fGxkb3zf+5JkdA8sc0ufyll2Ynm/f7K2UpzzsJYt6mTpnuvvvtX+QIa/7YG17/FnfUUcf4TSfBKX/es6uu/lrmuBI5/PfXv1+Qy/Tpe7mvfOmbmbJaufrqnucTO+igQ93XvvqdjLDmG3j9BW92hx56pN+Mlh/+f5/KEda0U8kOPvfZK5yumbdnn03P4+a3Cy2H6ryF+lLP+5RJVIkOtMQgAIH6JoC4Vt/Xn9FDAAIQgECFEvDCWoV2j25BAAIVROCee+5w69atyfTojRZWeNSRL85s56+8650fcPPm7Z+/uyK2/5g3x9onP/llN2XKtNi+fe2yb0eJFpRsQS/NRebtiScedYsXP+Y3nQQvn/E0szNYOfPM89zLX/7KzJ5/3nW7W71mZWa70MpJJ56WI4yFZQ4+6LBw0x133Etztv2GQl732XuW3zQPxGcz63ErQ3XeuP7U834Etnq++owdAlkChIVmWbAGAQhAAAIQqBgCV17ZPetcxXSOjkAAAhVF4KGHH8jpj7zTipk8uA4++PBMGF+xsoN9LJy/Tec+vIexSCR837yPFuzmP+74S87+Y158Qs52oQ2VUXZSmTwClZBA88jFWbH+jRo1OqfajOkzc7bDDWUqde7paNcumx+vJxuq8/bUr3o+3jHpKDds/b31jICxQ6CuCeC5VteXn8FDAAIQgAAEIAABCFQ7gXXrVucMQZPl92QL5h/QU5EhOb7aJv73NmbMWLfvPrP9Zq+Xa/K8zuaXMOb58xfmnGfNmlU52/kbSlBQqknUjLOUS8UdKrh/qM5bsDPsdKMWX+1GPXEVJCAAgTomgOdaHV98hg4BCEAAAhCAAAQgUP0EwgyhGs2cOfN6HNScOXN7LDMUBdYGQuH8eQu7zWXWmz6tXZsrOs6dm85sWayNeXllehLXirXFsfog0PKPt+KxVh+XmlFCoCgBPNeK4uEgBCAAAQhAAAIQgAAE/n979wJkV13fAfy/vBLCI4UKpAESHkLCu4AgghUoYAGZ1kFKBaEVaTXUFsTCoPKwrTxmLFZ5+wIL1rEYKfLopMCUx2gV6kCLUknCKwEGArZSQngHt3vuzN7sXTbZ7Oa3u+ee3+fO7Ow99577O//f57czGb6ce069BTboO8Nr4GPJklVfJ6zad8mSVZ+RNbDeeD4feEfQF1743zU69MBaVaFly14att6yZcs69pk0aXLHtg0C/QLVV0AFa/0afhMgIFzzN0CAAAECBAgQIECgiwU236zzgv/z5z80bDfzFwy/z7BFxmCH6u6g/Y/FfRf2f/XVV/o3R/x72rTpHZ9Z+MjDHdtDbSx8ZMUNEKr3t9hixXqG2t9rOQUEaznnrmsCqxIQrq1Kx3sECBAgQIAAAQIEai6w7Tbbd6zwv3/xs47toTYW9N1Js46PmTNXXGOtuqHAwLt9jnS9A+/AWX124cLVCNcG7TO4xkjXYP/mCVTXV6vOWPMgQIDAQAHh2kANzwkQIECAAAECBAh0mcDBB/9emTx5/faqv3n15WXx4ifa24Of3Hb7LeX+B+4b/HLI9vI331yjOocf/gcdn//BTdd3bA/euPmWueWA9+7U/nnyyUXtXQ455Iiy7jrrtrfnzv12eeutt9rbg5+89tqr5cYf/FP75Y022rgccMBB7W1PVk9gTf8GVu8oE7OXGxdMjLujEugGAeFaN0zJGgkQIECAAAECBAisRGDKlA3KkUd8sP3u0qX/V/7048eW119/rf1a/5MnFj1WTj31pNLbO7K7U/Z/fvDvqRv/RsdLCxZ2fq2y483V2Dj4oPeXqVM3ae/59W9cUm6/49b29sAnVVD25a9cUB5/4tHWT3UHzRkztmnvsskmv1kOPPCw9vYD//kf5ZJLL2pvD35ywYWfK48+uqD98hGHf7C45lqbY5VPBv4dPPLI/LC/r1UedJzfFKyNM7jDEegyAeFalw3McgkQIECAAAECBAgMFjj3nIvKxgOCroce+q+yx54zyifmHF+u/951pTqb7YQTf78ccuheZelLL5aBX78cXGsk2/vss39Zd9312h+59tqvll88/PNWuDKa66VVtc753IXtelUI+Jd9YeA999zRfq168stfPlc+fNwRZf6Ar7cec8wJHftUG2f31Rq4viqM+97c60r1ldP+x/Lly8s137qyXH3NFf0vlQ37bhJx5hnntbc9WbXAAQcc3N6h+vv6+y+fX15+eVnrTME333yj/V63Pqm+Bjpl/lXdunzrJkBgHASEa+OA7BAECBAgQIAAAQIExlJg2rQty2WXfqvj66EvvvhCqb42+anTTy7nnnd6+bc757VuELDrrr9dPnPWF0KWU501t29fwNb/qM6MqwK8rWeuX9530O79L4/o90c+cnKpvura/6jOxPvw8UeW9+w/qxx/wlHloN/do+y598zyo3+/q3+XsuOOO5Vj//DE9nb/k9mzdymf/cyKXqsg7bRPnVz2efc7W7Wquu/aZ7ty9jmndZxtdf4XvlK22mpmfxm/hxE4aMAZgtWuF3/pb8sOszYtM7aZUv75xhVftR2mTO3eduOC2o3EggjUVkC4VtvRWBgBAgQIECBAgACB1Rd4/2FHlZtuvLvMmrXzSj902KEfKHOvv61MWm/SSvcZ6RufP++LpQr3Bj6qr2w+/fTi8vzzSwa+vFrPe3p6yj9cc0M5+ujjO/ZftPjxctddt7VucjDw2mkHvu/QcsvNPyybbvqOjv37N06Z8+ly0YWXlXXWWaf/pfLMM0+1alVnxD33/LPt16uvgV5x+XXlj4794/ZrngwvUJ3B+LGT/rxjx+qsw+oMwfvvv7fj9W7ZEKx1y6Ssk0A9BFb8C1OP9VgFAQIECBAgQIAAAQKjFNh9973K3Xc+WH78k3taX6V86qnFpWettcquu+xRqvf2f8+BpQqvIh+77bZnuW3eveWMM+eU++77Uetrp/31H+77iujmm0/r31zt3+v1hX9XXHZtObLvBgffuPqyVt3BH95ssy3K8cedVM74q893BGeD96u2P/onc8ree727fK3vGm433zy3DP6qYnVDiA8dfVz5xMdPLzvsMHuoEl5bhcDaa69dLjj/krLzTruXK7/6pbKo7wzG/q/ezp//0Co+Wc+3XF+tnnOxKgJ1Fujp+z8KQ1/N9IG+23O/+vaLoNa5GWsjQIBA7QV2emcpm06t/TIzLPCcs58pCxe8nqFVPRJIK3DppVun7X24xud+/9vl1NM+1t7txhvuLPvt9zvt7dE+qf7TorpjZ/VVzi233HqlZ5ONtH51BtyTTy1qnXFWfRX1t/rOlJs9e9dShTojfbz00tK+u6k+3jqzrgoeq69/brvN9qWq6xEjUF1v7bHHFrauXTdjxrbDhp8xR42pIliLcVSFQFMF1pnzs1J63v5vjzPXmjpxfREgQIAAAQIECKQTqM4Weuut5R0X8R8KYeCNAKr3p0+PCSKrs+KibpYwcN3V2W+tM+D23m/gy6N6vtFGG5fqunPVj8fYCGywwYatMyXHpvrYVRWsjZ2tygSaLuCaa02fsP4IECBAgAABAgQaL/CrX/1PueLKi8v+753dcUbaUI1XNzq45dbvt9+qztiaPn2r9rYnBDIKuCNoxqnrmUCcgDPX4ixVIkCAAAECBAgQIDAhAuee9+m+uzJ+t3XsxYufKK+88nL5uy9e9bbrnS1c+HA567OfLNW12PofJ57wZ131tb3+dftNIEqgCtaqGxh4ECBAYLQCwrXRyvkcAQIECBAgQIAAgZoIXHjBJeUn9/6wPPvs060V3X7HreXOff61bLfdDmX2rF3LWn3XFlu0+LHy4IP3l4GXXN5jj73LX3zyzJp0YRkExleg/46g43tURyNAoIkCwrUmTlVPBAgQIECAAAECqQSmTt2kfPc7/1LOPOuU8tOf/rjV+/Lly0t1plr1M9TjpI+eUv7mry8e9vpsQ33WawS6XUCw1u0TtH4C9RIQrtVrHlZDgAABAgQIECBAYFQCs2btXG668e5yww3fKd+85vLW3RqXLXupXau62cBWW81oncl27LEnlqM+8KH2e54QyCTgxgWZpq1XAuMjIFwbH2dHIUCAAAECBAgQIDDmAlWAdswxJ7R+qoMtee6ZVsg2efL6ZdaOO5cNN9xozNfgAATqLCBYq/N0rI1A9woI17p3dlZOgAABAgQIECBAYJUC07aYXqofDwIEShGs+SsgQGCsBIRrYyWrLgECBAgQIECAwIQKzJu3dEKPn/Hg++47pczcZr2Mrder59eXll///B9rsaZXZs2pxTrcEbQWY7AIAo0VEK41drQaI0CAAAECBAjkFpg378XcABPQ/Xbbr1d22W3yBBzZITsEel8uy+df1fHSRGy8+Y53lTLB4Vp144IpC64q1W8PAgQIjJWAcG2sZNUlQIAAAQIECBAgQIAAgQkTcEfQCaN3YALpBIRr6UauYQIECBAgQIAAAQIECDRbwPXVmj1f3RGom8BadVuQ9RAgQIAAAQIECBAgQIAAgdEKCNZGK+dzBAiMVkC4Nlo5nyNAgAABAgQIECBAgACBWgkI1mo1DoshkEbA10LTjFqjBAgQIECAAAECBAgQaK6AO4I2d7Y6I1B3AeFa3SdkfQQIECBAgAABAgQIECCwUgF3BF0pjTcIEBgnAeHaOEE7DAECBAgQIECAAAECBAjECrgjaKynagQIjE5AuDY6N58iQIAAAQIECBAgQIAAgQkUcH21CcR3aAIEOgTc0KCDwwYBAgQIECBAgAABAgQI1F1AsFb3CVkfgVwCwrVc89YtAQIECBAgQIAAAQIEulpAsNbV47N4Ao0U8LXQRo5VUwQIECBAgAABAgQIEGiegDuCNm+mOiLQBAHhWhOmqAcCBAgQIECAAAECBAg0WMAdQRs8XK0RaICAcK0BQ9QCAQIECBAgQIAAAQIEmirgjqBNnay+CHSjQM+QixauDcniRQIECBAgQIAAAQIECBCYaAHXV5voCTg+AQKrI+CGBqujZB8CBAgQIECAAAECBAgQGFcBwdq4cjsYAQJrICBcWwM8HyVAgAABAgQIECBAgACBeAHBWrypigQIjJ2Ar4WOna3KBAgQIECAAAECBAgQIDBCAXcEHSGY3QkQmHABZ65N+AgsgAABAgQIECBAgAABAgQqAcGavwMCBLpRwJlr3Tg1ayZAgAABAgQIECBAgECDBNwRtEHD1AqBhALOXEs4dC0TIECAAAECBAgQIECgLgKCtbpMwjoIEBitgDPXRivncwQIECBAgAABAgQIECCwRgJuXLBGfD5MgEBNBJy5VpNBWAYBAgQIECBAgAABAgQyCQjWMk1brwSaLSBca/Z8dUeAAAECBAgQIECAAIHaCQjWajcSCyJAYA0EfC10DfB8lAABAgQIECBAgAABAgRGJuCOoCPzsjcBAvUXEK7Vf0ZWSIAAAQIECBAgQIAAga4XqG5cMGXBVaX67UGAAIEmCQjXmjRNvRAgQIAAAQIECBAgQKCGAu4IWsOhWBIBAmECwrUwSoUIECBAgAABAgQIECBAYLCA66sNFrFNgEDTBNzQoGkT1Q8BAgQIECBAgAABAgRqIiBYq8kgLIMAgTEVcObamPIqToAAAQIECBAgQIAAgZwC1VdBXV8t5+x1TSCbgDPXsk1cvwQIECBAgAABAgQIECBAgAABAmECwrUwSoUIECBAgAABAgQIECBAgAABAgSyCQjXsk1cvwQIECBAgAABAgQIECBAgAABAmECwrUwSoUIECBAgAABAgQIECBAgAABAgSyCQjXsk1cvwQIECBAgAABAgQIECBAgAABAmECwrUwSoUIECBAgAABAgQIECBAgAABAgSyCQjXsk1cvwQIECBAgAABAgQIECBAgAABAmECwrUwSoUIECBAgAABAgQIECBAgAABAgSyCQjXsk1cvwQIECBAgAABAgQIECBAgAABAmECwrUwSoUIECBAgAABAgQIECBAgAABAgSyCQjXsk1cvwQIECBAgAABAgQIECBAgAABAmECwrUwSoUIECBAgAABAgQIECBAgAABAgSyCQjXsk1cvwQIECBAgAABAgQIECBAgAABAmECwrUwSoUIECBAgAABAgQIECBAgAABAgSyCQjXsk1cvwQIECBAgAABAgQIECBAgAABAmECwrUwSoUIECBAgAABAgQIECBAgAABAgSyCQjXsk1cvwQIECBAgAABAgQINFqgt/Q2uj/NESBAoG4CwrW6TcR6CBAgQIAAAQIECBAgQIAAAQIEukZAuNY1o7JQAgQIECBAgAABAgQIECBAgACBugkI1+o2EeshQIAAAQIECBAgQIAAAQIECBDoGgHhWteMykIJECBAgAABAgQIECBAgAABAgTqJiBcq9tErIcAAQIECBAgQIAAAQIECBAgQKBrBIRrXTMqCyVAgAABAgQIECBAgAABAgQIEKibgHCtbhOxHgIECBAgQIAAAQIECBAgQIAAga4REK51zagslAABAgQIECBAgAABAgQIECBAoG4CwrW6TcR6CBAgQIAAAQIECBAgQIAAAQIEukZAuNY1o7JQAgQIECBAgAABAgQIECBAgACBugkI1+o2EeshQIAAAQIECBAgQIAAAQIECBDoGgHhWteMykIJECBAgAABAgQIECAwvEBP6Rl+J3sQIECAQJiAcC2MUiECBAgQIECAAAECBAgQIECAAIFsAsK1bBPXLwECBAgQIECAAAECBAgQIECAQJiAcC2MUiECBAgQIECAAAECBAgQIECAAIFsAsK1bBPXLwECBAgQIECAAAECBAgQIECAQJiAcC2MUiECBAgQIECAAAECBAgQIECAAIFsAsK1bBPXLwECBAgQIECAAAECBAgQIECAQJiAcC2MUiECBAgQIECAAAECBAgQIECAAIFsAsK1bBPXLwECBAgQIECAAAECBAgQIECAQJiAcC2MUiECBAgQIECAAAECBAgQIECAAIFsAsK1bBPXLwECBAgQIECAAAECBAgQIECAQJiAcC2MUiECBAgQIECAAAECBAgQIECAAIFsAsK1bBPXLwECBAgQIECAAAECBAgQIECAQJiAcC2MUiECBAgQIECAAAECBAgQIECAAIFsAsK1bBPXLwECBAgQIECAAAECBAgQIECAQJiAcC2MUiECBAgQIECAAAECBAgQIECAAIFsAsK1bBPXLwECBAgQIECAAAECBAgQIECAQJiAcC2MUiECBAgQIECAAAECBAgQIECAAIFsAsK1bBPXLwECBAgQIECAAAECBAgQIECAQJiAcC2MUiECBAgQIECAAAECBAgQIECAAIFsAsK1bBPXLwECBAgQIECAAAECBAgQIECAQJiAcC2MUiECBAgQIECAAAECBAgQIECAAIFsAsK1bBPXLwECBAgQIECAAAECBAgQIECAQJiAcC2MUiECBAgQIECAAAECBAgQIECAAIFsAsK1bBPXLwECBAgQIECAAAECBAgQIECAQJiAcC2MUiECBAgQIECAAAECBAgQIECAAIFsAsK1bBPXLwECBAgQIECAAAECBAgQIECAQJiAcC2MUiECBAgQIECAAAECBAgQIECAAIFsAsK1bBPXLwECBAgQIECAAAECBAgQIECAQJiAcC2MUiECBAgQIECAAAECBAgQIECAAIFsAsK1bBPXLwECBAgQIECAAAECBAgQIECAQJiAcC2MUiECBAgQIECAAAECBAgQIECAAIFsAsK1bBPXLwECBAgQIECAAAECBAgQIECAQJiAcC2MUiECBAgQIECAAAECBAgQIECAAIFsAsK1bBPXLwECBAgQIECAAAECBAgQIECAQJiAcC2MUiECBAgQIECAAAECBAgQIECAAIFsAsK1bBPXLwECBAgQIECAAAECBAgQIECAQJiAcC2MUiECBAgQIECAAAECBAgQIECAAIFsAsK1bBPXLwECBAgQIECAAAECBAgQIECAQJiAcC2MUiECBAgQIECAAAECBAgQIECAAIFsAsK1bBPXLwECBAgQIECAAAECBAgQIECAQJiAcC2MUiECBAgQIECAAAECBAgQIECAAIFsAsK1bBPXLwECBAgQIECAAAECBAgQIECAQJiAcC2MUiECBAgQIECAAAECBAgQIECAAIFsAsK1bBPXLwECBAgQIECAAAECBAgQIECAQJiAcC2MUiECBAgQIECAAAECBAgQIECAAIFsAsK1bBPXLwECBAgQIECAAAECBAgQIECAQJiAcC2MUiECBAgQIECAAAECBAgQIECAAIH8ifmrAAAL5ElEQVRsAsK1bBPXLwECBAgQIECAAAECBAgQIECAQJiAcC2MUiECBAgQIECAAAECBAgQIECAAIFsAsK1bBPXLwECBAgQIECAAAECBAgQIECAQJiAcC2MUiECBAgQIECAAAECBAgQIECAAIFsAsK1bBPXLwECBAgQIECAAAECBAgQIECAQJiAcC2MUiECBAgQIECAAAECBAgQIECAAIFsAsK1bBPXLwECBAgQIECAAAECBAgQIECAQJiAcC2MUiECBAgQIECAAAECBAgQIECAAIFsAsK1bBPXLwECBAgQIECAAAECBAgQIECAQJiAcC2MUiECBAgQIECAAAECBAgQIECAAIFsAsK1bBPXLwECBAgQIECAAAECBAgQIECAQJiAcC2MUiECBAgQIECAAAECBAgQIECAAIFsAsK1bBPXLwECBAgQIECAAAECBAgQIECAQJiAcC2MUiECBAgQIECAAAECBAgQIECAAIFsAsK1bBPXLwECBAgQIECAAAECBAgQIECAQJiAcC2MUiECBAgQIECAAAECBAgQIECAAIFsAsK1bBPXLwECBAgQIECAAAECBAgQIECAQJiAcC2MUiECBAgQIECAAAECBAgQIECAAIFsAsK1bBPXLwECBAgQIECAAAECBAgQIECAQJiAcC2MUiECBAgQIECAAAECBAgQIECAAIFsAsK1bBPXLwECBAgQIECAAAECBAgQIECAQJiAcC2MUiECBAgQIECAAAECBAgQIECAAIFsAsK1bBPXLwECBAgQIECAAAECBAgQIECAQJiAcC2MUiECBAgQIECAAAECBAgQIECAAIFsAsK1bBPXLwECBAgQIECAAIExEujpGaPCyhIgQIAAgRoLCNdqPBxLI0CAAAECBAgQIECAAAECBAgQqLeAcK3e87E6AgQIECBAgAABAgQIECBAgACBGgsI12o8HEsjQIAAAQIECBAgQIAAAQIECBCot4Bwrd7zsToCBAgQIECAAAECBAgQIECAAIEaCwjXajwcSyNAgAABAgQIECBAgAABAgQIEKi3gHCt3vOxOgIECBAgQIAAAQJdI9Db2zVLtVACBAgQIBAmIFwLo1SIAAECBAgQIECAAAECBAgQIEAgm4BwLdvE9UuAAAECBAgQIECAAAECBAgQIBAmIFwLo1SIAAECBAgQIECAAAECBAgQIEAgm4BwLdvE9UuAAAECBAgQIECAAAECBAgQIBAmIFwLo1SIAAECBAgQIECAAAECBAgQIEAgm4BwLdvE9UuAAAECBAgQIECAAAECBAgQIBAmIFwLo1SIAAECBAgQIECAAAECBAgQIEAgm4BwLdvE9UuAAAECBAgQIECAAAECBAgQIBAmIFwLo1SIAAECBAgQIECAAAECBAgQIEAgm4BwLdvE9UuAAAECBAgQIECAAAECBAgQIBAmIFwLo1SIAAECBAgQIECAAAECBAgQIEAgm4BwLdvE9UuAAAECBAgQIECAAAECBAgQIBAmIFwLo1SIAAECBAgQIECAAAECBAgQIEAgm4BwLdvE9UuAAAECBAgQIECAAAECBAgQIBAmIFwLo1SIAAECBAgQIECAAAECBAgQIEAgm4BwLdvE9UuAAAECBAgQIECAAAECBAgQIBAmIFwLo1SIAAECBAgQIECAAAECBAgQIEAgm4BwLdvE9UuAAAECBAgQIECAAAECBAgQIBAmIFwLo1SIAAECBAgQIECAAAECBAgQIEAgm4BwLdvE9UuAAAECBAgQIECAAAECBAgQIBAmIFwLo1SIAAECBAgQIECAAAECBAgQIEAgm4BwLdvE9UuAAAECBAgQIECAAAECBAgQIBAmIFwLo1SIAAECBAgQIECAAAECBAgQIEAgm4BwLdvE9UuAAAECBAgQIECAAAECBAgQIBAmIFwLo1SIAAECBAgQIECAAAECBAgQIEAgm4BwLdvE9UuAAAECBAgQIECAAAECBAgQIBAmIFwLo1SIAAECBAgQIECAAAECBAgQIEAgm4BwLdvE9UuAAAECBAgQIECAAAECBAgQIBAmIFwLo1SIAAECBAgQIECAAAECBAgQIEAgm4BwLdvE9UuAAAECBAgQIECAAAECBAgQIBAmIFwLo1SIAAECBAgQIECAAAECBAgQIEAgm4BwLdvE9UuAAAECBAgQIECAAAECBAgQIBAmIFwLo1SIAAECBAgQIECAAAECBAgQIEAgm4BwLdvE9UuAAAECBAgQIECAAAECBAgQIBAmIFwLo1SIAAECBAgQIECAAAECBAgQIEAgm4BwLdvE9UuAAAECBAgQIECAAAECBAgQIBAmIFwLo1SIAAECBAgQIECAAAECBAgQIEAgm4BwLdvE9UuAAAECBAgQIECAAAECBAgQIBAmIFwLo1SIAAECBAgQIECAAAECBAgQIEAgm4BwLdvE9UuAAAECBAgQIECAAAECBAgQIBAmIFwLo1SIAAECBAgQIECAAAECBAgQIEAgm4BwLdvE9UuAAAECBAgQIECAAAECBAgQIBAmIFwLo1SIAAECBAgQIECAAAECBAgQIEAgm4BwLdvE9UuAAAECBAgQIECAAAECBAgQIBAmIFwLo1SIAAECBAgQIECAAAECdRDorcMirIEAAQJpBIRraUatUQIECBAgQIAAAQIECBAgQIAAgWgB4Vq0qHoECBAgQIAAAQIECBAgQIAAAQJpBIRraUatUQIECBAgQIAAAQIECBAgQIAAgWgB4Vq0qHoECBAgQIAAAQIECBAgQIAAAQJpBIRraUatUQIECBAgQIAAAQIECBAgQIAAgWgB4Vq0qHoECBAgQIAAAQIECBAgQIAAAQJpBIRraUatUQIECBAgQIAAAQIECBAgQIAAgWgB4Vq0qHoECBAgQIAAAQIECBAgQIAAAQJpBIRraUatUQIECBAgQIAAAQIECBAgQIAAgWgB4Vq0qHoECBAgQIAAAQIECBAgQIAAAQJpBIRraUatUQIECBAgQIAAAQIECBAgQIAAgWgB4Vq0qHoECBAgQIAAAQIECBAgQIAAAQJpBIRraUatUQIECBAgQIAAAQIECBAgQIAAgWgB4Vq0qHoECBAgQIAAAQIECBAgQIAAAQJpBIRraUatUQIECBAgQIAAAQIECBAgQIAAgWgB4Vq0qHoECBAgQIAAAQIECBAgQIAAAQJpBIRraUatUQIECBAgQIAAAQIECBAgQIAAgWgB4Vq0qHoECBAgQIAAAQIECBAgQIAAAQJpBIRraUatUQIECBAgQIAAAQIECBAgQIAAgWgB4Vq0qHoECBAgQIAAAQIECBAgQIAAAQJpBIRraUatUQIECBAgQIAAAQIECBAgQIAAgWgB4Vq0qHoECBAgQIAAAQIECBAgQIAAAQJpBIRraUatUQIECBAgQIAAAQIECBAgQIAAgWgB4Vq0qHoECBAgQIAAAQIECBAgQIAAAQJpBIRraUatUQIECBAgQIAAAQIECBAgQIAAgWgB4Vq0qHoECBAgQIAAAQIECBAgQIAAAQJpBIRraUatUQIECBAgQIAAAQIECBAgQIAAgWgB4Vq0qHoECBAgQIAAAQIECBAgQIAAAQJpBIRraUatUQIECBAgQIAAAQIECBAgQIAAgWgB4Vq0qHoECBAgQIAAAQIECBAgQIAAAQJpBIRraUatUQIECBAgQIAAAQIECBAgQIAAgWgB4Vq0qHoECBAgQIAAAQIECBAgQIAAAQJpBHp6+x5Ddjv0q0Pu6kUCBAgQWE2BntXcz25jLrCSf/3G/LgOQIAAgSYLvPFGb5k0yT92tZhx769rsQyLIECAQKMEeoY+R23l4VqjutcMAQIECBAgQIAAAQIECBAgQIAAgXiBoSO3+OOoSIAAAQIECBAgQIAAAQIECBAgQKBxAsK1xo1UQwQIECBAgAABAgQIECBAgAABAuMlIFwbL2nHIUCAAAECBAgQIECAAAECBAgQaJyAcK1xI9UQAQIECBAgQIAAAQIECBAgQIDAeAkI18ZL2nEIECBAgAABAgQIECBAgAABAgQaJyBca9xINUSAAAECBAgQIECAAAECBAgQIDBeAv8PTmqvLlwBTs0AAAAASUVORK5CYII=)"
      ],
      "metadata": {
        "id": "ZRAQ_vYf1h7H"
      }
    },
    {
      "cell_type": "markdown",
      "source": [
        "1.  Commit your staged file with a descriptive message. A \"chore\" prefix is often used for project maintenance tasks like this."
      ],
      "metadata": {
        "id": "gm6Hlntn1h2-"
      }
    },
    {
      "cell_type": "code",
      "source": [
        "git commit -m \"chore: Add initial project dependencies\""
      ],
      "metadata": {
        "id": "Sc289M5HySk2"
      },
      "execution_count": null,
      "outputs": []
    },
    {
      "cell_type": "markdown",
      "source": [
        "> Prefixes like `feat:` (for a new feature), `fix:` (for a bug fix), `docs:` (for documentation), or `chore:` (for maintenance) make your project history much easier to read at a glance. It is not a Git requirement, but it is a professional habit that we recommend you follow.\n",
        "\n",
        "2.  Let's check our status one last time. The output is clean again, confirming your changes are safely stored."
      ],
      "metadata": {
        "id": "5LwJwMfzyS75"
      }
    },
    {
      "cell_type": "code",
      "source": [
        "git status"
      ],
      "metadata": {
        "id": "NGPOiJL0yZON"
      },
      "execution_count": null,
      "outputs": []
    },
    {
      "cell_type": "markdown",
      "source": [
        "3.  The output is clean again, confirming your changes are safely stored in the repository.\n",
        "\n",
        "  ```\n",
        "  On branch main\n",
        "  nothing to commit, working tree clean\n",
        "  ```"
      ],
      "metadata": {
        "id": "SWs4USM3yZgh"
      }
    },
    {
      "cell_type": "markdown",
      "source": [
        "You may now be asking, why not just commit directly from the working directory?\n",
        "\n",
        "The staging area gives you precise control over what you save. Your working directory might contain five modified files, but you might only want to save the changes from three of them in your next commit because those three are related to a single, complete task.\n",
        "\n",
        "The staging area allows you to:\n",
        "\n",
        "* **Craft Logical Commits:** You can group related changes together. For example, you can stage changes from three different files that all contribute to fixing one specific bug. This creates a single, logical \"atomic\" commit that is easy to understand later.\n",
        "\n",
        "* **Exclude Unfinished Work:** It lets you keep your unfinished or experimental code in your working directory while only committing the parts that are complete and working. This prevents you from saving broken code into your project's history.\n",
        "\n",
        "* **Review Changes:** The act of staging forces you to review which changes you are about to save. This deliberate step helps you catch mistakes and ensure your commit message accurately reflects the changes you are including.\n",
        "\n",
        "The staging area is a tool that separates your messy, in-progress work from the clean, meaningful history you are building. It transforms the act of saving from a simple \"save all\" into the professional practice of crafting a deliberate, understandable, and navigable project history."
      ],
      "metadata": {
        "id": "2o32Mf9321n1"
      }
    },
    {
      "cell_type": "markdown",
      "source": [
        "### 2.6. Telling Git What to Ignore\n",
        "\n",
        "A crucial skill in any project is telling Git to ignore certain files. We never want to commit large data files or sensitive credentials to our repository. This is handled with a special file called `.gitignore`.\n",
        "\n",
        "1.  In VS Code, create a new file and name it `.gitignore`.\n",
        "2.  In the editor, type the following line and save the file.\n",
        "    ```\n",
        "    *.env\n",
        "    ```\n",
        "> This will prevent Git from tracking any files ending in `.env`, which will prevent any sensitive information from being accidently shared.\n",
        "\n",
        "A full `.gitignore` ignore file often looks something like this:\n",
        "\n",
        "```bash\n",
        "# Byte-compiled / optimized / DLL files\n",
        "__pycache__/\n",
        "*.py[codz]\n",
        "*$py.class\n",
        "\n",
        "# C extensions\n",
        "*.so\n",
        "\n",
        "# Distribution / packaging\n",
        ".Python\n",
        "build/\n",
        "develop-eggs/\n",
        "dist/\n",
        "downloads/\n",
        "eggs/\n",
        ".eggs/\n",
        "lib/\n",
        "lib64/\n",
        "parts/\n",
        "sdist/\n",
        "var/\n",
        "wheels/\n",
        "share/python-wheels/\n",
        "*.egg-info/\n",
        ".installed.cfg\n",
        "*.egg\n",
        "MANIFEST\n",
        "\n",
        "# PyInstaller\n",
        "#  Usually these files are written by a python script from a template\n",
        "#  before PyInstaller builds the exe, so as to inject date/other infos into it.\n",
        "*.manifest\n",
        "*.spec\n",
        "\n",
        "# Installer logs\n",
        "pip-log.txt\n",
        "pip-delete-this-directory.txt\n",
        "\n",
        "# Unit test / coverage reports\n",
        "htmlcov/\n",
        ".tox/\n",
        ".nox/\n",
        ".coverage\n",
        ".coverage.*\n",
        ".cache\n",
        "nosetests.xml\n",
        "coverage.xml\n",
        "*.cover\n",
        "*.py.cover\n",
        ".hypothesis/\n",
        ".pytest_cache/\n",
        "cover/\n",
        "\n",
        "# Translations\n",
        "*.mo\n",
        "*.pot\n",
        "\n",
        "# Django stuff:\n",
        "*.log\n",
        "local_settings.py\n",
        "db.sqlite3\n",
        "db.sqlite3-journal\n",
        "\n",
        "# Flask stuff:\n",
        "instance/\n",
        ".webassets-cache\n",
        "\n",
        "# Scrapy stuff:\n",
        ".scrapy\n",
        "\n",
        "# Sphinx documentation\n",
        "docs/_build/\n",
        "\n",
        "# PyBuilder\n",
        ".pybuilder/\n",
        "target/\n",
        "\n",
        "# Jupyter Notebook\n",
        ".ipynb_checkpoints\n",
        "\n",
        "# IPython\n",
        "profile_default/\n",
        "ipython_config.py\n",
        "\n",
        "# pyenv\n",
        "#   For a library or package, you might want to ignore these files since the code is\n",
        "#   intended to run in multiple environments; otherwise, check them in:\n",
        "# .python-version\n",
        "\n",
        "# pipenv\n",
        "#   According to pypa/pipenv#598, it is recommended to include Pipfile.lock in version control.\n",
        "#   However, in case of collaboration, if having platform-specific dependencies or dependencies\n",
        "#   having no cross-platform support, pipenv may install dependencies that don't work, or not\n",
        "#   install all needed dependencies.\n",
        "#Pipfile.lock\n",
        "\n",
        "# UV\n",
        "#   Similar to Pipfile.lock, it is generally recommended to include uv.lock in version control.\n",
        "#   This is especially recommended for binary packages to ensure reproducibility, and is more\n",
        "#   commonly ignored for libraries.\n",
        "#uv.lock\n",
        "\n",
        "# poetry\n",
        "#   Similar to Pipfile.lock, it is generally recommended to include poetry.lock in version control.\n",
        "#   This is especially recommended for binary packages to ensure reproducibility, and is more\n",
        "#   commonly ignored for libraries.\n",
        "#   https://python-poetry.org/docs/basic-usage/#commit-your-poetrylock-file-to-version-control\n",
        "#poetry.lock\n",
        "#poetry.toml\n",
        "\n",
        "# pdm\n",
        "#   Similar to Pipfile.lock, it is generally recommended to include pdm.lock in version control.\n",
        "#   pdm recommends including project-wide configuration in pdm.toml, but excluding .pdm-python.\n",
        "#   https://pdm-project.org/en/latest/usage/project/#working-with-version-control\n",
        "#pdm.lock\n",
        "#pdm.toml\n",
        ".pdm-python\n",
        ".pdm-build/\n",
        "\n",
        "# pixi\n",
        "#   Similar to Pipfile.lock, it is generally recommended to include pixi.lock in version control.\n",
        "#pixi.lock\n",
        "#   Pixi creates a virtual environment in the .pixi directory, just like venv module creates one\n",
        "#   in the .venv directory. It is recommended not to include this directory in version control.\n",
        ".pixi\n",
        "\n",
        "# PEP 582; used by e.g. github.com/David-OConnor/pyflow and github.com/pdm-project/pdm\n",
        "__pypackages__/\n",
        "\n",
        "# Celery stuff\n",
        "celerybeat-schedule\n",
        "celerybeat.pid\n",
        "\n",
        "# SageMath parsed files\n",
        "*.sage.py\n",
        "\n",
        "# Environments\n",
        ".env\n",
        ".envrc\n",
        ".venv\n",
        "env/\n",
        "venv/\n",
        "ENV/\n",
        "env.bak/\n",
        "venv.bak/\n",
        "\n",
        "# Spyder project settings\n",
        ".spyderproject\n",
        ".spyproject\n",
        "\n",
        "# Rope project settings\n",
        ".ropeproject\n",
        "\n",
        "# mkdocs documentation\n",
        "/site\n",
        "\n",
        "# mypy\n",
        ".mypy_cache/\n",
        ".dmypy.json\n",
        "dmypy.json\n",
        "\n",
        "# Pyre type checker\n",
        ".pyre/\n",
        "\n",
        "# pytype static type analyzer\n",
        ".pytype/\n",
        "\n",
        "# Cython debug symbols\n",
        "cython_debug/\n",
        "\n",
        "# PyCharm\n",
        "#  JetBrains specific template is maintained in a separate JetBrains.gitignore that can\n",
        "#  be found at https://github.com/github/gitignore/blob/main/Global/JetBrains.gitignore\n",
        "#  and can be added to the global gitignore or merged into this file.  For a more nuclear\n",
        "#  option (not recommended) you can uncomment the following to ignore the entire idea folder.\n",
        "#.idea/\n",
        "\n",
        "# Abstra\n",
        "# Abstra is an AI-powered process automation framework.\n",
        "# Ignore directories containing user credentials, local state, and settings.\n",
        "# Learn more at https://abstra.io/docs\n",
        ".abstra/\n",
        "\n",
        "# Visual Studio Code\n",
        "#  Visual Studio Code specific template is maintained in a separate VisualStudioCode.gitignore\n",
        "#  that can be found at https://github.com/github/gitignore/blob/main/Global/VisualStudioCode.gitignore\n",
        "#  and can be added to the global gitignore or merged into this file. However, if you prefer,\n",
        "#  you could uncomment the following to ignore the entire vscode folder\n",
        "# .vscode/\n",
        "\n",
        "# Ruff stuff:\n",
        ".ruff_cache/\n",
        "\n",
        "# PyPI configuration file\n",
        ".pypirc\n",
        "\n",
        "# Cursor\n",
        "#  Cursor is an AI-powered code editor. `.cursorignore` specifies files/directories to\n",
        "#  exclude from AI features like autocomplete and code analysis. Recommended for sensitive data\n",
        "#  refer to https://docs.cursor.com/context/ignore-files\n",
        ".cursorignore\n",
        ".cursorindexingignore\n",
        "\n",
        "# Marimo\n",
        "marimo/_static/\n",
        "marimo/_lsp/\n",
        "__marimo__/\n",
        "```\n",
        "\n",
        "> If you'd like to use this as your `.gitignore` file, copy and paste it to your project. You might want to change the commit message below to something more appropriate.\n",
        "\n",
        "3.  In your terminal, stage and commit the file."
      ],
      "metadata": {
        "id": "ag7crnQfylOy"
      }
    },
    {
      "cell_type": "code",
      "source": [
        "git add .gitignore"
      ],
      "metadata": {
        "id": "QCQIiygux_fp"
      },
      "execution_count": null,
      "outputs": []
    },
    {
      "cell_type": "code",
      "source": [
        "git commit -m \"chore: Add .gitignore to exclude .env files\""
      ],
      "metadata": {
        "id": "uaUzahyQyvEZ"
      },
      "execution_count": null,
      "outputs": []
    },
    {
      "cell_type": "markdown",
      "source": [
        "### 2.7. Set Up the Project Environment\n",
        "\n",
        "Now that we've defined our project's dependencies in `requirements.txt`, we can create a virtual environment to install them.\n",
        "\n",
        "1. Create the Conda Environment. In your terminal, run the following command to create a new environment named `sentiment-analysis-env` with a specific version of Python."
      ],
      "metadata": {
        "id": "mbqFKHuq42sp"
      }
    },
    {
      "cell_type": "code",
      "source": [
        "conda create -n sentiment-analysis-env python=3.11 -y"
      ],
      "metadata": {
        "id": "foCfZEd25RA6"
      },
      "execution_count": null,
      "outputs": []
    },
    {
      "cell_type": "markdown",
      "source": [
        "2.  Before you can use the environment, you need to activate it."
      ],
      "metadata": {
        "id": "uImX0Qfw5RcP"
      }
    },
    {
      "cell_type": "code",
      "source": [
        "conda activate sentiment-analysis-env"
      ],
      "metadata": {
        "id": "FobMHVA45cow"
      },
      "execution_count": null,
      "outputs": []
    },
    {
      "cell_type": "markdown",
      "source": [
        "You will see your terminal prompt change to show the name of the active environment, like `(sentiment-analysis-env)`.\n",
        "\n",
        "3.  With the environment active, you can now use `pip` (the Python Package Installer) to install all the libraries listed in your `requirements.txt` file."
      ],
      "metadata": {
        "id": "41FQaTi05dNP"
      }
    },
    {
      "cell_type": "code",
      "source": [
        "pip install -r requirements.txt"
      ],
      "metadata": {
        "id": "Ri6BK2-m5kam"
      },
      "execution_count": null,
      "outputs": []
    },
    {
      "cell_type": "markdown",
      "source": [
        "This command reads the file and installs the exact versions of the packages specified. Your environment is now ready for development.\n",
        "\n",
        "> `-r` stands for requirement file."
      ],
      "metadata": {
        "id": "N5zdxB7g5qqn"
      }
    },
    {
      "cell_type": "markdown",
      "source": [
        "### 2.8. A Data Scientist's Workflow\n",
        "\n",
        "Let's walk through a common scenario. When starting a new project, you'll add the dataset and then write the code that loads it. Although related, these are distinct tasks: the dataset is an asset, while the script is a feature. A clean project history keeps these two changes separate."
      ],
      "metadata": {
        "id": "EU_yvGvi9PAm"
      }
    },
    {
      "cell_type": "markdown",
      "source": [
        "#### Step 1: Add the Data\n",
        "\n",
        "1.  In the VS Code Explorer on the left, click the \"New Folder\" icon to create a directory. Name it `data` and press Enter.\n",
        "2.  Click on the newly created `data` folder to select it. Now, click the \"New File\" icon to create a file inside it. Name the file `sentiments.csv`.\n",
        "3.  The `sentiments.csv` file will open in the editor. Copy and paste the following content into it, then save the file.\n",
        "    ```csv\n",
        "    text,label\n",
        "    \"I loved this film\",1\n",
        "    \"Terrible acting and a weak plot\",0\n",
        "    \"Surprisingly good\",1\n",
        "    \"That was bad\",0\n",
        "    \"Not my cup of tea\",0\n",
        "    \"Absolutely brilliant from start to finish\",1\n",
        "    \"Utter rubbish, I almost walked out\",0\n",
        "    \"Decent story and lovely soundtrack\",1\n",
        "    \"Boring and far too long\",0\n",
        "    \"The cast were fantastic\",1\n",
        "    \"The dialogue was cringeworthy\",0\n",
        "    \"Exceeded my expectations\",1\n",
        "    \"I would not recommend it\",0\n",
        "    \"A charming, feel-good watch\",1\n",
        "    \"Confusing plot and poor pacing\",0\n",
        "    \"Kept me on the edge of my seat\",1\n",
        "    \"Predictable with no surprises\",0\n",
        "    \"Beautifully shot and well acted\",1\n",
        "    \"The jokes fell flat\",0\n",
        "    \"An instant favourite\",1\n",
        "    \"Disappointing ending\",0\n",
        "    ```"
      ],
      "metadata": {
        "id": "tOMTAs979eGS"
      }
    },
    {
      "cell_type": "markdown",
      "source": [
        "#### Step 2: Add the Initial Script\n",
        "\n",
        "1.  Click in an empty area of the VS Code Explorer to deselect the `data` folder. Click the \"New Folder\" icon again to create a new directory in the project root. Name it `src`.\n",
        "2.  Select the new `src` folder and click the \"New File\" icon. Name the file `train.py`.\n",
        "3.  Copy and paste the following Python code into the editor, then save the file. This script defines a function to load our data and includes a small block at the end to test that it works."
      ],
      "metadata": {
        "id": "gz3i1JEu9ucm"
      }
    },
    {
      "cell_type": "code",
      "source": [
        "import pandas as pd\n",
        "\n",
        "def load_and_validate_data(data_path: str) -> pd.DataFrame:\n",
        "    \"\"\"\n",
        "    Loads data from a CSV and ensures it has the required columns.\n",
        "    \"\"\"\n",
        "    df = pd.read_csv(data_path)\n",
        "    if not {\"text\", \"label\"}.issubset(df.columns):\n",
        "        raise ValueError(\"CSV must contain 'text' and 'label' columns\")\n",
        "    return df\n",
        "\n",
        "if __name__ == \"__main__\":\n",
        "    df = load_and_validate_data(\"data/sentiments.csv\")\n",
        "    print(df.head())"
      ],
      "metadata": {
        "id": "x0UPVTWu9RlR"
      },
      "execution_count": null,
      "outputs": []
    },
    {
      "cell_type": "markdown",
      "source": [
        "#### Step 3: Review and Commit Separately\n",
        "\n",
        "Committing both files together would be confusing. The data loading code is a \"feature,\" while the sentiments are \"data.\" It's best practice to separate them.\n",
        "\n",
        "1.  Now, in the VS Code terminal, check your status. You'll see two untracked directories."
      ],
      "metadata": {
        "id": "zdah4AWY-g4e"
      }
    },
    {
      "cell_type": "code",
      "source": [
        "git status"
      ],
      "metadata": {
        "id": "0AevEFV6-h1e"
      },
      "execution_count": null,
      "outputs": []
    },
    {
      "cell_type": "markdown",
      "source": [
        "```\n",
        "On branch main\n",
        "Untracked files:\n",
        "  (use \"git add <file>...\" to include in what will be committed)\n",
        "        data/\n",
        "        src/\n",
        "```\n",
        "2.  First, let's stage and commit the data."
      ],
      "metadata": {
        "id": "r46JmGpcFrWu"
      }
    },
    {
      "cell_type": "code",
      "source": [
        "git add data/"
      ],
      "metadata": {
        "id": "wN-8n3CGFz_Y"
      },
      "execution_count": null,
      "outputs": []
    },
    {
      "cell_type": "code",
      "source": [
        "git commit -m \"data: Add initial training dataset\""
      ],
      "metadata": {
        "id": "VXkRKRsgF5S1"
      },
      "execution_count": null,
      "outputs": []
    },
    {
      "cell_type": "markdown",
      "source": [
        "3.  Now we can stage and commit the new script."
      ],
      "metadata": {
        "id": "17writ_lF9AL"
      }
    },
    {
      "cell_type": "code",
      "source": [
        "git add src/"
      ],
      "metadata": {
        "id": "MwffnbidF9cx"
      },
      "execution_count": null,
      "outputs": []
    },
    {
      "cell_type": "code",
      "source": [
        "git commit -m \"feat: Add function to load and validate data\""
      ],
      "metadata": {
        "id": "n-LQH8i6GAaP"
      },
      "execution_count": null,
      "outputs": []
    },
    {
      "cell_type": "markdown",
      "source": [
        "You've now created two clean, logical commits that are easy to understand later."
      ],
      "metadata": {
        "id": "n_wpEvxTH3NA"
      }
    },
    {
      "cell_type": "markdown",
      "source": [
        "#### Step 4: Test the Result\n",
        "\n",
        "With a clean working directory and our changes saved, we can test that our script works.\n",
        "\n",
        "1.  In the VS Code terminal, run the script."
      ],
      "metadata": {
        "id": "7_NFBjFmGD_m"
      }
    },
    {
      "cell_type": "code",
      "source": [
        "python src/train.py"
      ],
      "metadata": {
        "id": "l6tijGtyGGnR"
      },
      "execution_count": null,
      "outputs": []
    },
    {
      "cell_type": "markdown",
      "source": [
        "2.  You should see the following output, confirming that the script can successfully load and display the data.\n",
        "    ```\n",
        "                                           text  label\n",
        "    0                         I loved this film      1\n",
        "    1           Terrible acting and a weak plot      0\n",
        "    2                         Surprisingly good      1\n",
        "    3                              That was bad      0\n",
        "    4                         Not my cup of tea      0\n",
        "    ```"
      ],
      "metadata": {
        "id": "OinkiShUGI9O"
      }
    },
    {
      "cell_type": "markdown",
      "source": [
        "### 2.9. How Often Should I Commit?\n",
        "\n",
        "This is a critical concept. Do not commit on a timer (e.g., every 20 minutes) or just once at the end of the day.\n",
        "\n",
        "Commit when you complete a logical, self-contained unit of work.\n",
        "\n",
        "Think of commits as save points in a video game. You save after you've completed a level or found a key item, not just because an hour has passed.\n",
        "\n",
        "#### Good times to make a commit:\n",
        "\n",
        "  * **After adding a small, working feature:** Your script now loads data? Commit. You added a cleaning function that works? Commit.\n",
        "  * **After fixing a specific bug:** Found and fixed a bug? Commit it with a message describing the fix.\n",
        "  * **After writing documentation:** Added comments or updated the README? Commit.\n",
        "  * **Before starting a big change:** About to refactor a large piece of code? Commit your current working version first so you have a safe point to return to if things go wrong.\n",
        "\n",
        "A single daily commit often bundles dozens of unrelated changes (a bug fix, a new feature, documentation, experiments). This makes your project history messy and makes it nearly impossible to undo a single mistake without losing all the other work from that day.\n",
        "\n",
        "**The Golden Rule:** Small, frequent, and logical commits are the key to a professional workflow."
      ],
      "metadata": {
        "id": "OAJzHvPLH89Q"
      }
    },
    {
      "cell_type": "markdown",
      "source": [
        "---\n",
        "## 3.&nbsp; Viewing Project History 📜\n",
        "\n",
        "This section is all about looking into your project's past. You'll learn how to view, filter, and search the history of your commits to understand how your project has evolved and to track down specific changes."
      ],
      "metadata": {
        "id": "_zxxN6ezIJ4W"
      }
    },
    {
      "cell_type": "markdown",
      "source": [
        "### 3.1. Your First Look at the Log\n",
        "\n",
        "The `git log` command is your time machine. It lets you see the entire history of save points you've created.\n",
        "\n",
        "1.  In your terminal, run:"
      ],
      "metadata": {
        "id": "Cd8qXI8JIMuF"
      }
    },
    {
      "cell_type": "code",
      "source": [
        "git log"
      ],
      "metadata": {
        "id": "CLniDYOKGOfG"
      },
      "execution_count": null,
      "outputs": []
    },
    {
      "cell_type": "markdown",
      "source": [
        "2.  You will see a detailed list of every commit you've made, starting with the most recent. Each entry contains the unique commit hash, the author, the date, and the full commit message.\n",
        "    ```\n",
        "    commit a1b2c3d4e5f6a7b8c9d0e1f2a3b4c5d6e7f8a9b0 (HEAD -> main)\n",
        "    Author: Your Name <youremail@example.com>\n",
        "    Date:   Fri Aug 22 10:30:15 2025 +0100\n",
        "\n",
        "        feat: Add function to load and validate data\n",
        "\n",
        "    commit b2c3d4e5f6a7b8c9d0e1f2a3b4c5d6e7f8a9b0a1\n",
        "    Author: Your Name <youremail@example.com>\n",
        "    Date:   Fri Aug 22 10:25:10 2025 +0100\n",
        "\n",
        "        data: Add initial training dataset\n",
        "\n",
        "    ... (and so on)\n",
        "    ```\n",
        "To exit this scrolling log view, just press `q` on your keyboard.\n"
      ],
      "metadata": {
        "id": "xfwC30XBIRQZ"
      }
    },
    {
      "cell_type": "markdown",
      "source": [
        "### 3.2. Cleaning Up the View\n",
        "\n",
        "The default log is useful but very verbose. For a quick overview of your project's timeline, the `--oneline` flag is perfect.\n",
        "\n",
        "1.  Run the log command with the `--oneline` flag."
      ],
      "metadata": {
        "id": "AQYJXzSwI2x6"
      }
    },
    {
      "cell_type": "code",
      "source": [
        "git log --oneline"
      ],
      "metadata": {
        "id": "z1b1qBFjIRnN"
      },
      "execution_count": null,
      "outputs": []
    },
    {
      "cell_type": "markdown",
      "source": [
        "2.  The output is a much cleaner, scannable list showing just the short version of the commit hash and the commit message.\n",
        "    ```\n",
        "    a05b2cc (HEAD -> main) feat: Add function to load and validate data\n",
        "    efad0ec data: Add initial training dataset\n",
        "    afa700f chore: Add .gitignore to exclude .env files\n",
        "    fcf6c1b chore: Add initial project dependencies\n",
        "    ```\n",
        "> In Git, `HEAD` is a special name that always refers to the commit you are currently working on. Think of it as Git's way of knowing \"you are here.\"\n",
        ">\n",
        "> The text `(HEAD -> main)` means two simple things:\n",
        "> * The branch you currently have checked out is named `main`.\n",
        "> * The commit on that line is the most recent save point on the `main` branch."
      ],
      "metadata": {
        "id": "lxzjhvnGI8Cm"
      }
    },
    {
      "cell_type": "markdown",
      "source": [
        "### 3.3. Seeing What Changed\n",
        "\n",
        "To see which files were affected in each commit and how much they changed, use the `--stat` flag.\n",
        "\n",
        "1.  Run the log command with the `--stat` (for statistics) flag."
      ],
      "metadata": {
        "id": "cI1wn9kRK7fQ"
      }
    },
    {
      "cell_type": "code",
      "source": [
        "git log --stat"
      ],
      "metadata": {
        "id": "8pu0xDmjI8dL"
      },
      "execution_count": null,
      "outputs": []
    },
    {
      "cell_type": "markdown",
      "source": [
        "2.  The output now includes a summary under each commit, showing which files were changed and how many lines were inserted (`+`) or deleted (`-`).\n",
        "    ```\n",
        "    commit a1b2c3d4e5f6a7b8c9d0e1f2a3b4c5d6e7f8a9b0 (HEAD -> main)\n",
        "    ...\n",
        "        feat: Add function to load and validate data\n",
        "\n",
        "     src/train.py | 15 +++++++++++++++\n",
        "     1 file changed, 15 insertions(+)\n",
        "\n",
        "    commit b2c3d4e5f6a7b8c9d0e1f2a3b4c5d6e7f8a9b0a1\n",
        "    ...\n",
        "        data: Add initial training dataset\n",
        "\n",
        "     data/train.csv | 22 ++++++++++++++++++++++\n",
        "     1 file changed, 22 insertions(+)\n",
        "    ...\n",
        "    ```\n",
        "To exit this scrolling log view, just press `q` on your keyboard."
      ],
      "metadata": {
        "id": "4e1Kdp9pLAkC"
      }
    },
    {
      "cell_type": "markdown",
      "source": [
        "### 3.4. Inspecting a Specific Commit\n",
        "\n",
        "When you need to see the exact changes (every single line of code added or removed) for one specific commit, you'll use the `git show` command.\n",
        "\n",
        "1.  First, get the short commit hash (e.g. `bc385fc`) of a commit you want to inspect. For example, run `git log --oneline` and copy the hash of your \"feat: Load data and display head\" commit.\n",
        "2.  Now, use `git show` followed by that hash."
      ],
      "metadata": {
        "id": "L-dHs7lhLl74"
      }
    },
    {
      "cell_type": "code",
      "source": [
        "git show bc385fc"
      ],
      "metadata": {
        "id": "O_EvNXppLIcW"
      },
      "execution_count": null,
      "outputs": []
    },
    {
      "cell_type": "markdown",
      "source": [
        "> Make sure you replace this hash with one from your commits.\n",
        "\n",
        "3.  The output is a detailed \"diff\" of that commit, showing every line that was added or removed.\n",
        "> Type `q` to exit."
      ],
      "metadata": {
        "id": "YoQotJgyLqgq"
      }
    },
    {
      "cell_type": "markdown",
      "source": [
        "### 3.5. Advanced Filtering\n",
        "\n",
        "You can easily filter your project's history by various criteria.\n",
        "\n",
        "1.  Filtering by Time: To see all commits from the last day, use the `--since` flag."
      ],
      "metadata": {
        "id": "slcUS3hwMHWF"
      }
    },
    {
      "cell_type": "code",
      "source": [
        "git log --oneline --since=\"1 day ago\""
      ],
      "metadata": {
        "id": "phFyYIGnLIaU"
      },
      "execution_count": null,
      "outputs": []
    },
    {
      "cell_type": "markdown",
      "source": [
        "2.  Filtering by Author: To see all commits made by you, use the `--author` flag. (Since you're the only one working on this, it will show everything)."
      ],
      "metadata": {
        "id": "Wc0rnhdkMMNm"
      }
    },
    {
      "cell_type": "code",
      "source": [
        "git log --oneline --author=\"Your Name\""
      ],
      "metadata": {
        "id": "xwd4KWsELA8d"
      },
      "execution_count": null,
      "outputs": []
    },
    {
      "cell_type": "markdown",
      "source": [
        "3.  Filtering by File: This is an invaluable debugging tool. Let's see every change ever made to your Python script. Note the `--` which separates the flags from the file paths."
      ],
      "metadata": {
        "id": "kiuqOrNhMQh_"
      }
    },
    {
      "cell_type": "code",
      "source": [
        "git log --oneline -- src/train.py"
      ],
      "metadata": {
        "id": "0CWf0teSMQyJ"
      },
      "execution_count": null,
      "outputs": []
    },
    {
      "cell_type": "markdown",
      "source": [
        "4.  To see the actual code changes for that file's history, combine it with the `-p` (patch) flag."
      ],
      "metadata": {
        "id": "OiYTgRJkMT0c"
      }
    },
    {
      "cell_type": "code",
      "source": [
        "git log -p -- src/train.py"
      ],
      "metadata": {
        "id": "9kZCHy9AMUH6"
      },
      "execution_count": null,
      "outputs": []
    },
    {
      "cell_type": "markdown",
      "source": [
        "> Type `q` to exit."
      ],
      "metadata": {
        "id": "XIN6p3ccPpyz"
      }
    },
    {
      "cell_type": "markdown",
      "source": [
        "### 3.6. Searching the History\n",
        "\n",
        "Sometimes your project history is long, and you need to find something specific.\n",
        "\n",
        "1. Searching by Commit Message (`--grep`): Let's find all the work you did related to documentation."
      ],
      "metadata": {
        "id": "Lb48L8Y5MYb1"
      }
    },
    {
      "cell_type": "code",
      "source": [
        "git log --oneline --grep=\"chore\""
      ],
      "metadata": {
        "id": "gLcqWq9lMY00"
      },
      "execution_count": null,
      "outputs": []
    },
    {
      "cell_type": "markdown",
      "source": [
        "2. Searching by Code Change (`-S`): This is even more powerful. It lets you find the exact moment a piece of code was introduced or removed. Let's find the commit where you first imported the `pandas` library."
      ],
      "metadata": {
        "id": "nSWL_r4eMiQe"
      }
    },
    {
      "cell_type": "code",
      "source": [
        "git log -S\"import pandas as pd\""
      ],
      "metadata": {
        "id": "moGjm7nZMl21"
      },
      "execution_count": null,
      "outputs": []
    },
    {
      "cell_type": "markdown",
      "source": [
        "> This command searches the actual content of your changes."
      ],
      "metadata": {
        "id": "1aOurkpEMrIT"
      }
    },
    {
      "cell_type": "markdown",
      "source": [
        "### 3.7. A Data Scientist's Workflow: The Bug Hunt\n",
        "\n",
        "We're going to simulate a short period of work where a bug is accidentally introduced. We'll then use our new log-searching skills to find exactly where the faulty logic was introduced."
      ],
      "metadata": {
        "id": "oPHplWW-NBWY"
      }
    },
    {
      "cell_type": "markdown",
      "source": [
        "#### Step 1: Introduce the Bug\n",
        "\n",
        "A colleague, trying to be helpful, decides to refactor the code to make the data path more generic, but makes a mistake.\n",
        "\n",
        "1.  In VS Code, open the `src/train.py` file.\n",
        "2.  Find the line at the bottom of the file that reads: `df = load_and_validate_data(\"data/sentiments.csv\")`.\n",
        "3.  Change it to use the incorrect path: `df = load_and_validate_data(\"sentiments.csv\")`.\n",
        "4.  Save the file.\n",
        "5.  Now, commit this change with a message that isn't very descriptive of the problem. This is a realistic scenario in collaborative projects."
      ],
      "metadata": {
        "id": "Ax326Jx4NNf9"
      }
    },
    {
      "cell_type": "code",
      "source": [
        "git diff"
      ],
      "metadata": {
        "id": "2CndtvtoMrvf"
      },
      "execution_count": null,
      "outputs": []
    },
    {
      "cell_type": "code",
      "source": [
        "git add src/train.py"
      ],
      "metadata": {
        "id": "UUWDNoPgNSKd"
      },
      "execution_count": null,
      "outputs": []
    },
    {
      "cell_type": "code",
      "source": [
        "git commit -m \"refactor: Update script path handling\""
      ],
      "metadata": {
        "id": "vBswKiVENSHp"
      },
      "execution_count": null,
      "outputs": []
    },
    {
      "cell_type": "markdown",
      "source": [
        "#### Step 2: Add \"Noise\" to the History\n",
        "\n",
        "To make our bug hunt more realistic, let's add another, unrelated commit. This creates \"noise\" in the history, making it less obvious which commit caused the problem.\n",
        "\n",
        "1.  In VS Code, open the `data/sentiments.csv` file.\n",
        "2.  Add these two new lines to the end of the file and save it.\n",
        "    ```csv\n",
        "    \"A true masterpiece of cinema\",1\n",
        "    \"I wanted my money back\",0\n",
        "    ```\n",
        "3.  In the terminal, commit this change."
      ],
      "metadata": {
        "id": "VXx5Xt6cNXI2"
      }
    },
    {
      "cell_type": "code",
      "source": [
        "git diff"
      ],
      "metadata": {
        "id": "9q-g7LzvNd0t"
      },
      "execution_count": null,
      "outputs": []
    },
    {
      "cell_type": "code",
      "source": [
        "git add data/sentiments.csv"
      ],
      "metadata": {
        "id": "bDUKe8wRNgpx"
      },
      "execution_count": null,
      "outputs": []
    },
    {
      "cell_type": "code",
      "source": [
        "git commit -m \"data: Add two new training examples\""
      ],
      "metadata": {
        "id": "madvvS4nNgl6"
      },
      "execution_count": null,
      "outputs": []
    },
    {
      "cell_type": "markdown",
      "source": [
        "#### Step 3: Discover the Problem\n",
        "\n",
        "Now, you return to the project and decide to run the script to test it.\n",
        "\n",
        "1.  In the VS Code terminal, run the script."
      ],
      "metadata": {
        "id": "ru8atWlZNqDT"
      }
    },
    {
      "cell_type": "code",
      "source": [
        "python src/train.py"
      ],
      "metadata": {
        "id": "dIV0I1dWNsBM"
      },
      "execution_count": null,
      "outputs": []
    },
    {
      "cell_type": "markdown",
      "source": [
        "2.  The script immediately crashes with an error.\n",
        "    ```\n",
        "    FileNotFoundError: [Errno 2] No such file or directory: 'sentiments.csv'\n",
        "    ```\n",
        "\n",
        "The error tells you the file can't be found, but you know the file exists at `data/sentiments.csv`. The script must be looking in the wrong place. The question is, when did this change happen?"
      ],
      "metadata": {
        "id": "lNrZzvKHNxZs"
      }
    },
    {
      "cell_type": "markdown",
      "source": [
        "#### Step 4: Find the Bug (Multiple Solutions)\n",
        "\n",
        "Here are several ways you could try to solve this mystery using your new skills.\n",
        "\n",
        "* The Direct Approach (`-S`)\n",
        "\n",
        "  You suspect the bug is in the line that contains the filename. Let's search for the exact moment the incorrect path `\"sentiments.csv\"` was introduced into the code."
      ],
      "metadata": {
        "id": "FqGD8ZO1N41T"
      }
    },
    {
      "cell_type": "code",
      "source": [
        "git log -S\"sentiments.csv\""
      ],
      "metadata": {
        "id": "2GxXRTYDNxvW"
      },
      "execution_count": null,
      "outputs": []
    },
    {
      "cell_type": "markdown",
      "source": [
        "  > Git will ignore all other commits and show you the exact one where that string was added (or removed). Unfortunately, in this example, the faulty commit did not touch the `sentiments.csv`. Thus, only the initial commit is returned.\n"
      ],
      "metadata": {
        "id": "PkFnfwPrOG07"
      }
    },
    {
      "cell_type": "markdown",
      "source": [
        "* The Broader Approach (-G)\n",
        "\n",
        "    The -G flag searches the content of the changes themselves (the added and removed lines). When searching for the simple string `sentiments.csv`, it finds any commit where that string appears in a + or - line of the diff. This is why it shows both the initial creation (where the line was added) and the later modification (where the line was changed)."
      ],
      "metadata": {
        "id": "x1PrJCApf9hE"
      }
    },
    {
      "cell_type": "markdown",
      "source": [
        "* The Focused Approach (`-p -- <path>`)\n",
        "\n",
        "  You know the problem is in `src/train.py`. Let's look at the entire history of just that file to see what changed recently."
      ],
      "metadata": {
        "id": "WuVePGqXfTc9"
      }
    },
    {
      "cell_type": "code",
      "source": [
        "git log -p -- src/train.py"
      ],
      "metadata": {
        "id": "kBX5Tn29OLFI"
      },
      "execution_count": null,
      "outputs": []
    },
    {
      "cell_type": "markdown",
      "source": [
        "  > By scrolling through the file's history, you'll quickly see the most recent commit where the path was changed, leading you to the same conclusion.\n",
        "\n",
        "* The Recent Approach (`--since`)\n",
        "\n",
        "  You know this bug is new because the script was working yesterday. You can narrow your search to only the commits made recently."
      ],
      "metadata": {
        "id": "Tcbs1ZvSOf6a"
      }
    },
    {
      "cell_type": "code",
      "source": [
        "git log --oneline --since=\"10 minutes ago\""
      ],
      "metadata": {
        "id": "IdsIgHYfOiyL"
      },
      "execution_count": null,
      "outputs": []
    },
    {
      "cell_type": "markdown",
      "source": [
        "  > This will likely show you only the two commits you just made. From this short list, the `\"refactor: Update script path handling\"` message is the most likely suspect. You can then inspect it with `git show <hash>` to confirm the faulty logic.\n",
        "\n",
        "* The General Approach (`--grep`)\n",
        "\n",
        "  You might not know the exact code that caused the bug, but you suspect it's related to how file paths are handled. You can search the commit messages for clues."
      ],
      "metadata": {
        "id": "gM3DvrMdOno2"
      }
    },
    {
      "cell_type": "code",
      "source": [
        "git log --oneline --grep=\"path\""
      ],
      "metadata": {
        "id": "VQyYq5wEOp8s"
      },
      "execution_count": null,
      "outputs": []
    },
    {
      "cell_type": "markdown",
      "source": [
        "  > This will instantly find the commit with \"path\" in its message. This method is less precise than searching the code itself but is very effective if your team writes good, descriptive commit messages."
      ],
      "metadata": {
        "id": "jlt9Qb5ZO5aW"
      }
    },
    {
      "cell_type": "markdown",
      "source": [
        "---\n",
        "## 4.&nbsp; Branching & Merging 🌿\n",
        "\n",
        "This section introduces one of Git's most powerful features: **branching**. Branches allow you to create independent lines of development to work on new features, fix bugs, or experiment with ideas without affecting your stable main codebase. The typical workflow is to create a branch, do your work, and then merge it back into the main project."
      ],
      "metadata": {
        "id": "ImQHapNfTqSy"
      }
    },
    {
      "cell_type": "markdown",
      "source": [
        "### 4.1. Creating Your First Branch\n",
        "\n",
        "Let's say you want to work on a new feature. The first step is to create a new branch to contain that work.\n",
        "\n",
        "1.  First, let's see which branch you're currently on."
      ],
      "metadata": {
        "id": "rAMyMhMUT2_4"
      }
    },
    {
      "cell_type": "code",
      "source": [
        "git branch"
      ],
      "metadata": {
        "id": "rNS5rYG9O7h6"
      },
      "execution_count": null,
      "outputs": []
    },
    {
      "cell_type": "markdown",
      "source": [
        "The output will show `* main`, indicating you are on the `main` branch.\n",
        "2.  Now, create a new branch called `feature/add-split-data-function`."
      ],
      "metadata": {
        "id": "ATHwdOp8T_hI"
      }
    },
    {
      "cell_type": "code",
      "source": [
        "git branch feature/add-split-data-function"
      ],
      "metadata": {
        "id": "AIXn7BPNT_9C"
      },
      "execution_count": null,
      "outputs": []
    },
    {
      "cell_type": "markdown",
      "source": [
        "3.  Run `git branch` again. You'll see the new branch has been created, but you are still on `main`."
      ],
      "metadata": {
        "id": "3-Rhoi8TULKr"
      }
    },
    {
      "cell_type": "markdown",
      "source": [
        "### 4.2. Switching Branches\n",
        "\n",
        "Creating a branch doesn't automatically move you to it. You need to \"switch\" to it.\n",
        "\n",
        "1.  Switch to your new feature branch."
      ],
      "metadata": {
        "id": "bbFQgaC8UU3D"
      }
    },
    {
      "cell_type": "code",
      "source": [
        "git switch feature/add-split-data-function"
      ],
      "metadata": {
        "id": "scf6-cRmULiM"
      },
      "execution_count": null,
      "outputs": []
    },
    {
      "cell_type": "markdown",
      "source": [
        "2.  You'll see a confirmation: `Switched to branch 'feature/add-split-data-function'`. Now, any commits you make will be on this new timeline."
      ],
      "metadata": {
        "id": "D4HEx7OcUapI"
      }
    },
    {
      "cell_type": "markdown",
      "source": [
        "### 4.3. Making Commits on a Branch\n",
        "\n",
        "Work on a branch is just like work on `main`. You make changes, stage them, and commit them.\n",
        "\n",
        "1.  In VS Code, open `src/train.py`.\n",
        "2.  Add the necessary import for this function at the top of the file."
      ],
      "metadata": {
        "id": "zzXy8drHUkIJ"
      }
    },
    {
      "cell_type": "code",
      "source": [
        "from sklearn.model_selection import train_test_split"
      ],
      "metadata": {
        "id": "XMIZwBWCUdBp"
      },
      "execution_count": null,
      "outputs": []
    },
    {
      "cell_type": "markdown",
      "source": [
        "3.  Now, add the `split_data` function to the script, placing it after the `load_and_validate_data` function. Save the file."
      ],
      "metadata": {
        "id": "LVoc-5hgUvwO"
      }
    },
    {
      "cell_type": "code",
      "source": [
        "def split_data(\n",
        "    df: pd.DataFrame,\n",
        ") -> tuple[pd.Series, pd.Series, pd.Series, pd.Series]:\n",
        "    \"\"\"\n",
        "    Splits the DataFrame into training and testing sets.\n",
        "    \"\"\"\n",
        "    try:\n",
        "        # Stratified split is preferred\n",
        "        X_train, X_test, y_train, y_test = train_test_split(\n",
        "            df[\"text\"], df[\"label\"], test_size=0.2, random_state=42, stratify=df[\"label\"]\n",
        "        )\n",
        "    except ValueError:\n",
        "        # Fallback if stratification fails (e.g., on very small datasets)\n",
        "        X_train, X_test, y_train, y_test = train_test_split(\n",
        "            df[\"text\"], df[\"label\"], test_size=0.2, random_state=42\n",
        "        )\n",
        "    return X_train, X_test, y_train, y_test"
      ],
      "metadata": {
        "id": "rzqFxy5OUw-s"
      },
      "execution_count": null,
      "outputs": []
    },
    {
      "cell_type": "markdown",
      "source": [
        "4.  In the terminal, commit this new function to your feature branch."
      ],
      "metadata": {
        "id": "RU_c4uQGU-DR"
      }
    },
    {
      "cell_type": "code",
      "source": [
        "git diff"
      ],
      "metadata": {
        "id": "9Se7Pv6vU-sr"
      },
      "execution_count": null,
      "outputs": []
    },
    {
      "cell_type": "code",
      "source": [
        "git add src/train.py"
      ],
      "metadata": {
        "id": "QNzqQ8ZyVDJJ"
      },
      "execution_count": null,
      "outputs": []
    },
    {
      "cell_type": "code",
      "source": [
        "git commit -m \"feat: Add function to split data into train and test sets\""
      ],
      "metadata": {
        "id": "73TflBGJVFSN"
      },
      "execution_count": null,
      "outputs": []
    },
    {
      "cell_type": "markdown",
      "source": [
        "### 4.4. Creating a Parallel History\n",
        "\n",
        "To see the full potential of branching, let's create a more realistic scenario where two branches have unique work.\n",
        "\n",
        "While you were working on the feature branch, other work might have continued on the `main` branch. Let's simulate this by adding our `README.md` file.\n",
        "\n",
        "1.  Switch back to the `main` branch."
      ],
      "metadata": {
        "id": "o8ArxOgcVRnK"
      }
    },
    {
      "cell_type": "code",
      "source": [
        "git switch main"
      ],
      "metadata": {
        "id": "AXCX1f5qVb1J"
      },
      "execution_count": null,
      "outputs": []
    },
    {
      "cell_type": "markdown",
      "source": [
        "2.  In VS Code, create a new file in the root of the project named `README.md`.\n",
        "3.  Add these instructions to this file and save it."
      ],
      "metadata": {
        "id": "Jj1EhOAdVvvF"
      }
    },
    {
      "cell_type": "code",
      "source": [
        "# Sentiment Analysis Project\n",
        "\n",
        "## Setup\n",
        "\n",
        "### Option 1: Python venv\n",
        "python -m venv .venv\n",
        "source .venv/bin/activate  # Windows: .venv\\Scripts\\activate\n",
        "pip install -r requirements.txt\n",
        "\n",
        "### Option 2: Conda\n",
        "conda create -n sentiment-env python=3.11 -y\n",
        "conda activate sentiment-env\n",
        "pip install -r requirements.txt\n",
        "\n",
        "## Train\n",
        "python src/train.py --data data/train.csv --out models/sentiment.joblib"
      ],
      "metadata": {
        "id": "MAJ4t61zVySk"
      },
      "execution_count": null,
      "outputs": []
    },
    {
      "cell_type": "markdown",
      "source": [
        "4.  Commit this new file to the `main` branch."
      ],
      "metadata": {
        "id": "d7RKcGJEWAJ3"
      }
    },
    {
      "cell_type": "code",
      "source": [
        "git add README.md"
      ],
      "metadata": {
        "id": "Gk3YoaoQWAwV"
      },
      "execution_count": null,
      "outputs": []
    },
    {
      "cell_type": "code",
      "source": [
        "git commit -m \"chore: Add README.md on creating environment and model\""
      ],
      "metadata": {
        "id": "8gFqQhhXWFlK"
      },
      "execution_count": null,
      "outputs": []
    },
    {
      "cell_type": "markdown",
      "source": [
        "Now, your project history has truly diverged. The `feature` branch has a commit that `main` doesn't, and `main` has a commit that the `feature` branch doesn't."
      ],
      "metadata": {
        "id": "KVqjQHIcWRWc"
      }
    },
    {
      "cell_type": "markdown",
      "source": [
        "### 4.5. Merging Your Work\n",
        "\n",
        "Once your feature is complete, you'll want to bring it back into your main project.\n",
        "\n",
        "1.  Ensure you are on the branch you want to merge into. We are already on `main`.\n",
        "2.  Now, run the `git merge` command, telling it which branch you want to merge."
      ],
      "metadata": {
        "id": "CbqZcQPcWh9M"
      }
    },
    {
      "cell_type": "code",
      "source": [
        "git merge feature/add-split-data-function"
      ],
      "metadata": {
        "id": "wC4dKhoVWWGI"
      },
      "execution_count": null,
      "outputs": []
    },
    {
      "cell_type": "markdown",
      "source": [
        "Because the changes were made to different files, Git performs the merge automatically and without any conflicts. Your `main` branch now contains both the `requirements.txt` file and the new `split_data` function.\n",
        "\n",
        "Your terminal will open a text editor (often Vim or Nano) and ask you to confirm a message for this merge commit. This message helps explain why these two branches were merged.\n",
        "\n",
        "The default message is usually fine. To save and exit the editor, simply type the following and press Enter:"
      ],
      "metadata": {
        "id": "GsuzKOaWWx1S"
      }
    },
    {
      "cell_type": "code",
      "source": [
        ":wq"
      ],
      "metadata": {
        "id": "MBpxaBxvW6TR"
      },
      "execution_count": null,
      "outputs": []
    },
    {
      "cell_type": "markdown",
      "source": [
        "> This sequence means: `:` to enter command mode, `w` to write (save the file), and `q` to quit."
      ],
      "metadata": {
        "id": "PUAg8JZiW8wm"
      }
    },
    {
      "cell_type": "markdown",
      "source": [
        "### 4.6. Visualising the Merged History\n",
        "\n",
        "Now that the histories have diverged and been joined back together, the `git log --graph` command can show its full potential.\n",
        "\n",
        "1. To create the Basic Graph, run `git log` with just the `--graph` flag."
      ],
      "metadata": {
        "id": "0gs6Bav6XDjm"
      }
    },
    {
      "cell_type": "code",
      "source": [
        "git log --graph"
      ],
      "metadata": {
        "id": "Jt4GNMBwW9HM"
      },
      "execution_count": null,
      "outputs": []
    },
    {
      "cell_type": "markdown",
      "source": [
        "You'll see the graph structure showing the merge, but the output is very verbose.\n",
        "2.  To make it more concise, let's add `--oneline` to clean it up."
      ],
      "metadata": {
        "id": "ASTzXnyDXHKp"
      }
    },
    {
      "cell_type": "code",
      "source": [
        "git log --graph --oneline"
      ],
      "metadata": {
        "id": "PYF4M98WXHcB"
      },
      "execution_count": null,
      "outputs": []
    },
    {
      "cell_type": "markdown",
      "source": [
        "This is much better. You can clearly see the two branches merging."
      ],
      "metadata": {
        "id": "GHL61Q7xXNHb"
      }
    },
    {
      "cell_type": "markdown",
      "source": [
        "### 4.7. Cleaning Up\n",
        "\n",
        "After a branch has been successfully merged, it's good practice to delete it.\n",
        "\n",
        "1.  Delete the feature branch using the `-d` (delete) flag."
      ],
      "metadata": {
        "id": "ihQcnzbPXTrS"
      }
    },
    {
      "cell_type": "code",
      "source": [
        "git branch -d feature/add-split-data-function"
      ],
      "metadata": {
        "id": "oCnyiZozXM7F"
      },
      "execution_count": null,
      "outputs": []
    },
    {
      "cell_type": "markdown",
      "source": [
        "### 4.8. A Handy Shortcut (creating and switching)\n",
        "\n",
        "Creating a branch and immediately switching to it is extremely common. There's a shortcut for that.\n",
        "\n",
        "1.  Let's create and switch to a new branch in one command using the `-c` (create) flag."
      ],
      "metadata": {
        "id": "FB3A7XZ-XeWt"
      }
    },
    {
      "cell_type": "code",
      "source": [
        "git switch -c docs/update-readme-style"
      ],
      "metadata": {
        "id": "R5xeuVv4XM2w"
      },
      "execution_count": null,
      "outputs": []
    },
    {
      "cell_type": "markdown",
      "source": [
        "This single command does the work of both `git branch` and `git switch`.\n",
        "\n",
        "2. We do not need it for the rest of the project, let's delete it."
      ],
      "metadata": {
        "id": "Mxczb1VOXiRW"
      }
    },
    {
      "cell_type": "code",
      "source": [
        "git branch -d docs/update-readme-style"
      ],
      "metadata": {
        "id": "qzwkftx_XjbJ"
      },
      "execution_count": null,
      "outputs": []
    },
    {
      "cell_type": "markdown",
      "source": [
        "Luckily, this command will fail. Git prevents the active branch from being deleted. Let's switch first back to `main`."
      ],
      "metadata": {
        "id": "1cvyS2oViioR"
      }
    },
    {
      "cell_type": "code",
      "source": [
        "git switch main"
      ],
      "metadata": {
        "id": "AxzT_rOdi1Uy"
      },
      "execution_count": null,
      "outputs": []
    },
    {
      "cell_type": "code",
      "source": [
        "git branch -d docs/update-readme-style"
      ],
      "metadata": {
        "id": "Q0aimVLLi1y6"
      },
      "execution_count": null,
      "outputs": []
    },
    {
      "cell_type": "markdown",
      "source": [
        "### 4.9. A Data Scientist's Workflow: Working on a Branch\n",
        "\n",
        "Now we'll use a new branch to add the rest of our project's logic. This workflow will finish with the most critical branching skill: resolving a merge conflict."
      ],
      "metadata": {
        "id": "mpfAJ5mhGevO"
      }
    },
    {
      "cell_type": "markdown",
      "source": [
        "#### Step 1: Create a New Branch\n",
        "\n",
        "1.  From your `main` branch, create and switch to a `feature` branch."
      ],
      "metadata": {
        "id": "7rRcFSeQG6e5"
      }
    },
    {
      "cell_type": "code",
      "source": [
        "git switch -c feature/add-training-logic"
      ],
      "metadata": {
        "id": "OnKirNIkGrg4"
      },
      "execution_count": null,
      "outputs": []
    },
    {
      "cell_type": "markdown",
      "source": [
        "#### Step 2: Add the `train_model` Function\n",
        "\n",
        "1.  Open `src/train.py` in VS Code. Add the new imports needed for this function to the top of the file."
      ],
      "metadata": {
        "id": "5Darj6ejHfsd"
      }
    },
    {
      "cell_type": "code",
      "source": [
        "from sklearn.feature_extraction.text import TfidfVectorizer\n",
        "from sklearn.linear_model import LogisticRegression\n",
        "from sklearn.pipeline import Pipeline, make_pipeline"
      ],
      "metadata": {
        "id": "35S8C_93HmOE"
      },
      "execution_count": null,
      "outputs": []
    },
    {
      "cell_type": "markdown",
      "source": [
        "2.  Add the `train_model` function to the script and save it."
      ],
      "metadata": {
        "id": "4hHpV_4mHo-V"
      }
    },
    {
      "cell_type": "code",
      "source": [
        "def train_model(X_train: pd.Series, y_train: pd.Series) -> Pipeline:\n",
        "    \"\"\"\n",
        "    Builds and trains a classification pipeline.\n",
        "    \"\"\"\n",
        "    clf_pipeline = make_pipeline(\n",
        "        TfidfVectorizer(min_df=1, ngram_range=(1, 2)),\n",
        "        LogisticRegression(max_iter=1000),\n",
        "    )\n",
        "    clf_pipeline.fit(X_train, y_train)\n",
        "    return clf_pipeline"
      ],
      "metadata": {
        "id": "16i1Q890Hpai"
      },
      "execution_count": null,
      "outputs": []
    },
    {
      "cell_type": "markdown",
      "source": [
        "3.  Commit the new function to your feature branch."
      ],
      "metadata": {
        "id": "gr4H63DjHx-c"
      }
    },
    {
      "cell_type": "code",
      "source": [
        "git diff"
      ],
      "metadata": {
        "id": "qAsNcEWZHySN"
      },
      "execution_count": null,
      "outputs": []
    },
    {
      "cell_type": "code",
      "source": [
        "git add src/train.py"
      ],
      "metadata": {
        "id": "BI5BMgiHH1ZY"
      },
      "execution_count": null,
      "outputs": []
    },
    {
      "cell_type": "code",
      "source": [
        "git commit -m \"feat: Add model training pipeline function\""
      ],
      "metadata": {
        "id": "66anBWFHH3OU"
      },
      "execution_count": null,
      "outputs": []
    },
    {
      "cell_type": "markdown",
      "source": [
        "#### Step 3: The Challenge\n",
        "\n",
        "Now it's your turn. Here is the code for the `save_model` and `main` functions. Your challenge is to add these to `src/train.py` in two separate, clean commits on your current branch. Remember to include the new imports (`os` and `dump` from `joblib`).\n",
        "\n",
        "Code for `save_model` function:"
      ],
      "metadata": {
        "id": "hciYFkVuH64R"
      }
    },
    {
      "cell_type": "code",
      "source": [
        "# New imports\n",
        "import os\n",
        "from joblib import dump\n",
        "\n",
        "# New function\n",
        "def save_model(model: Pipeline, model_path: str) -> None:\n",
        "    \"\"\"\n",
        "    Saves the trained model to a file.\n",
        "    \"\"\"\n",
        "    os.makedirs(os.path.dirname(model_path), exist_ok=True)\n",
        "    dump(model, model_path)\n",
        "    print(f\"Saved model to {model_path}\")"
      ],
      "metadata": {
        "id": "r2dgOge8IBEr"
      },
      "execution_count": null,
      "outputs": []
    },
    {
      "cell_type": "markdown",
      "source": [
        "Code for `main` function:"
      ],
      "metadata": {
        "id": "GWqoNduJIJte"
      }
    },
    {
      "cell_type": "code",
      "source": [
        "def main(data_path: str, model_path: str) -> None:\n",
        "    \"\"\"\n",
        "    Main workflow to load, train, evaluate, and save the model.\n",
        "    \"\"\"\n",
        "    df = load_and_validate_data(data_path)\n",
        "    X_train, X_test, y_train, y_test = split_data(df)\n",
        "    clf = train_model(X_train, y_train)\n",
        "\n",
        "    # Evaluate and print accuracy\n",
        "    acc = clf.score(X_test, y_test)\n",
        "    print(f\"Test accuracy: {acc:.3f}\")\n",
        "\n",
        "    save_model(clf, model_path)"
      ],
      "metadata": {
        "id": "_LAfhzF9IMH5"
      },
      "execution_count": null,
      "outputs": []
    },
    {
      "cell_type": "markdown",
      "source": [
        "Go ahead and make those two commits now."
      ],
      "metadata": {
        "id": "yPOvCXjyIRQQ"
      }
    },
    {
      "cell_type": "markdown",
      "source": [
        "#### Step 4: The \"Interruption\" on `main`\n",
        "\n",
        "While you were responsible for implementing the main functionalities, a colleague was responsible to add the call to `main()`, including adding the command-line argument handling to the script. Unfortunately, this colleague continued working on the `main` branch. Thus, both branches are performing changes on the same file.\n",
        "\n",
        "We'll now make the those changes to simulate what happens when two people work on the same file on different branches.\n",
        "\n",
        "1.  Switch back to the `main` branch."
      ],
      "metadata": {
        "id": "8CjSlZebIU4W"
      }
    },
    {
      "cell_type": "code",
      "source": [
        "git switch main"
      ],
      "metadata": {
        "id": "TssbhRfDIR0K"
      },
      "execution_count": null,
      "outputs": []
    },
    {
      "cell_type": "markdown",
      "source": [
        "  > You'll notice that all the functions you just created and commited have disappeared. We're now on the `main` branch, and those changes are on the `feature` branch.\n",
        "\n",
        "2.  Simulate the colleague's changes.\n",
        "\n",
        "  In VS Code, open `src/train.py`. Add the `argparse` import at the top, and replace the existing `if __name__ == \"__main__\":` block with the final version below. Then save the file."
      ],
      "metadata": {
        "id": "85Nmo6sAIgxD"
      }
    },
    {
      "cell_type": "code",
      "source": [
        "# Add this import at the top\n",
        "import argparse\n",
        "\n",
        "# Replace the old if __name__ block with this one\n",
        "if __name__ == \"__main__\":\n",
        "    parser = argparse.ArgumentParser()\n",
        "    parser.add_argument(\"--data\", default=\"data/sentiments.csv\")\n",
        "    parser.add_argument(\"--out\", default=\"models/sentiment.joblib\")\n",
        "\n",
        "    args: argparse.Namespace = parser.parse_args()\n",
        "    main(data_path=args.data, model_path=args.out)"
      ],
      "metadata": {
        "id": "BUgGG7S0IltF"
      },
      "execution_count": null,
      "outputs": []
    },
    {
      "cell_type": "markdown",
      "source": [
        "3.  Commit this change directly to `main`."
      ],
      "metadata": {
        "id": "f0ZCDqvWIrGd"
      }
    },
    {
      "cell_type": "code",
      "source": [
        "git diff"
      ],
      "metadata": {
        "id": "NnY7Y5ZpIrmV"
      },
      "execution_count": null,
      "outputs": []
    },
    {
      "cell_type": "code",
      "source": [
        "git add src/train.py"
      ],
      "metadata": {
        "id": "nXWvkxufIubX"
      },
      "execution_count": null,
      "outputs": []
    },
    {
      "cell_type": "code",
      "source": [
        "git commit -m \"feat: Add command-line argument parsing\""
      ],
      "metadata": {
        "id": "4G-aMx-PIwgN"
      },
      "execution_count": null,
      "outputs": []
    },
    {
      "cell_type": "markdown",
      "source": [
        "We have now created a conflict. Both the `main` branch and the `feature/add-training-logic` branch have made different changes to the `src/train.py` file."
      ],
      "metadata": {
        "id": "f6nqq1J7IuHj"
      }
    },
    {
      "cell_type": "markdown",
      "source": [
        "#### Step 5: The Merge Conflict\n",
        "\n",
        "Now, let's see what happens when we try to merge.\n",
        "\n",
        "1.  Make sure you're on the `main` branch (you should already be there).\n",
        "2.  Attempt to merge your feature branch."
      ],
      "metadata": {
        "id": "2GVpk5jFI9Ey"
      }
    },
    {
      "cell_type": "code",
      "source": [
        "git merge feature/add-training-logic"
      ],
      "metadata": {
        "id": "FCEykNAVI68u"
      },
      "execution_count": null,
      "outputs": []
    },
    {
      "cell_type": "markdown",
      "source": [
        "3.  Git will stop and report a conflict.\n",
        "    ```\n",
        "    Auto-merging src/train.py\n",
        "    CONFLICT (content): Merge conflict in src/train.py\n",
        "    Automatic merge failed; fix conflicts and then commit the result.\n",
        "    ```\n",
        "4.  Open `src/train.py` in VS Code. You will see the conflict markers that Git has added.\n",
        "  * `<<<<<<< HEAD`: This is the start of the conflicting block. Everything between this and `=======` is the version from your current branch (`main`).\n",
        "  * `=======`: This separates the two conflicting versions.\n",
        "  * `>>>>>>> feature/add-training-logic`: Everything between this and the separator is the version from the branch you are trying to merge."
      ],
      "metadata": {
        "id": "Rj2858XzJJCE"
      }
    },
    {
      "cell_type": "markdown",
      "source": [
        "#### Step 6: Resolving the Conflict\n",
        "\n",
        "Your job is to edit the file to create the final, correct version.\n",
        "\n",
        "1.  In VS Code, edit `src/train.py` to be the final version of the script. This involves combining the code from both branches: you need all the functions from the feature branch, and the final `argparse` logic from the `main` branch. Manually delete all the `<<<<<<<`, `=======`, and `>>>>>>>` markers.\n",
        "2.  Once the file looks correct and is saved, you must tell Git that the conflict is resolved. You do this by staging the corrected file."
      ],
      "metadata": {
        "id": "FiRxEdjWJWsh"
      }
    },
    {
      "cell_type": "code",
      "source": [
        "git add src/train.py"
      ],
      "metadata": {
        "id": "OCMte4BuJMu-"
      },
      "execution_count": null,
      "outputs": []
    },
    {
      "cell_type": "markdown",
      "source": [
        "3.  Now, finalise the merge by running `git commit`. You don't need a message this time."
      ],
      "metadata": {
        "id": "P2u7n17GJp2e"
      }
    },
    {
      "cell_type": "code",
      "source": [
        "git commit"
      ],
      "metadata": {
        "id": "E8J2TGQ9Jsep"
      },
      "execution_count": null,
      "outputs": []
    },
    {
      "cell_type": "markdown",
      "source": [
        "No -m flag needed here. Git will open a text editor with a pre-filled merge commit message. The default message is fine, so just save and close the file to complete the commit.\n",
        "\n",
        "Just type `:wq` and hit enter to commit."
      ],
      "metadata": {
        "id": "OPk4-Wr-Jusa"
      }
    },
    {
      "cell_type": "markdown",
      "source": [
        "#### Step 7: Clean Up Your Branches\n",
        "\n",
        "Your work is done and merged. Time to clean up.\n",
        "\n",
        "1.  Delete of the branch you created."
      ],
      "metadata": {
        "id": "_WBgbGkFLiUH"
      }
    },
    {
      "cell_type": "code",
      "source": [
        "git branch -d feature/add-training-logic"
      ],
      "metadata": {
        "id": "RH-JtIA1KEjf"
      },
      "execution_count": null,
      "outputs": []
    },
    {
      "cell_type": "markdown",
      "source": [
        "You have now successfully managed multiple lines of work, fixed a bug, added a feature, and resolved a real merge conflict — a complete professional Git workflow."
      ],
      "metadata": {
        "id": "C6REHIe9LukE"
      }
    },
    {
      "cell_type": "markdown",
      "source": [
        "### 4.10 Training the Model\n",
        "\n",
        "Now that you've built a whole pipeline, let's train the model."
      ],
      "metadata": {
        "id": "CttT9d3uQ2kp"
      }
    },
    {
      "cell_type": "markdown",
      "source": [
        "#### Option 1: Running with Default File Paths\n",
        "\n",
        "If your data is located at `data/sentiments.csv` and you want to save the model to `models/sentiment.joblib` (the default locations specified in the script), you can run it without any flags:"
      ],
      "metadata": {
        "id": "FIpJIhieRUSb"
      }
    },
    {
      "cell_type": "code",
      "source": [
        "python src/train.py"
      ],
      "metadata": {
        "id": "MqX5OTFbLwK0"
      },
      "execution_count": null,
      "outputs": []
    },
    {
      "cell_type": "markdown",
      "source": [
        "#### Option 2: Running with Custom File Paths\n",
        "\n",
        "If you want to use a different data file or save the model to a different location, you can use the `--data` and `--out` flags.\n",
        "\n",
        "For example, to use a data file at `path/to/your/data.csv` and save the model to `path/to/your/model.joblib`, you would run:"
      ],
      "metadata": {
        "id": "X56CGTpFRgHN"
      }
    },
    {
      "cell_type": "code",
      "source": [
        "python train.py --data path/to/your/data.csv --out path/to/your/model.joblib"
      ],
      "metadata": {
        "id": "QJ3TjSjHRp-d"
      },
      "execution_count": null,
      "outputs": []
    },
    {
      "cell_type": "markdown",
      "source": [
        "You can also use just one of the flags if you only want to override one of the default paths. For instance, to only specify a new data source, you'd do this:"
      ],
      "metadata": {
        "id": "dxXXgEtKRx3L"
      }
    },
    {
      "cell_type": "code",
      "source": [
        "python train.py --data path/to/your/data.csv"
      ],
      "metadata": {
        "id": "DGszjMPxRyec"
      },
      "execution_count": null,
      "outputs": []
    },
    {
      "cell_type": "markdown",
      "source": [
        "---\n",
        "## 5.&nbsp; Undoing Mistakes ↩️\n",
        "\n",
        "This section is your safety net. You will learn how to safely and effectively undo changes at every stage of the Git workflow. Mistakes are a normal part of development, and knowing how to fix them confidently is a crucial skill."
      ],
      "metadata": {
        "id": "pt1wbP9-R8Tb"
      }
    },
    {
      "cell_type": "markdown",
      "source": [
        "### 5.1. The Three Trees of Git (A Quick Recap)\n",
        "\n",
        "To understand how to undo mistakes, it's helpful to remember the three main areas where your code lives:\n",
        "\n",
        "1.  **The Working Directory:** The actual files and folders on your computer that you can see and edit.\n",
        "2.  **The Staging Area:** A \"drafting\" area where you prepare the specific changes you want to include in your next save point.\n",
        "3.  **The Repository (`.git` directory):** The permanent, local database where Git stores every committed version of your project.\n",
        "\n",
        "Undoing a mistake involves moving changes back from one area to another (e.g., from the Staging Area back to the Working Directory)."
      ],
      "metadata": {
        "id": "83oCOQNHSAFx"
      }
    },
    {
      "cell_type": "markdown",
      "source": [
        "### 5.2. Undoing Changes in the Working Directory\n",
        "\n",
        "This is the most common mistake. You've made some changes to a file, but you haven't staged them yet, and you decide you want to discard them completely."
      ],
      "metadata": {
        "id": "QdXYHfUlSIHp"
      }
    },
    {
      "cell_type": "markdown",
      "source": [
        "1.  In VS Code, open `src/train.py` and add a temporary, unwanted comment to the end of the file, then save it."
      ],
      "metadata": {
        "id": "TUC2Gl_bSRxq"
      }
    },
    {
      "cell_type": "code",
      "source": [
        "# This is a temporary change I do not want to keep."
      ],
      "metadata": {
        "id": "vcJKlTOHR9dK"
      },
      "execution_count": null,
      "outputs": []
    },
    {
      "cell_type": "markdown",
      "source": [
        "2.  Check your status. You'll see the file is `modified`."
      ],
      "metadata": {
        "id": "nX0ZLumRSWYS"
      }
    },
    {
      "cell_type": "code",
      "source": [
        "git status"
      ],
      "metadata": {
        "id": "rOyB6PNvSW8p"
      },
      "execution_count": null,
      "outputs": []
    },
    {
      "cell_type": "markdown",
      "source": [
        "3.  To discard these changes and restore the file to the version from your last commit, use the `git restore` command."
      ],
      "metadata": {
        "id": "1r5aQxmUSab0"
      }
    },
    {
      "cell_type": "code",
      "source": [
        "git restore src/train.py"
      ],
      "metadata": {
        "id": "iUvosd65Sa7P"
      },
      "execution_count": null,
      "outputs": []
    },
    {
      "cell_type": "markdown",
      "source": [
        "4.  Check your status again. Your working directory is now clean, and the temporary change in the file is gone."
      ],
      "metadata": {
        "id": "OFv8v5a4SgFQ"
      }
    },
    {
      "cell_type": "markdown",
      "source": [
        "### 5.3. Unstaging a File\n",
        "\n",
        "Sometimes you add a file to the staging area and then realise it wasn't ready to be committed. You don't want to discard the changes, just remove them from the staging area.\n",
        "\n",
        "1.  Add another temporary comment to `src/train.py` and save it.\n",
        "2.  Now, stage that change."
      ],
      "metadata": {
        "id": "fXbyyLHESkWl"
      }
    },
    {
      "cell_type": "code",
      "source": [
        "git add src/train.py"
      ],
      "metadata": {
        "id": "QgEbQwQMSguM"
      },
      "execution_count": null,
      "outputs": []
    },
    {
      "cell_type": "markdown",
      "source": [
        "3.  Check your status. The file is now in the \"Changes to be committed\" section.\n",
        "4.  To unstage it, use `git restore` with the `--staged` flag."
      ],
      "metadata": {
        "id": "ExL-zEnES4A9"
      }
    },
    {
      "cell_type": "code",
      "source": [
        "git restore --staged src/train.py"
      ],
      "metadata": {
        "id": "zi7OJMMQS449"
      },
      "execution_count": null,
      "outputs": []
    },
    {
      "cell_type": "markdown",
      "source": [
        "5.  Check your status again. The file has moved from the Staging Area back to the Working Directory. Your changes are still there, but they are no longer staged for the next commit. Before continuing, clean up this change:"
      ],
      "metadata": {
        "id": "vq7ay7vzS_tR"
      }
    },
    {
      "cell_type": "code",
      "source": [
        "git restore src/train.py"
      ],
      "metadata": {
        "id": "3wYm8RfpTGQB"
      },
      "execution_count": null,
      "outputs": []
    },
    {
      "cell_type": "markdown",
      "source": [
        "### 5.4. Amending the Last Commit\n",
        "\n",
        "This is for when you've already made a commit but quickly realise you made a small mistake, like a typo in the commit message or forgetting to include a file.\n",
        "\n",
        "**Fixing the Message:**\n",
        "\n",
        "1. Let's make a commit with a typo. Add some text to your `README.md` file in VS Code and save it."
      ],
      "metadata": {
        "id": "BkZnCGKAWFlg"
      }
    },
    {
      "cell_type": "code",
      "source": [
        "A new function was added."
      ],
      "metadata": {
        "id": "cRSbtQpoWGcs"
      },
      "execution_count": null,
      "outputs": []
    },
    {
      "cell_type": "markdown",
      "source": [
        "2.  Commit this change with a typo in the message."
      ],
      "metadata": {
        "id": "r5akmqfEWT_-"
      }
    },
    {
      "cell_type": "code",
      "source": [
        "git add README.md"
      ],
      "metadata": {
        "id": "2YLT1gvqWVgR"
      },
      "execution_count": null,
      "outputs": []
    },
    {
      "cell_type": "code",
      "source": [
        "git commit -m \"docs: Update README with new funciton info\""
      ],
      "metadata": {
        "id": "9vXtvCMcWZsD"
      },
      "execution_count": null,
      "outputs": []
    },
    {
      "cell_type": "markdown",
      "source": [
        "3.  You check the logs and notice the typo (\"funciton\"). To fix it without creating a new commit, use `commit --amend`."
      ],
      "metadata": {
        "id": "nlZL-gS8Wgfd"
      }
    },
    {
      "cell_type": "code",
      "source": [
        "git commit --amend -m \"docs: Update README with new function info\""
      ],
      "metadata": {
        "id": "UhsK31N_Wg7u"
      },
      "execution_count": null,
      "outputs": []
    },
    {
      "cell_type": "markdown",
      "source": [
        "This replaces the previous commit with the corrected one. Check the logs and you'll see the corrected spelling."
      ],
      "metadata": {
        "id": "k3uBCdSXWmER"
      }
    },
    {
      "cell_type": "markdown",
      "source": [
        "**Adding a Forgotten File:**\n",
        "\n",
        "Let's say you committed the `README.md` change, but you forgot to also include a change in `train.py`.\n",
        "* First, add a comment to the end of `train.py`.\n",
        "* Then, stage that file:"
      ],
      "metadata": {
        "id": "zCp7IICSWsAg"
      }
    },
    {
      "cell_type": "code",
      "source": [
        "git add src/train.py"
      ],
      "metadata": {
        "id": "cPeNepnM-Bh9"
      },
      "execution_count": null,
      "outputs": []
    },
    {
      "cell_type": "markdown",
      "source": [
        "* Now, run the amend command again, but this time add the `--no-edit` flag to keep the commit message the same."
      ],
      "metadata": {
        "id": "AXi18Q-09_Eq"
      }
    },
    {
      "cell_type": "code",
      "source": [
        "git commit --amend --no-edit"
      ],
      "metadata": {
        "id": "oJcQQ2ODWmiC"
      },
      "execution_count": null,
      "outputs": []
    },
    {
      "cell_type": "markdown",
      "source": [
        "This will add the newly staged file to your previous commit. Have a look at the logs to see what's happened."
      ],
      "metadata": {
        "id": "SMVFR61-XS8B"
      }
    },
    {
      "cell_type": "markdown",
      "source": [
        "### 5.5. Reverting a Commit\n",
        "\n",
        "`git revert` doesn't delete history; it creates a new commit that does the exact opposite of the old one.\n",
        "\n",
        "1.  First, find an old commit to revert. Run `git log --oneline` and find the hash.\n",
        "  > We're going to undo the last commit we made above, but this works for any commit.\n",
        "2.  Now, run `git revert` with that hash."
      ],
      "metadata": {
        "id": "0_6SBiBqZHJ3"
      }
    },
    {
      "cell_type": "code",
      "source": [
        "git revert <hash_for_readme_update_commit>"
      ],
      "metadata": {
        "id": "8IgqoJ1_XTPN"
      },
      "execution_count": null,
      "outputs": []
    },
    {
      "cell_type": "markdown",
      "source": [
        "3.  An editor will open, asking you to confirm the commit message for the revert. The default is usually fine, so just save and exit (`:wq`).\n",
        "4.  If you look at your log, you'll see a new commit at the top. If you look at `README.md`, your commented \"new function\" will be gone. The old commit is still in your history, but its effects have been undone.\n",
        "  > Have a look at both `README.md` and `train.py`, you'll see the changes you made have disappeared."
      ],
      "metadata": {
        "id": "CfKnCqgPZzL7"
      }
    },
    {
      "cell_type": "markdown",
      "source": [
        "### 5.6. Resetting Commits\n",
        "\n",
        "`git reset` is a powerful command that can rewrite your history by moving the branch pointer back to a previous commit. It can be destructive, so it should only be used on commits that you haven't shared with others.\n",
        "\n",
        "Let's create two temporary commits to experiment with.\n",
        "\n",
        "1. In VS Code, edit `README.md` by adding text at the bottom.\n",
        "  `temporary change 1`\n",
        "\n",
        "2. Commit this change"
      ],
      "metadata": {
        "id": "tTs4x_MdafOo"
      }
    },
    {
      "cell_type": "code",
      "source": [
        "git diff"
      ],
      "metadata": {
        "id": "an3dXATaZzhg"
      },
      "execution_count": null,
      "outputs": []
    },
    {
      "cell_type": "code",
      "source": [
        "git add README.md"
      ],
      "metadata": {
        "id": "uwDedsVVe47Y"
      },
      "execution_count": null,
      "outputs": []
    },
    {
      "cell_type": "code",
      "source": [
        "git commit -m \"temp: commit one\""
      ],
      "metadata": {
        "id": "2q4xrYJ3e9nT"
      },
      "execution_count": null,
      "outputs": []
    },
    {
      "cell_type": "markdown",
      "source": [
        "3. Make another change to `README.md` - `temporary change 2`.\n",
        "4. Commit this change."
      ],
      "metadata": {
        "id": "qkrIBVK2e7cI"
      }
    },
    {
      "cell_type": "code",
      "source": [
        "git diff"
      ],
      "metadata": {
        "id": "3bHf5iDwfD9z"
      },
      "execution_count": null,
      "outputs": []
    },
    {
      "cell_type": "code",
      "source": [
        "git add README.md"
      ],
      "metadata": {
        "id": "mzS6c6ZnfM7F"
      },
      "execution_count": null,
      "outputs": []
    },
    {
      "cell_type": "code",
      "source": [
        "git commit -m \"temp: commit two\""
      ],
      "metadata": {
        "id": "wIcMKcSBfM4S"
      },
      "execution_count": null,
      "outputs": []
    },
    {
      "cell_type": "markdown",
      "source": [
        "5.  Check your log with `git log --oneline`. You'll see the two temporary commits at the top.\n",
        "6.  `git reset` has three modes (`soft`, `mixed`, and `hard`). Let's try them.\n",
        "  > `HEAD~2` means \"two commits before the current one\".\n",
        "\n",
        "  6.1. `git reset --soft`: Moves the branch back, but leaves your changes in the Staging Area."
      ],
      "metadata": {
        "id": "D5AmoIGxfZiI"
      }
    },
    {
      "cell_type": "code",
      "source": [
        "git reset --soft HEAD~2"
      ],
      "metadata": {
        "id": "rzrS1fbrffVZ"
      },
      "execution_count": null,
      "outputs": []
    },
    {
      "cell_type": "markdown",
      "source": [
        "  Run `git status`. You'll see the changes from both temporary commits are now staged.\n",
        "\n",
        "  > Before the next step, let's recommit these changes to get back to our starting point for the next demonstration. Run the following:"
      ],
      "metadata": {
        "id": "VCGEMk3sftRg"
      }
    },
    {
      "cell_type": "code",
      "source": [
        "git commit -m \"temp: reset for next demo\""
      ],
      "metadata": {
        "id": "IKB6E3zefvNS"
      },
      "execution_count": null,
      "outputs": []
    },
    {
      "cell_type": "code",
      "source": [
        "git log --oneline"
      ],
      "metadata": {
        "id": "OttWR6d6f6Tz"
      },
      "execution_count": null,
      "outputs": []
    },
    {
      "cell_type": "markdown",
      "source": [
        "> Notice that the temporary commits have totally disappeared from the logs. They've been erased, like they ever existed."
      ],
      "metadata": {
        "id": "81tdcbyH_60_"
      }
    },
    {
      "cell_type": "markdown",
      "source": [
        "  6.2. `git reset --mixed` (the default): Moves the branch back and moves the changes to the Working Directory.\n",
        "\n",
        "  This time we'll use `HEAD~1` as we now only want to move back one commit, and not two.\n"
      ],
      "metadata": {
        "id": "y0oshfCWgUt5"
      }
    },
    {
      "cell_type": "code",
      "source": [
        "git reset --mixed HEAD~1"
      ],
      "metadata": {
        "id": "3a8HTkQKgXBu"
      },
      "execution_count": null,
      "outputs": []
    },
    {
      "cell_type": "markdown",
      "source": [
        "> You can also just write `git reset HEAD~1`\n",
        "\n",
        "Run `git status`. You'll see the changes are now unstaged in your working directory.\n",
        "\n",
        "> Now, let's reset again before our final, destructive demonstration. First, stage the changes and then commit them."
      ],
      "metadata": {
        "id": "QO-PoMsegnQT"
      }
    },
    {
      "cell_type": "code",
      "source": [
        "git add README.md"
      ],
      "metadata": {
        "id": "5aaZubKfgpGY"
      },
      "execution_count": null,
      "outputs": []
    },
    {
      "cell_type": "code",
      "source": [
        "git commit -m \"temp: reset for final demo\""
      ],
      "metadata": {
        "id": "PZe4H3m-gzoJ"
      },
      "execution_count": null,
      "outputs": []
    },
    {
      "cell_type": "markdown",
      "source": [
        "6.3. `git reset --hard` (Use with caution!): Moves the branch back and completely deletes all changes.\n",
        "\n",
        "First, let's double check the logs."
      ],
      "metadata": {
        "id": "2lQJfT2Wg4cG"
      }
    },
    {
      "cell_type": "code",
      "source": [
        "git log --oneline"
      ],
      "metadata": {
        "id": "xVmkK41KAwd9"
      },
      "execution_count": null,
      "outputs": []
    },
    {
      "cell_type": "markdown",
      "source": [
        "This looks like we only want to do the last temporary commit again."
      ],
      "metadata": {
        "id": "cEwGDxx6AwER"
      }
    },
    {
      "cell_type": "code",
      "source": [
        "git reset --hard HEAD~1"
      ],
      "metadata": {
        "id": "uEM-tgKRg78Q"
      },
      "execution_count": null,
      "outputs": []
    },
    {
      "cell_type": "markdown",
      "source": [
        "Run `git status` and look at `README.md`. The temporary commits and all their changes are gone."
      ],
      "metadata": {
        "id": "ghDDNls7hE7s"
      }
    },
    {
      "cell_type": "markdown",
      "source": [
        "### 5.7. Where to `revert` and `reset`\n",
        "\n",
        "* **Private/Local History:** Is the commit only on your machine? Feel free to `reset` it.\n",
        "\n",
        "* **Public/Shared History:** Has the commit been pushed and shared? You must `revert` it to avoid breaking history for everyone else.\n",
        "\n",
        "Think of it as the difference between editing a draft on your personal computer versus correcting a published article. `reset` local changes you haven't shared, and `revert` changes that have already been pushed to a shared branch."
      ],
      "metadata": {
        "id": "7Tn5sHdaBODg"
      }
    },
    {
      "cell_type": "markdown",
      "source": [
        "### 5.8. A Data Scientist's Workflow: Interruption and Recovery\n",
        "\n",
        "This scenario simulates a complex but realistic workflow. You'll start work on a feature, get interrupted by an urgent request, and then use your new skills to manage your work and recover from a serious mistake."
      ],
      "metadata": {
        "id": "0emJWZiShQlB"
      }
    },
    {
      "cell_type": "markdown",
      "source": [
        "#### Step 1: The Messy Workspace\n",
        "\n",
        "Let's start some new, complex work on a dedicated branch.\n",
        "\n",
        "1.  Create and switch to a new branch"
      ],
      "metadata": {
        "id": "-U642pNXDLw_"
      }
    },
    {
      "cell_type": "code",
      "source": [
        "git switch -c feature/new-complex-analysis"
      ],
      "metadata": {
        "id": "VP4FNhxwhFMv"
      },
      "execution_count": null,
      "outputs": []
    },
    {
      "cell_type": "markdown",
      "source": [
        "2.  Your work is currently broken and incomplete. In `src/train.py`, add a new, unfinished function."
      ],
      "metadata": {
        "id": "hMYQtB6QDbo5"
      }
    },
    {
      "cell_type": "code",
      "source": [
        "# a complex but unfinished function\n",
        "def new_feature():\n",
        "    x = 1/0 # this will break"
      ],
      "metadata": {
        "id": "7nBMyC0KDeDv"
      },
      "execution_count": null,
      "outputs": []
    },
    {
      "cell_type": "markdown",
      "source": [
        "3.  Your script also creates a temporary data file that you don't want to commit. In VS Code, create a new file named `temporary_data.csv`."
      ],
      "metadata": {
        "id": "Ah8fP4mzDjm-"
      }
    },
    {
      "cell_type": "markdown",
      "source": [
        "#### Step 2: The Interruption\n",
        "\n",
        "Suddenly, you get an urgent request to fix a bug on the `main` branch. You can't commit your broken code, and you need a clean workspace to switch branches.\n",
        "\n",
        "1.  Stash your changes. This will save your modifications to `train.py` on a shelf and clean your working directory."
      ],
      "metadata": {
        "id": "faWItydqDosp"
      }
    },
    {
      "cell_type": "code",
      "source": [
        "git stash"
      ],
      "metadata": {
        "id": "70oEdNhZDmj7"
      },
      "execution_count": null,
      "outputs": []
    },
    {
      "cell_type": "markdown",
      "source": [
        "`git stash` only affects tracked files. If you run `git status`, you'll see the untracked `temporary_data.csv` is still there.\n",
        "\n",
        "2.  Clean up untracked files. To get a truly clean workspace, use `git clean`. First, do a dry run with `-n` to see what would be deleted.\n",
        "\n"
      ],
      "metadata": {
        "id": "3DeXr2lOD-zQ"
      }
    },
    {
      "cell_type": "code",
      "source": [
        "git clean -n"
      ],
      "metadata": {
        "id": "Z0vwPRUFEDkZ"
      },
      "execution_count": null,
      "outputs": []
    },
    {
      "cell_type": "markdown",
      "source": [
        "It will show `Would remove temporary_data.csv`. Now, force the deletion with `-f`."
      ],
      "metadata": {
        "id": "HhLxmXhTESHp"
      }
    },
    {
      "cell_type": "code",
      "source": [
        "git clean -f"
      ],
      "metadata": {
        "id": "6aNVVwIlESeg"
      },
      "execution_count": null,
      "outputs": []
    },
    {
      "cell_type": "markdown",
      "source": [
        "Your directory is now completely clean."
      ],
      "metadata": {
        "id": "p9rN1x3GEXgn"
      }
    },
    {
      "cell_type": "markdown",
      "source": [
        "#### Step 3: The \"Urgent Fix\"\n",
        "\n",
        "Now you can safely switch branches to handle the urgent task.\n",
        "\n",
        "1.  Switch to the `main` branch."
      ],
      "metadata": {
        "id": "WgWhcIazEbgv"
      }
    },
    {
      "cell_type": "code",
      "source": [
        "git switch main"
      ],
      "metadata": {
        "id": "pcslG0B-EqT-"
      },
      "execution_count": null,
      "outputs": []
    },
    {
      "cell_type": "markdown",
      "source": [
        "2.  (We'll pretend you fixed the urgent bug and made a commit here on `main`)."
      ],
      "metadata": {
        "id": "PgZw3cMeEscS"
      }
    },
    {
      "cell_type": "markdown",
      "source": [
        "#### Step 4: The Recovery\n",
        "\n",
        "After handling the urgent task, you're ready to continue your feature development.\n",
        "\n",
        "1.  Switch back to your feature branch."
      ],
      "metadata": {
        "id": "u3Ww15B6Ez0I"
      }
    },
    {
      "cell_type": "code",
      "source": [
        "git switch feature/new-complex-analysis"
      ],
      "metadata": {
        "id": "_g-o44ocEs2J"
      },
      "execution_count": null,
      "outputs": []
    },
    {
      "cell_type": "markdown",
      "source": [
        "2.  Re-apply your work using `git stash pop` to take your changes from the shelf and apply them back to your working directory."
      ],
      "metadata": {
        "id": "MGd4-_XnE50p"
      }
    },
    {
      "cell_type": "code",
      "source": [
        "git stash pop"
      ],
      "metadata": {
        "id": "x6LP31nOE6fM"
      },
      "execution_count": null,
      "outputs": []
    },
    {
      "cell_type": "markdown",
      "source": [
        "Your \"broken\" changes are now back in `src/train.py`."
      ],
      "metadata": {
        "id": "nX1Yl1bwE-cr"
      }
    },
    {
      "cell_type": "markdown",
      "source": [
        "#### Step 5: The \"Catastrophic\" Mistake\n",
        "\n",
        "In a rush, you accidentally commit your broken code, then immediately regret it and decide to reset, but you use the destructive `--hard` flag."
      ],
      "metadata": {
        "id": "y_ej21_1FAgF"
      }
    },
    {
      "cell_type": "code",
      "source": [
        "git add src/train.py"
      ],
      "metadata": {
        "id": "LH0nmCnqFAFf"
      },
      "execution_count": null,
      "outputs": []
    },
    {
      "cell_type": "code",
      "source": [
        "git commit -m \"feat: Add very broken new feature\""
      ],
      "metadata": {
        "id": "mYgd1qkGFHKb"
      },
      "execution_count": null,
      "outputs": []
    },
    {
      "cell_type": "markdown",
      "source": [
        "2.  Now, reset the commit, accidentally deleting your work."
      ],
      "metadata": {
        "id": "ugdCwNv8FJRA"
      }
    },
    {
      "cell_type": "code",
      "source": [
        "git reset --hard HEAD~1"
      ],
      "metadata": {
        "id": "Jl7VIr2IFJpz"
      },
      "execution_count": null,
      "outputs": []
    },
    {
      "cell_type": "markdown",
      "source": [
        "Oh no! `git log` won't show the commit, and your changes are gone from the file. You've lost your work!"
      ],
      "metadata": {
        "id": "WG3Pt0B1FN6K"
      }
    },
    {
      "cell_type": "markdown",
      "source": [
        "#### Step 6: The Ultimate Safety Net: `reflog`\n",
        "\n",
        "`git reflog` is a log of every move `HEAD` has made. It's your personal safety net.\n",
        "\n",
        "1.  Run the reflog command."
      ],
      "metadata": {
        "id": "fLsvzUJrFR0M"
      }
    },
    {
      "cell_type": "code",
      "source": [
        "git reflog"
      ],
      "metadata": {
        "id": "n7JYLu_pFPod"
      },
      "execution_count": null,
      "outputs": []
    },
    {
      "cell_type": "markdown",
      "source": [
        "You will see a list of all your recent actions, including the \"lost\" commit. Find the commit hash for `\"feat: Add very broken new feature\"` in the reflog.\n",
        "\n",
        "2.  Restore the lost commit. You can now reset back to that \"lost\" commit using its hash from the reflog."
      ],
      "metadata": {
        "id": "bZODS7rJFYng"
      }
    },
    {
      "cell_type": "code",
      "source": [
        "git reset --hard <hash_of_lost_commit>"
      ],
      "metadata": {
        "id": "VT17IzOpFa2J"
      },
      "execution_count": null,
      "outputs": []
    },
    {
      "cell_type": "markdown",
      "source": [
        "You have now used a feature branch to work in isolation, `stash` to manage an interruption, `clean` to tidy up, and `reflog` to recover from a seemingly catastrophic mistake. You're equipped to handle almost any problem moment.\n",
        "\n",
        "Let's switch back to `main` and delete the faulty branch. We don't need the broken function anymore."
      ],
      "metadata": {
        "id": "-_n9qJg9FfbX"
      }
    },
    {
      "cell_type": "code",
      "source": [
        "git switch main"
      ],
      "metadata": {
        "id": "oKoW0v0wodXo"
      },
      "execution_count": null,
      "outputs": []
    },
    {
      "cell_type": "code",
      "source": [
        "git branch -d feature/new-complex-analysis"
      ],
      "metadata": {
        "id": "6UeD8garonit"
      },
      "execution_count": null,
      "outputs": []
    },
    {
      "cell_type": "markdown",
      "source": [
        "Again, Git will try to protect you from mistakenly deleting data:\n",
        "\n",
        "```\n",
        "error: the branch 'feature/new-complex-analysis' is not fully merged\n",
        "hint: If you are sure you want to delete it, run 'git branch -D feature/new-complex-analysis'\n",
        "hint: Disable this message with \"git config set advice.forceDeleteBranch false\"\n",
        "```\n",
        "\n",
        "Since the branch was not merged yet, Git warns us. However, we indeed want to delete the branch. Let's use `-D`."
      ],
      "metadata": {
        "id": "agqXLxCco2OX"
      }
    },
    {
      "cell_type": "code",
      "source": [
        "git branch -D feature/new-complex-analysis"
      ],
      "metadata": {
        "id": "LvrzY3y2pasN"
      },
      "execution_count": null,
      "outputs": []
    },
    {
      "cell_type": "markdown",
      "source": [
        "---\n",
        "## 6.&nbsp; Your Local Git Mastery 🚀\n",
        "\n",
        "Congratulations! You've successfully navigated the foundational concepts of Git, moving from an empty folder to a version-controlled project with a rich, searchable history. By typing out each command, you've started building the muscle memory that turns version control from a chore into a natural part of your coding workflow.\n",
        "\n",
        "### What You've Accomplished\n",
        "\n",
        "* **Setting Up Your Workspace:** You've configured Git with your identity and learned how to transform any folder into a repository with `git init`.\n",
        "* **The Core Workflow:** You've mastered the fundamental cycle of a data scientist: making changes, reviewing them with `git diff`, staging them with `git add`, and saving them permanently with `git commit`. You understand the critical role the staging area plays in crafting logical, \"atomic\" commits.\n",
        "* **Time Travel and Debugging:** You're no longer blind to your project's past. With `git log`, `git show`, and powerful search flags like `-S` and `--grep`, you can pinpoint exactly when and where a change was made, which is an indispensable skill for debugging faulty logic in an analysis script.\n",
        "* **Safe Experimentation:** Branching with `git branch` and `git switch` has given you the freedom to experiment fearlessly. You can now work on a new feature or a risky bug fix on an isolated branch, confident that your stable `main` branch remains untouched until you're ready to `git merge`.\n",
        "* **The Ultimate Safety Net:** Mistakes are inevitable, but now you know how to handle them professionally. Whether it's discarding a small change with `git restore`, fixing the last commit with `--amend`, safely undoing a past mistake with `git revert`, or even recovering \"lost\" work with the magic of `git reflog`, you have the tools to code with confidence."
      ],
      "metadata": {
        "id": "jZ8j7dUWF1s9"
      }
    },
    {
      "cell_type": "markdown",
      "source": [
        "---\n",
        "## 7.&nbsp; The Project Files 📁\n",
        "\n",
        "By the end of this notebook, this is what your files should look like:\n",
        "```\n",
        "sentiment-analysis-project/\n",
        "├── .gitignore\n",
        "├── README.md\n",
        "├── requirements.txt\n",
        "├── sentiments.csv\n",
        "└── src/\n",
        "    └── train.py\n",
        "```"
      ],
      "metadata": {
        "id": "g9HsYyyTHVmN"
      }
    },
    {
      "cell_type": "markdown",
      "source": [
        "### `.gitignore`"
      ],
      "metadata": {
        "id": "aEvJkafMH4DP"
      }
    },
    {
      "cell_type": "code",
      "source": [
        "*.env"
      ],
      "metadata": {
        "id": "CvEUU3-zH7Cs"
      },
      "execution_count": null,
      "outputs": []
    },
    {
      "cell_type": "markdown",
      "source": [
        "### `README.md`"
      ],
      "metadata": {
        "id": "zFUYzvk0H-ga"
      }
    },
    {
      "cell_type": "code",
      "source": [
        "# Sentiment Analysis Project\n",
        "\n",
        "## Setup\n",
        "\n",
        "### Option 1: Python venv\n",
        "python -m venv .venv\n",
        "source .venv/bin/activate  # Windows: .venv\\Scripts\\activate\n",
        "pip install -r requirements.txt\n",
        "\n",
        "### Option 2: Conda\n",
        "conda create -n sentiment-env python=3.11 -y\n",
        "conda activate sentiment-env\n",
        "pip install -r requirements.txt\n",
        "\n",
        "## Train\n",
        "python src/train.py --data data/train.csv --out models/sentiment.joblib"
      ],
      "metadata": {
        "id": "9enEI5wZIBh3"
      },
      "execution_count": null,
      "outputs": []
    },
    {
      "cell_type": "markdown",
      "source": [
        "### `requirements.txt`"
      ],
      "metadata": {
        "id": "8S4e3NekHlr5"
      }
    },
    {
      "cell_type": "code",
      "source": [
        "scikit-learn==1.7.1\n",
        "pandas==2.2.2\n",
        "joblib==1.2.0"
      ],
      "metadata": {
        "id": "NwNWfafHFhar"
      },
      "execution_count": null,
      "outputs": []
    },
    {
      "cell_type": "markdown",
      "source": [
        "### `sentiments.csv`"
      ],
      "metadata": {
        "id": "ZS_zKonxIGPe"
      }
    },
    {
      "cell_type": "code",
      "source": [
        "text,label\n",
        "\"I loved this film\",1\n",
        "\"Terrible acting and a weak plot\",0\n",
        "\"Surprisingly good\",1\n",
        "\"That was bad\",0\n",
        "\"Not my cup of tea\",0\n",
        "\"Absolutely brilliant from start to finish\",1\n",
        "\"Utter rubbish, I almost walked out\",0\n",
        "\"Decent story and lovely soundtrack\",1\n",
        "\"Boring and far too long\",0\n",
        "\"The cast were fantastic\",1\n",
        "\"The dialogue was cringeworthy\",0\n",
        "\"Exceeded my expectations\",1\n",
        "\"I would not recommend it\",0\n",
        "\"A charming, feel-good watch\",1\n",
        "\"Confusing plot and poor pacing\",0\n",
        "\"Kept me on the edge of my seat\",1\n",
        "\"Predictable with no surprises\",0\n",
        "\"Beautifully shot and well acted\",1\n",
        "\"The jokes fell flat\",0\n",
        "\"An instant favourite\",1\n",
        "\"Disappointing ending\",0\n",
        "\"A true masterpiece of cinema\",1\n",
        "\"I wanted my money back\",0"
      ],
      "metadata": {
        "id": "18LnzxGsIID_"
      },
      "execution_count": null,
      "outputs": []
    },
    {
      "cell_type": "markdown",
      "source": [
        "### `src/train.py`"
      ],
      "metadata": {
        "id": "CcpWqD5_ILop"
      }
    },
    {
      "cell_type": "code",
      "source": [
        "import argparse\n",
        "import os\n",
        "\n",
        "from joblib import dump\n",
        "import pandas as pd\n",
        "from sklearn.feature_extraction.text import TfidfVectorizer\n",
        "from sklearn.linear_model import LogisticRegression\n",
        "from sklearn.model_selection import train_test_split\n",
        "from sklearn.pipeline import Pipeline, make_pipeline\n",
        "\n",
        "def load_and_validate_data(data_path: str) -> pd.DataFrame:\n",
        "    \"\"\"\n",
        "    Loads data from a CSV and ensures it has the required columns.\n",
        "    \"\"\"\n",
        "    df = pd.read_csv(data_path)\n",
        "    if not {\"text\", \"label\"}.issubset(df.columns):\n",
        "        raise ValueError(\"CSV must contain 'text' and 'label' columns\")\n",
        "    return df\n",
        "\n",
        "def split_data(\n",
        "    df: pd.DataFrame,\n",
        ") -> tuple[pd.Series, pd.Series, pd.Series, pd.Series]:\n",
        "    \"\"\"\n",
        "    Splits the DataFrame into training and testing sets.\n",
        "    \"\"\"\n",
        "    try:\n",
        "        # Stratified split is preferred\n",
        "        X_train, X_test, y_train, y_test = train_test_split(\n",
        "            df[\"text\"], df[\"label\"], test_size=0.2, random_state=42, stratify=df[\"label\"]\n",
        "        )\n",
        "    except ValueError:\n",
        "        # Fallback if stratification fails (e.g., on very small datasets)\n",
        "        X_train, X_test, y_train, y_test = train_test_split(\n",
        "            df[\"text\"], df[\"label\"], test_size=0.2, random_state=42\n",
        "        )\n",
        "    return X_train, X_test, y_train, y_test\n",
        "\n",
        "def train_model(X_train: pd.Series, y_train: pd.Series) -> Pipeline:\n",
        "    \"\"\"\n",
        "    Builds and trains a classification pipeline.\n",
        "    \"\"\"\n",
        "    clf_pipeline = make_pipeline(\n",
        "        TfidfVectorizer(min_df=1, ngram_range=(1, 2)),\n",
        "        LogisticRegression(max_iter=1000),\n",
        "    )\n",
        "    clf_pipeline.fit(X_train, y_train)\n",
        "    return clf_pipeline\n",
        "\n",
        "def main(data_path: str, model_path: str) -> None:\n",
        "    \"\"\"\n",
        "    Main workflow to load, train, evaluate, and save the model.\n",
        "    \"\"\"\n",
        "    df = load_and_validate_data(data_path)\n",
        "    X_train, X_test, y_train, y_test = split_data(df)\n",
        "    clf = train_model(X_train, y_train)\n",
        "\n",
        "    # Evaluate and print accuracy\n",
        "    acc = clf.score(X_test, y_test)\n",
        "    print(f\"Test accuracy: {acc:.3f}\")\n",
        "\n",
        "    save_model(clf, model_path)\n",
        "\n",
        "def save_model(model: Pipeline, model_path: str) -> None:\n",
        "    \"\"\"\n",
        "    Saves the trained model to a file.\n",
        "    \"\"\"\n",
        "    os.makedirs(os.path.dirname(model_path), exist_ok=True)\n",
        "    dump(model, model_path)\n",
        "    print(f\"Saved model to {model_path}\")\n",
        "\n",
        "if __name__ == \"__main__\":\n",
        "    parser = argparse.ArgumentParser()\n",
        "    parser.add_argument(\"--data\", default=\"data/sentiments.csv\")\n",
        "    parser.add_argument(\"--out\", default=\"models/sentiment.joblib\")\n",
        "\n",
        "    args: argparse.Namespace = parser.parse_args()\n",
        "    main(data_path=args.data, model_path=args.out)"
      ],
      "metadata": {
        "id": "FcgeER8fIOxc"
      },
      "execution_count": null,
      "outputs": []
    }
  ]
}