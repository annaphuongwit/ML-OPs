{
  "nbformat": 4,
  "nbformat_minor": 0,
  "metadata": {
    "colab": {
      "provenance": [],
      "include_colab_link": true
    },
    "kernelspec": {
      "name": "python3",
      "display_name": "Python 3"
    },
    "language_info": {
      "name": "python"
    }
  },
  "cells": [
    {
      "cell_type": "markdown",
      "metadata": {
        "id": "view-in-github",
        "colab_type": "text"
      },
      "source": [
        "<a href=\"https://colab.research.google.com/github/annaphuongwit/ML-OPs/blob/main/04b_forking_and_pull_requests_collaboration.ipynb\" target=\"_parent\"><img src=\"https://colab.research.google.com/assets/colab-badge.svg\" alt=\"Open In Colab\"/></a>"
      ]
    },
    {
      "cell_type": "markdown",
      "source": [
        "# Forking and Pull Requests\n",
        "\n",
        "You've now mastered the daily workflow of managing a project both locally and on GitHub. The final step is to learn the industry-standard method for contributing to projects that you don't own. This is the Fork and Pull Request workflow, and it's essential for open-source contributions and working in large, professional teams."
      ],
      "metadata": {
        "id": "intro_section_pr"
      }
    },
    {
      "cell_type": "markdown",
      "source": [
        "## A Paired Exercise\n",
        "\n",
        "In this notebook, you will be paired with a partner. This exercise will simulate a real-world collaboration where you will act as both a Contributor to your partner's project and a Maintainer of your own.\n",
        "\n",
        "Your two roles:\n",
        "* As a Contributor: You will make improvements to your partner's project.\n",
        "* As a Maintainer: You will manage improvements on your own project.\n",
        "\n",
        "You will need your partner's:\n",
        "* GitHub username\n",
        "* the URL to their `sentiment-analysis-project` repository."
      ],
      "metadata": {
        "id": "tlht3NmitvlR"
      }
    },
    {
      "cell_type": "markdown",
      "source": [
        "---\n",
        "## 1.&nbsp; The Contributor Workflow 🧑‍💻\n",
        "\n",
        "In this section, you will work on your partner's project. The goal is to propose changes without directly editing their code. You do this by working on your own copy, or \"fork\"."
      ],
      "metadata": {
        "id": "contributor_header"
      }
    },
    {
      "cell_type": "markdown",
      "source": [
        "### 1.1. Forking Your Partner's Project\n",
        "\n",
        "1.  Open a web browser and navigate to your partner's `sentiment-analysis-project` repository on GitHub.\n",
        "2.  In the top-right corner of the page, click the Fork button. GitHub will ask where you want to fork the repository; select your own account.\n",
        "3.  This creates a complete, independent copy of your partner's project under your own GitHub account. You are now free to make changes to this copy without affecting the original."
      ],
      "metadata": {
        "id": "forking_steps"
      }
    },
    {
      "cell_type": "markdown",
      "source": [
        "### 1.2. Cloning Your Fork Locally\n",
        "\n",
        "1.  On the GitHub page for your new fork, click the green `<> Code` button and copy the SSH URL.\n",
        "2.  Open your terminal. Navigate to a location outside of your original project folder to avoid confusion. Now, clone your fork to your local machine."
      ],
      "metadata": {
        "id": "cloning_steps"
      }
    },
    {
      "cell_type": "code",
      "source": [
        "git clone <paste_the_ssh_url_of_your_fork>"
      ],
      "metadata": {
        "id": "clone_command"
      },
      "execution_count": null,
      "outputs": []
    },
    {
      "cell_type": "markdown",
      "source": [
        "### 1.3. The Challenge: Create at Least Three Pull Requests\n",
        "\n",
        "Your main task as a contributor is to explore your partner's project and find at least three things you can improve. You will create a separate pull request for each improvement.\n",
        "\n",
        "If you need some ideas, consider these suggestions:\n",
        "* **Documentation:** Improve the `README.md` by adding more detail, fixing a typo, or adding a new section.\n",
        "* **Code Comments:** Add comments or docstrings to a function in `src/train.py` to make it easier to understand.\n",
        "* **Error Handling:** Add a `try...except` block to a function (like `load_and_validate_data`) to handle potential errors more gracefully.\n",
        "* **New Feature:** Add a new, simple function to the script (e.g., a function that prints a summary of the dataset).\n",
        "\n",
        "For each improvement, you should follow this professional workflow:\n",
        "\n",
        "1.  Open your newly cloned fork in VS Code.\n",
        "2.  Create a new, descriptively named branch for your change. It's important to make each change on its own branch."
      ],
      "metadata": {
        "id": "challenge_pr"
      }
    },
    {
      "cell_type": "code",
      "source": [
        "git switch -c <branch-name>"
      ],
      "metadata": {
        "id": "switch_branch_pr"
      },
      "execution_count": null,
      "outputs": []
    },
    {
      "cell_type": "markdown",
      "source": [
        "3.  Make your code or documentation change in VS Code and save the file.\n",
        "4.  Commit the change with a clear message."
      ],
      "metadata": {
        "id": "pr_workflow_2"
      }
    },
    {
      "cell_type": "code",
      "source": [
        "git add <file-name(s)>"
      ],
      "metadata": {
        "id": "6Dy9CCdkwM4k"
      },
      "execution_count": null,
      "outputs": []
    },
    {
      "cell_type": "code",
      "source": [
        "git commit -m \"feat: A short description of your change\""
      ],
      "metadata": {
        "id": "commit_pr"
      },
      "execution_count": null,
      "outputs": []
    },
    {
      "cell_type": "markdown",
      "source": [
        "5.  Push the branch to your fork on GitHub."
      ],
      "metadata": {
        "id": "pr_workflow_3"
      }
    },
    {
      "cell_type": "code",
      "source": [
        "git push -u origin <branch-name>"
      ],
      "metadata": {
        "id": "push_pr"
      },
      "execution_count": null,
      "outputs": []
    },
    {
      "cell_type": "markdown",
      "source": [
        "6.  To open a Pull Request, go to your fork on GitHub. You should see a yellow banner with a button that says \"Compare & pull request\".\n",
        "7.  Write a professional PR message and submit it.\n",
        "8.  Repeat! To make your second (and third) pull request, switch back to your `main` branch (`git switch main`) and then start this workflow again from step 2."
      ],
      "metadata": {
        "id": "pr_workflow_4"
      }
    },
    {
      "cell_type": "markdown",
      "source": [
        "---\n",
        "## 2.&nbsp; The Maintainer Workflow 🛠️\n",
        "\n",
        "Now you will switch hats and become the Maintainer. In this section, you will work on your own original project and handle the pull requests submitted by your partner."
      ],
      "metadata": {
        "id": "maintainer_header"
      }
    },
    {
      "cell_type": "markdown",
      "source": [
        "### 2.1. Reviewing the Incoming Pull Requests\n",
        "\n",
        "1.  Navigate to **your** `sentiment-analysis-project` repository on GitHub.\n",
        "2.  Click on the \"Pull requests\" tab. You should see the PRs submitted by your partner waiting for your review."
      ],
      "metadata": {
        "id": "review_steps"
      }
    },
    {
      "cell_type": "markdown",
      "source": [
        "### 2.2. The Challenge: Handle Each PR Professionally\n",
        "\n",
        "Your task is to handle each of your partner's pull requests using the different actions we learned about in the live demonstration. You must:\n",
        "\n",
        "1.  Merge at least one PR:\n",
        "    * Find a PR you're happy with. Click on it.\n",
        "    * Go to the \"Files Changed\" tab to review the code.\n",
        "    * Go back to the \"Conversation\" tab, leave a positive comment (e.g., \"Thanks for this! Looks great.\"), and click the green \"Merge pull request\" button.\n",
        "\n",
        "2.  Request Changes on at least one PR:\n",
        "    * Find a PR that you think could be improved.\n",
        "    * In the \"Files Changed\" tab, find a line of code you want to comment on. Click the `+` icon that appears and leave a specific, constructive comment.\n",
        "    * When you're done leaving comments, click the \"Review changes\" button, select \"Request changes\", and submit your review.\n",
        "\n",
        "3.  (Optional) Close a PR:\n",
        "    * If your partner submitted a PR that is a duplicate or not something you want to add, you can practice politely explaining why in a comment and then clicking the \"Close pull request\" button."
      ],
      "metadata": {
        "id": "maintainer_challenge"
      }
    },
    {
      "cell_type": "markdown",
      "source": [
        "---\n",
        "## 3.&nbsp; Synchronising Your Local Project 🔄\n",
        "\n",
        "The changes you just merged are now on your main repository on GitHub, but they aren't on your local machine yet.\n",
        "\n",
        "1.  Go to the terminal for your original `sentiment-analysis-project` folder.\n",
        "2.  Run `git pull` to download the changes you just merged."
      ],
      "metadata": {
        "id": "sync_header"
      }
    },
    {
      "cell_type": "code",
      "source": [
        "git pull"
      ],
      "metadata": {
        "id": "final_pull"
      },
      "execution_count": null,
      "outputs": []
    },
    {
      "cell_type": "markdown",
      "source": [
        "3.  Open the project in VS Code and check the files. You should now see your partner's excellent contributions as part of your own project."
      ],
      "metadata": {
        "id": "final_verify"
      }
    },
    {
      "cell_type": "markdown",
      "source": [
        "---\n",
        "Congratulations! You have successfully completed a full, end-to-end professional collaboration. You have acted as both a contributor to an external project and a maintainer of your own, mastering the essential workflow of Fork -> Branch -> Change -> Push -> PR -> Review -> Merge -> Sync.\n",
        "\n",
        "This process is the backbone of open-source software and is used by development teams all over the world."
      ],
      "metadata": {
        "id": "conclusion_pr"
      }
    },
    {
      "cell_type": "code",
      "source": [],
      "metadata": {
        "id": "gKXpxmE-yXE8"
      },
      "execution_count": null,
      "outputs": []
    }
  ]
}